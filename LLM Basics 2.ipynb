{
 "cells": [
  {
   "cell_type": "markdown",
   "id": "9aaf6d75-5ddb-4f83-891e-451b33ffa8c7",
   "metadata": {},
   "source": [
    "# LLM Basics 2\n",
    "\n",
    "Date: 2023/11/16 -\n",
    "\n",
    "参考書: https://gihyo.jp/book/2023/978-4-297-13633-8"
   ]
  },
  {
   "cell_type": "markdown",
   "id": "4e365ad6-5d7e-482e-91df-e11d61b550e4",
   "metadata": {},
   "source": [
    "## 1.2 後続テキスト予測"
   ]
  },
  {
   "cell_type": "code",
   "execution_count": 1,
   "id": "7734b9d5-ea22-480a-9e7d-280f1e1a0c41",
   "metadata": {},
   "outputs": [
    {
     "name": "stderr",
     "output_type": "stream",
     "text": [
      "/Library/Frameworks/Python.framework/Versions/3.11/lib/python3.11/site-packages/tqdm/auto.py:21: TqdmWarning: IProgress not found. Please update jupyter and ipywidgets. See https://ipywidgets.readthedocs.io/en/stable/user_install.html\n",
      "  from .autonotebook import tqdm as notebook_tqdm\n",
      "You are using the legacy behaviour of the <class 'transformers.models.t5.tokenization_t5.T5Tokenizer'>. This means that tokens that come after special tokens will not be properly handled. We recommend you to read the related pull request available at https://github.com/huggingface/transformers/pull/24565\n"
     ]
    }
   ],
   "source": [
    "from transformers import AutoTokenizer\n",
    "import warnings\n",
    "warnings.filterwarnings('ignore')\n",
    "\n",
    "tokenizer = AutoTokenizer.from_pretrained('abeja/gpt2-large-japanese')"
   ]
  },
  {
   "cell_type": "code",
   "execution_count": 2,
   "id": "8a427a1c-7c78-4144-aa33-a5411259e0db",
   "metadata": {},
   "outputs": [
    {
     "data": {
      "text/plain": [
       "['▁', '今日', 'は', '天気', 'が良い', 'の', 'で']"
      ]
     },
     "execution_count": 2,
     "metadata": {},
     "output_type": "execute_result"
    }
   ],
   "source": [
    "text='今日は天気が良いので'\n",
    "tokenizer.tokenize(text)"
   ]
  },
  {
   "cell_type": "code",
   "execution_count": 3,
   "id": "4fb5885c-070b-41f5-b5cb-cec161fb5659",
   "metadata": {},
   "outputs": [
    {
     "name": "stdout",
     "output_type": "stream",
     "text": [
      "'NoneType' object has no attribute 'cadam32bit_grad_fp32'\n"
     ]
    }
   ],
   "source": [
    "from transformers import AutoModelForCausalLM\n",
    "\n",
    "model = AutoModelForCausalLM.from_pretrained('abeja/gpt2-large-japanese')"
   ]
  },
  {
   "cell_type": "code",
   "execution_count": 4,
   "id": "1f00f9b3-e6a8-4c77-882f-c11dcc6f0d6d",
   "metadata": {},
   "outputs": [
    {
     "data": {
      "text/plain": [
       "{'input_ids': tensor([[    7,  4639,    15, 17110, 16958,    10,    20,     2]]), 'attention_mask': tensor([[1, 1, 1, 1, 1, 1, 1, 1]])}"
      ]
     },
     "execution_count": 4,
     "metadata": {},
     "output_type": "execute_result"
    }
   ],
   "source": [
    "inputs = tokenizer(text, return_tensors='pt')\n",
    "inputs"
   ]
  },
  {
   "cell_type": "code",
   "execution_count": 5,
   "id": "54f4a459-0109-4422-b168-01967981b587",
   "metadata": {},
   "outputs": [
    {
     "data": {
      "text/plain": [
       "'今日は天気が良いので外でお弁当を食べました。'"
      ]
     },
     "execution_count": 5,
     "metadata": {},
     "output_type": "execute_result"
    }
   ],
   "source": [
    "def generate(inputs):\n",
    "    outputs = model.generate(\n",
    "        **inputs,\n",
    "        max_length=15,\n",
    "        pad_token_id=tokenizer.pad_token_id\n",
    "    )\n",
    "    \n",
    "    generated_text = tokenizer.decode(\n",
    "        outputs[0], skip_special_tokens=True\n",
    "    )\n",
    "\n",
    "    return generated_text\n",
    "\n",
    "generate(inputs)"
   ]
  },
  {
   "cell_type": "code",
   "execution_count": 6,
   "id": "f4ed48c6-0639-4aef-8eef-e342ab33ee7a",
   "metadata": {},
   "outputs": [
    {
     "data": {
      "text/plain": [
       "'明日は天気が悪いので今日のうちに 片付けてしまいたい'"
      ]
     },
     "execution_count": 6,
     "metadata": {},
     "output_type": "execute_result"
    }
   ],
   "source": [
    "text='明日は天気が悪いので'\n",
    "inputs = tokenizer(text, return_tensors='pt')\n",
    "generate(inputs)"
   ]
  },
  {
   "cell_type": "markdown",
   "id": "18962657-2728-4211-86ef-91e0b9c682cb",
   "metadata": {},
   "source": [
    "## 3.2.4 GPT"
   ]
  },
  {
   "cell_type": "code",
   "execution_count": 7,
   "id": "f43727f9-1cfb-487e-9b9a-91c3c6c0acae",
   "metadata": {},
   "outputs": [],
   "source": [
    "#!pip3 install 'transformers[ja,sentencepiece,torch]' pandas"
   ]
  },
  {
   "cell_type": "code",
   "execution_count": 8,
   "id": "c8d7ab04-a894-4ece-b6cb-c1fe117e80cf",
   "metadata": {},
   "outputs": [],
   "source": [
    "from transformers import pipeline"
   ]
  },
  {
   "cell_type": "code",
   "execution_count": 9,
   "id": "81f23ff9-6c82-45e4-a67f-af86525afe52",
   "metadata": {},
   "outputs": [
    {
     "name": "stderr",
     "output_type": "stream",
     "text": [
      "Xformers is not installed correctly. If you want to use memory_efficient_attention to accelerate training use the following command to install Xformers\n",
      "pip install xformers.\n",
      "Setting `pad_token_id` to `eos_token_id`:2 for open-end generation.\n"
     ]
    },
    {
     "data": {
      "text/plain": [
       "[{'generated_text': '日本で一番高い山は富士山の3合目ですが・・・(笑) お風呂からあがってくると、お風呂から上がった時とはまた違う気持ちよさがありますね。 今では、1人で入るのもドキドキなくらい'}]"
      ]
     },
     "execution_count": 9,
     "metadata": {},
     "output_type": "execute_result"
    }
   ],
   "source": [
    "generator = pipeline(\n",
    "    'text-generation', model='abeja/gpt2-large-japanese'\n",
    ")\n",
    "\n",
    "outputs = generator('日本で一番高い山は')\n",
    "outputs"
   ]
  },
  {
   "cell_type": "markdown",
   "id": "68fd0662-d406-41c4-b7f2-f7338d4f5309",
   "metadata": {},
   "source": [
    "18Gbytes RAMのMacBook Airでも処理がしんどくなってきた。この辺でGoogle Colab利用に切り替えるか。"
   ]
  },
  {
   "cell_type": "code",
   "execution_count": null,
   "id": "8c83d7d7-3372-41eb-ad45-815afa6b1efe",
   "metadata": {},
   "outputs": [],
   "source": []
  }
 ],
 "metadata": {
  "kernelspec": {
   "display_name": "Python 3 (ipykernel)",
   "language": "python",
   "name": "python3"
  },
  "language_info": {
   "codemirror_mode": {
    "name": "ipython",
    "version": 3
   },
   "file_extension": ".py",
   "mimetype": "text/x-python",
   "name": "python",
   "nbconvert_exporter": "python",
   "pygments_lexer": "ipython3",
   "version": "3.11.4"
  }
 },
 "nbformat": 4,
 "nbformat_minor": 5
}
