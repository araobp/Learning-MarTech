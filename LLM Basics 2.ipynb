{
 "cells": [
  {
   "cell_type": "markdown",
   "id": "9aaf6d75-5ddb-4f83-891e-451b33ffa8c7",
   "metadata": {},
   "source": [
    "# LLM Basics 2\n",
    "\n",
    "Date: 2023/11/16 -\n",
    "\n",
    "参考書: https://gihyo.jp/book/2023/978-4-297-13633-8"
   ]
  },
  {
   "cell_type": "markdown",
   "id": "4e365ad6-5d7e-482e-91df-e11d61b550e4",
   "metadata": {},
   "source": [
    "## 1.2 後続テキスト予測"
   ]
  },
  {
   "cell_type": "code",
   "execution_count": 15,
   "id": "7734b9d5-ea22-480a-9e7d-280f1e1a0c41",
   "metadata": {},
   "outputs": [],
   "source": [
    "from transformers import AutoTokenizer\n",
    "import warnings\n",
    "warnings.filterwarnings('ignore')\n",
    "\n",
    "tokenizer = AutoTokenizer.from_pretrained('abeja/gpt2-large-japanese')"
   ]
  },
  {
   "cell_type": "code",
   "execution_count": 16,
   "id": "8a427a1c-7c78-4144-aa33-a5411259e0db",
   "metadata": {},
   "outputs": [
    {
     "data": {
      "text/plain": [
       "['▁', '今日', 'は', '天気', 'が良い', 'の', 'で']"
      ]
     },
     "execution_count": 16,
     "metadata": {},
     "output_type": "execute_result"
    }
   ],
   "source": [
    "text='今日は天気が良いので'\n",
    "tokenizer.tokenize(text)"
   ]
  },
  {
   "cell_type": "code",
   "execution_count": 17,
   "id": "4fb5885c-070b-41f5-b5cb-cec161fb5659",
   "metadata": {},
   "outputs": [],
   "source": [
    "from transformers import AutoModelForCausalLM\n",
    "\n",
    "model = AutoModelForCausalLM.from_pretrained('abeja/gpt2-large-japanese')"
   ]
  },
  {
   "cell_type": "code",
   "execution_count": 18,
   "id": "1f00f9b3-e6a8-4c77-882f-c11dcc6f0d6d",
   "metadata": {},
   "outputs": [
    {
     "data": {
      "text/plain": [
       "{'input_ids': tensor([[    7,  4639,    15, 17110, 16958,    10,    20,     2]]), 'attention_mask': tensor([[1, 1, 1, 1, 1, 1, 1, 1]])}"
      ]
     },
     "execution_count": 18,
     "metadata": {},
     "output_type": "execute_result"
    }
   ],
   "source": [
    "inputs = tokenizer(text, return_tensors='pt')\n",
    "inputs"
   ]
  },
  {
   "cell_type": "code",
   "execution_count": 19,
   "id": "54f4a459-0109-4422-b168-01967981b587",
   "metadata": {},
   "outputs": [
    {
     "data": {
      "text/plain": [
       "'今日は天気が良いので外でお弁当を食べました。'"
      ]
     },
     "execution_count": 19,
     "metadata": {},
     "output_type": "execute_result"
    }
   ],
   "source": [
    "def generate(inputs):\n",
    "    outputs = model.generate(\n",
    "        **inputs,\n",
    "        max_length=15,\n",
    "        pad_token_id=tokenizer.pad_token_id\n",
    "    )\n",
    "    \n",
    "    generated_text = tokenizer.decode(\n",
    "        outputs[0], skip_special_tokens=True\n",
    "    )\n",
    "\n",
    "    return generated_text\n",
    "\n",
    "generate(inputs)"
   ]
  },
  {
   "cell_type": "code",
   "execution_count": 20,
   "id": "f4ed48c6-0639-4aef-8eef-e342ab33ee7a",
   "metadata": {},
   "outputs": [
    {
     "data": {
      "text/plain": [
       "'明日は天気が悪いので今日のうちに 片付けてしまいたい'"
      ]
     },
     "execution_count": 20,
     "metadata": {},
     "output_type": "execute_result"
    }
   ],
   "source": [
    "text='明日は天気が悪いので'\n",
    "inputs = tokenizer(text, return_tensors='pt')\n",
    "generate(inputs)"
   ]
  },
  {
   "cell_type": "code",
   "execution_count": null,
   "id": "9c0e7864-9b3c-4023-80d9-4ae1a6ffc1fa",
   "metadata": {},
   "outputs": [],
   "source": []
  }
 ],
 "metadata": {
  "kernelspec": {
   "display_name": "Python 3 (ipykernel)",
   "language": "python",
   "name": "python3"
  },
  "language_info": {
   "codemirror_mode": {
    "name": "ipython",
    "version": 3
   },
   "file_extension": ".py",
   "mimetype": "text/x-python",
   "name": "python",
   "nbconvert_exporter": "python",
   "pygments_lexer": "ipython3",
   "version": "3.11.4"
  }
 },
 "nbformat": 4,
 "nbformat_minor": 5
}
