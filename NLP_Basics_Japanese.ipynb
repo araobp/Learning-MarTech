{
 "cells": [
  {
   "cell_type": "markdown",
   "id": "df9aeddd-45e7-4e2c-8dcf-b932d5632024",
   "metadata": {},
   "source": [
    "# NLP Basics 日本語\n",
    "\n",
    "Date: 2023/11/07\n",
    "\n",
    "Reference: https://realpython.com/nltk-nlp-python/\n",
    "Reference: https://www.nltk.org/book-jp"
   ]
  },
  {
   "cell_type": "code",
   "execution_count": 1,
   "id": "4861ba57-2b88-4893-88e7-818150f5459c",
   "metadata": {},
   "outputs": [],
   "source": [
    "import nltk"
   ]
  },
  {
   "cell_type": "code",
   "execution_count": 2,
   "id": "0b0f6afa-a5be-4c6f-bf3e-157eccb841a8",
   "metadata": {},
   "outputs": [],
   "source": [
    "# Bing Chatへ「日本語３０００文字で自然言語処理とは何か説明してください。」と質問したら以下の回答。\n",
    "\n",
    "example_string = '''\\\n",
    "自然言語処理とは、人間が日常的に使用する言語をコンピューターが理解し、処理する技術です。自然言語処理は、テキストデータの分析、音声認識、機械翻訳、対話型AIチャットボット、検索エンジン、テキストマイニングなど、多岐にわたる分野で活用されています。\n",
    "自然言語処理は、自然言語をコンピューターが理解できるようにするため、自然言語の曖昧さや文脈を考慮する必要があります。自然言語処理の仕組みは、機械可読目録、コーパス、形態素解析、構文解析、意味解析、文脈解析などの手順で構成されます。\n",
    "自然言語処理は、ビジネスや社会の多くの分野で注目されており、業務の効率化や人材不足の解消などに貢献しています。今後も、自然言語処理の進化によって、より高度な自然言語処理が可能になることが期待されています。\n",
    "'''"
   ]
  },
  {
   "cell_type": "code",
   "execution_count": 3,
   "id": "01f25dda-3824-4ddf-a046-85c8532fff05",
   "metadata": {},
   "outputs": [
    {
     "data": {
      "text/plain": [
       "'自然言語処理とは、人間が日常的に使用する言語をコンピューターが理解し、処理する技術です。自然言語処理は、テキストデータの分析、音声認識、機械翻訳、対話型AIチャットボット、検索エンジン、テキストマイニングなど、多岐にわたる分野で活用されています。\\n自然言語処理は、自然言語をコンピューターが理解できるようにするため、自然言語の曖昧さや文脈を考慮する必要があります。自然言語処理の仕組みは、機械可読目録、コーパス、形態素解析、構文解析、意味解析、文脈解析などの手順で構成されます。\\n自然言語処理は、ビジネスや社会の多くの分野で注目されており、業務の効率化や人材不足の解消などに貢献しています。今後も、自然言語処理の進化によって、より高度な自然言語処理が可能になることが期待されています。\\n'"
      ]
     },
     "execution_count": 3,
     "metadata": {},
     "output_type": "execute_result"
    }
   ],
   "source": [
    "example_string"
   ]
  },
  {
   "cell_type": "code",
   "execution_count": 4,
   "id": "76134e38-261f-43e8-b0eb-188bf68a13ff",
   "metadata": {},
   "outputs": [
    {
     "data": {
      "text/plain": [
       "'utf-8'"
      ]
     },
     "execution_count": 4,
     "metadata": {},
     "output_type": "execute_result"
    }
   ],
   "source": [
    "#!pip3 install chardet\n",
    "import chardet\n",
    "\n",
    "encoding = chardet.detect(example_string.encode())['encoding']\n",
    "encoding"
   ]
  },
  {
   "cell_type": "markdown",
   "id": "26aa36de-4584-45f3-8dbe-bce91282141d",
   "metadata": {},
   "source": [
    "## Tokenize : sentences"
   ]
  },
  {
   "cell_type": "code",
   "execution_count": 5,
   "id": "740c97bd-701f-40f4-97bd-3cf3447f2638",
   "metadata": {},
   "outputs": [],
   "source": [
    "from nltk.tokenize import sent_tokenize, word_tokenize\n",
    "sentences = sent_tokenize(example_string)"
   ]
  },
  {
   "cell_type": "code",
   "execution_count": 6,
   "id": "4e7fbbfa-0f51-415d-bda3-faa70a24fa59",
   "metadata": {},
   "outputs": [
    {
     "data": {
      "text/plain": [
       "['自然言語処理とは、人間が日常的に使用する言語をコンピューターが理解し、処理する技術です。自然言語処理は、テキストデータの分析、音声認識、機械翻訳、対話型AIチャットボット、検索エンジン、テキストマイニングなど、多岐にわたる分野で活用されています。\\n自然言語処理は、自然言語をコンピューターが理解できるようにするため、自然言語の曖昧さや文脈を考慮する必要があります。自然言語処理の仕組みは、機械可読目録、コーパス、形態素解析、構文解析、意味解析、文脈解析などの手順で構成されます。\\n自然言語処理は、ビジネスや社会の多くの分野で注目されており、業務の効率化や人材不足の解消などに貢献しています。今後も、自然言語処理の進化によって、より高度な自然言語処理が可能になることが期待されています。']"
      ]
     },
     "execution_count": 6,
     "metadata": {},
     "output_type": "execute_result"
    }
   ],
   "source": [
    "sentences"
   ]
  },
  {
   "cell_type": "code",
   "execution_count": 7,
   "id": "067a069c-2cef-4d6b-8308-8f22416cc809",
   "metadata": {},
   "outputs": [],
   "source": [
    "def print_sentences(sentences):\n",
    "    i = 1\n",
    "    for s in sentences:\n",
    "        print('{}. {}'.format(i, s))\n",
    "        i += 1"
   ]
  },
  {
   "cell_type": "code",
   "execution_count": 8,
   "id": "f472cdae-2d1f-46db-b69d-36b33bdbaf9e",
   "metadata": {},
   "outputs": [
    {
     "name": "stdout",
     "output_type": "stream",
     "text": [
      "1. 自然言語処理とは、人間が日常的に使用する言語をコンピューターが理解し、処理する技術です。自然言語処理は、テキストデータの分析、音声認識、機械翻訳、対話型AIチャットボット、検索エンジン、テキストマイニングなど、多岐にわたる分野で活用されています。\n",
      "自然言語処理は、自然言語をコンピューターが理解できるようにするため、自然言語の曖昧さや文脈を考慮する必要があります。自然言語処理の仕組みは、機械可読目録、コーパス、形態素解析、構文解析、意味解析、文脈解析などの手順で構成されます。\n",
      "自然言語処理は、ビジネスや社会の多くの分野で注目されており、業務の効率化や人材不足の解消などに貢献しています。今後も、自然言語処理の進化によって、より高度な自然言語処理が可能になることが期待されています。\n"
     ]
    }
   ],
   "source": [
    "print_sentences(sentences)"
   ]
  },
  {
   "cell_type": "code",
   "execution_count": 9,
   "id": "b946c5cd-258b-42a5-a244-34d4883a776e",
   "metadata": {},
   "outputs": [],
   "source": [
    "# 日本語用正規表現Toknizer\n",
    "\n",
    "jp_sent_tokenizer = nltk.RegexpTokenizer(u'[^　「」！？。\\n\\r]*[！？。]')"
   ]
  },
  {
   "cell_type": "code",
   "execution_count": 10,
   "id": "e2cba81a-7ce2-4a94-b566-12ed435bd838",
   "metadata": {},
   "outputs": [
    {
     "data": {
      "text/plain": [
       "nltk.tokenize.regexp.RegexpTokenizer"
      ]
     },
     "execution_count": 10,
     "metadata": {},
     "output_type": "execute_result"
    }
   ],
   "source": [
    "type(jp_sent_tokenizer)"
   ]
  },
  {
   "cell_type": "code",
   "execution_count": 11,
   "id": "2ef8aed3-8883-47c4-bfed-3d9560aa680e",
   "metadata": {},
   "outputs": [],
   "source": [
    "sentences = jp_sent_tokenizer.tokenize(example_string)"
   ]
  },
  {
   "cell_type": "code",
   "execution_count": 12,
   "id": "c1195fc6-4476-49ba-ab37-f8b6ba3085df",
   "metadata": {},
   "outputs": [
    {
     "name": "stdout",
     "output_type": "stream",
     "text": [
      "1. 自然言語処理とは、人間が日常的に使用する言語をコンピューターが理解し、処理する技術です。\n",
      "2. 自然言語処理は、テキストデータの分析、音声認識、機械翻訳、対話型AIチャットボット、検索エンジン、テキストマイニングなど、多岐にわたる分野で活用されています。\n",
      "3. 自然言語処理は、自然言語をコンピューターが理解できるようにするため、自然言語の曖昧さや文脈を考慮する必要があります。\n",
      "4. 自然言語処理の仕組みは、機械可読目録、コーパス、形態素解析、構文解析、意味解析、文脈解析などの手順で構成されます。\n",
      "5. 自然言語処理は、ビジネスや社会の多くの分野で注目されており、業務の効率化や人材不足の解消などに貢献しています。\n",
      "6. 今後も、自然言語処理の進化によって、より高度な自然言語処理が可能になることが期待されています。\n"
     ]
    }
   ],
   "source": [
    "print_sentences(sentences)"
   ]
  },
  {
   "cell_type": "markdown",
   "id": "56bbab67-f007-4a32-b114-6e6b258851d0",
   "metadata": {},
   "source": [
    "## Tokenize: words"
   ]
  },
  {
   "cell_type": "code",
   "execution_count": 13,
   "id": "0c52dfe1-aa6e-4b90-8baf-81b19e29ebe8",
   "metadata": {},
   "outputs": [
    {
     "data": {
      "text/plain": [
       "['自然言語処理とは、人間が日常的に使用する言語をコンピューターが理解し、処理する技術です。自然言語処理は、テキストデータの分析、音声認識、機械翻訳、対話型AIチャットボット、検索エンジン、テキストマイニングなど、多岐にわたる分野で活用されています。',\n",
       " '自然言語処理は、自然言語をコンピューターが理解できるようにするため、自然言語の曖昧さや文脈を考慮する必要があります。自然言語処理の仕組みは、機械可読目録、コーパス、形態素解析、構文解析、意味解析、文脈解析などの手順で構成されます。',\n",
       " '自然言語処理は、ビジネスや社会の多くの分野で注目されており、業務の効率化や人材不足の解消などに貢献しています。今後も、自然言語処理の進化によって、より高度な自然言語処理が可能になることが期待されています。']"
      ]
     },
     "execution_count": 13,
     "metadata": {},
     "output_type": "execute_result"
    }
   ],
   "source": [
    "words = word_tokenize(example_string)\n",
    "words"
   ]
  },
  {
   "cell_type": "code",
   "execution_count": 14,
   "id": "ebffc7e8-c6e8-4848-ad2f-a432f7e25eef",
   "metadata": {},
   "outputs": [],
   "source": [
    "jp_chartype_tokenizer = nltk.RegexpTokenizer(u'([ぁ-んー]+|[ァ-ンー]+|[\\u4e00-\\u9FFF]+|[^ぁ-んァ-ンー\\u4e00-\\u9FFF]+)')"
   ]
  },
  {
   "cell_type": "code",
   "execution_count": 15,
   "id": "ffbbfb2f-447e-469b-9aa2-44cde3bb76df",
   "metadata": {},
   "outputs": [
    {
     "data": {
      "text/plain": [
       "['自然言語処理',\n",
       " 'とは',\n",
       " '、',\n",
       " '人間',\n",
       " 'が',\n",
       " '日常的',\n",
       " 'に',\n",
       " '使用',\n",
       " 'する',\n",
       " '言語',\n",
       " 'を',\n",
       " 'コンピューター',\n",
       " 'が',\n",
       " '理解',\n",
       " 'し',\n",
       " '、',\n",
       " '処理',\n",
       " 'する',\n",
       " '技術',\n",
       " 'です',\n",
       " '。',\n",
       " '自然言語処理',\n",
       " 'は',\n",
       " '、',\n",
       " 'テキストデータ',\n",
       " 'の',\n",
       " '分析',\n",
       " '、',\n",
       " '音声認識',\n",
       " '、',\n",
       " '機械翻訳',\n",
       " '、',\n",
       " '対話型',\n",
       " 'AI',\n",
       " 'チャットボット',\n",
       " '、',\n",
       " '検索',\n",
       " 'エンジン',\n",
       " '、',\n",
       " 'テキストマイニング',\n",
       " 'など',\n",
       " '、',\n",
       " '多岐',\n",
       " 'にわたる',\n",
       " '分野',\n",
       " 'で',\n",
       " '活用',\n",
       " 'されています',\n",
       " '。',\n",
       " '自然言語処理',\n",
       " 'は',\n",
       " '、',\n",
       " '自然言語',\n",
       " 'を',\n",
       " 'コンピューター',\n",
       " 'が',\n",
       " '理解',\n",
       " 'できるようにするため',\n",
       " '、',\n",
       " '自然言語',\n",
       " 'の',\n",
       " '曖昧',\n",
       " 'さや',\n",
       " '文脈',\n",
       " 'を',\n",
       " '考慮',\n",
       " 'する',\n",
       " '必要',\n",
       " 'があります',\n",
       " '。',\n",
       " '自然言語処理',\n",
       " 'の',\n",
       " '仕組',\n",
       " 'みは',\n",
       " '、',\n",
       " '機械可読目録',\n",
       " '、',\n",
       " 'コーパス',\n",
       " '、',\n",
       " '形態素解析',\n",
       " '、',\n",
       " '構文解析',\n",
       " '、',\n",
       " '意味解析',\n",
       " '、',\n",
       " '文脈解析',\n",
       " 'などの',\n",
       " '手順',\n",
       " 'で',\n",
       " '構成',\n",
       " 'されます',\n",
       " '。',\n",
       " '自然言語処理',\n",
       " 'は',\n",
       " '、',\n",
       " 'ビジネス',\n",
       " 'や',\n",
       " '社会',\n",
       " 'の',\n",
       " '多',\n",
       " 'くの',\n",
       " '分野',\n",
       " 'で',\n",
       " '注目',\n",
       " 'されており',\n",
       " '、',\n",
       " '業務',\n",
       " 'の',\n",
       " '効率化',\n",
       " 'や',\n",
       " '人材不足',\n",
       " 'の',\n",
       " '解消',\n",
       " 'などに',\n",
       " '貢献',\n",
       " 'しています',\n",
       " '。',\n",
       " '今後',\n",
       " 'も',\n",
       " '、',\n",
       " '自然言語処理',\n",
       " 'の',\n",
       " '進化',\n",
       " 'によって',\n",
       " '、',\n",
       " 'より',\n",
       " '高度',\n",
       " 'な',\n",
       " '自然言語処理',\n",
       " 'が',\n",
       " '可能',\n",
       " 'になることが',\n",
       " '期待',\n",
       " 'されています',\n",
       " '。']"
      ]
     },
     "execution_count": 15,
     "metadata": {},
     "output_type": "execute_result"
    }
   ],
   "source": [
    "import re\n",
    "\n",
    "words = jp_chartype_tokenizer.tokenize(re.sub('[\\n]*', '', example_string))\n",
    "words"
   ]
  },
  {
   "cell_type": "code",
   "execution_count": 16,
   "id": "b0178a52-c1d1-40de-ad85-b11e1c172f34",
   "metadata": {},
   "outputs": [],
   "source": [
    "stop_words = ['、', '。']\n",
    "meaningful_words = lambda text: [word for word in text if word not in stop_words]"
   ]
  },
  {
   "cell_type": "code",
   "execution_count": 17,
   "id": "01b02bda-4f78-409f-a813-a05c4c69ed9c",
   "metadata": {},
   "outputs": [],
   "source": [
    "from nltk import FreqDist"
   ]
  },
  {
   "cell_type": "code",
   "execution_count": 18,
   "id": "6f07d16f-01bb-42a1-ba27-1443ef1ad100",
   "metadata": {},
   "outputs": [
    {
     "data": {
      "text/plain": [
       "FreqDist({'自然言語処理': 7, 'の': 7, 'が': 4, 'する': 3, 'を': 3, 'は': 3, 'で': 3, 'コンピューター': 2, '理解': 2, '分野': 2, ...})"
      ]
     },
     "execution_count": 18,
     "metadata": {},
     "output_type": "execute_result"
    }
   ],
   "source": [
    "frequency_distribution = FreqDist(meaningful_words(words))\n",
    "frequency_distribution"
   ]
  },
  {
   "cell_type": "code",
   "execution_count": null,
   "id": "7364f2e3-3263-44f5-bb83-49292059cb6f",
   "metadata": {},
   "outputs": [],
   "source": []
  }
 ],
 "metadata": {
  "kernelspec": {
   "display_name": "Python 3 (ipykernel)",
   "language": "python",
   "name": "python3"
  },
  "language_info": {
   "codemirror_mode": {
    "name": "ipython",
    "version": 3
   },
   "file_extension": ".py",
   "mimetype": "text/x-python",
   "name": "python",
   "nbconvert_exporter": "python",
   "pygments_lexer": "ipython3",
   "version": "3.11.4"
  }
 },
 "nbformat": 4,
 "nbformat_minor": 5
}
