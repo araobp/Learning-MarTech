{
 "cells": [
  {
   "cell_type": "markdown",
   "id": "1452d50b-525f-4607-90f8-952a1659dde7",
   "metadata": {},
   "source": [
    "# NLP Basics\n",
    "\n",
    "Date: 2023/11/02"
   ]
  },
  {
   "cell_type": "code",
   "execution_count": 13,
   "id": "219e1742-6593-4e18-b031-31a797e9c7fa",
   "metadata": {},
   "outputs": [],
   "source": [
    "#pip3 install nltk==3.5\n",
    "#import nltk\n",
    "#nltk.download('punkt')"
   ]
  },
  {
   "cell_type": "code",
   "execution_count": 14,
   "id": "9de61b55-98d8-4e6a-9b42-a565df14229f",
   "metadata": {},
   "outputs": [],
   "source": [
    "from nltk.tokenize import sent_tokenize, word_tokenize"
   ]
  },
  {
   "cell_type": "code",
   "execution_count": 42,
   "id": "a5af0b9a-8231-4e5f-ad8a-779612ca1f90",
   "metadata": {},
   "outputs": [],
   "source": [
    "# I told Bing that \" I am learning NLP. What do you think?\" Bing replied with the following:\n",
    "\n",
    "example_string = \"\\\n",
    "That’s great to hear! \\\n",
    "Natural Language Processing (NLP) is a fascinating field that combines computer science, \\\n",
    "artificial intelligence, and linguistics to enable machines to understand, interpret, \\\n",
    "and generate human language. NLP has numerous applications in various domains such as chatbots, \\\n",
    "virtual assistants, sentiment analysis, machine translation, and more. \\\n",
    "If you’re just starting with NLP, \\\n",
    "I recommend learning the basics of programming languages such as Python and R. \\\n",
    "These languages have several libraries and frameworks such as NLTK, spaCy, \\\n",
    "and Gensim that can help you get started with NLP. \\\n",
    "You can also explore online courses and tutorials on platforms such as Coursera, \\\n",
    "Udemy, and edX to learn more about NLP concepts and techniques. \\\n",
    "Remember that learning NLP is a continuous process that requires patience, practice, \\\n",
    "and perseverance. Don’t hesitate to ask questions or seek help from the community if you’re stuck. \\\n",
    "Good luck with your learning journey! \\\n",
    "Is there anything else I can help you with?\""
   ]
  },
  {
   "cell_type": "code",
   "execution_count": 43,
   "id": "f2c733a2-67f2-4077-89f2-c9cb229b378a",
   "metadata": {},
   "outputs": [
    {
     "data": {
      "text/plain": [
       "'That’s great to hear! Natural Language Processing (NLP) is a fascinating field that combines computer science, artificial intelligence, and linguistics to enable machines to understand, interpret, and generate human language. NLP has numerous applications in various domains such as chatbots, virtual assistants, sentiment analysis, machine translation, and more. If you’re just starting with NLP, I recommend learning the basics of programming languages such as Python and R. These languages have several libraries and frameworks such as NLTK, spaCy, and Gensim that can help you get started with NLP. You can also explore online courses and tutorials on platforms such as Coursera, Udemy, and edX to learn more about NLP concepts and techniques. Remember that learning NLP is a continuous process that requires patience, practice, and perseverance. Don’t hesitate to ask questions or seek help from the community if you’re stuck. Good luck with your learning journey! Is there anything else I can help you with?'"
      ]
     },
     "execution_count": 43,
     "metadata": {},
     "output_type": "execute_result"
    }
   ],
   "source": [
    "example_string"
   ]
  },
  {
   "cell_type": "code",
   "execution_count": 44,
   "id": "32033689-fefe-4b5e-bdee-fe7391a6ff6d",
   "metadata": {},
   "outputs": [
    {
     "data": {
      "text/plain": [
       "['That’s great to hear!',\n",
       " 'Natural Language Processing (NLP) is a fascinating field that combines computer science, artificial intelligence, and linguistics to enable machines to understand, interpret, and generate human language.',\n",
       " 'NLP has numerous applications in various domains such as chatbots, virtual assistants, sentiment analysis, machine translation, and more.',\n",
       " 'If you’re just starting with NLP, I recommend learning the basics of programming languages such as Python and R. These languages have several libraries and frameworks such as NLTK, spaCy, and Gensim that can help you get started with NLP.',\n",
       " 'You can also explore online courses and tutorials on platforms such as Coursera, Udemy, and edX to learn more about NLP concepts and techniques.',\n",
       " 'Remember that learning NLP is a continuous process that requires patience, practice, and perseverance.',\n",
       " 'Don’t hesitate to ask questions or seek help from the community if you’re stuck.',\n",
       " 'Good luck with your learning journey!',\n",
       " 'Is there anything else I can help you with?']"
      ]
     },
     "execution_count": 44,
     "metadata": {},
     "output_type": "execute_result"
    }
   ],
   "source": [
    "sentences = sent_tokenize(example_string)\n",
    "sentences"
   ]
  },
  {
   "cell_type": "code",
   "execution_count": 45,
   "id": "fc7eef97-2ed4-4aae-a3fd-7e0c51cb7967",
   "metadata": {},
   "outputs": [
    {
     "name": "stdout",
     "output_type": "stream",
     "text": [
      "1. That’s great to hear!\n",
      "2. Natural Language Processing (NLP) is a fascinating field that combines computer science, artificial intelligence, and linguistics to enable machines to understand, interpret, and generate human language.\n",
      "3. NLP has numerous applications in various domains such as chatbots, virtual assistants, sentiment analysis, machine translation, and more.\n",
      "4. If you’re just starting with NLP, I recommend learning the basics of programming languages such as Python and R. These languages have several libraries and frameworks such as NLTK, spaCy, and Gensim that can help you get started with NLP.\n",
      "5. You can also explore online courses and tutorials on platforms such as Coursera, Udemy, and edX to learn more about NLP concepts and techniques.\n",
      "6. Remember that learning NLP is a continuous process that requires patience, practice, and perseverance.\n",
      "7. Don’t hesitate to ask questions or seek help from the community if you’re stuck.\n",
      "8. Good luck with your learning journey!\n",
      "9. Is there anything else I can help you with?\n"
     ]
    }
   ],
   "source": [
    "i = 1\n",
    "for s in sentences:\n",
    "    print('{}. {}'.format(i, s))\n",
    "    i += 1"
   ]
  },
  {
   "cell_type": "code",
   "execution_count": 46,
   "id": "a9d884a2-7c1e-421b-ae18-dd24591cefec",
   "metadata": {},
   "outputs": [
    {
     "data": {
      "text/plain": [
       "['That',\n",
       " '’',\n",
       " 's',\n",
       " 'great',\n",
       " 'to',\n",
       " 'hear',\n",
       " '!',\n",
       " 'Natural',\n",
       " 'Language',\n",
       " 'Processing',\n",
       " '(',\n",
       " 'NLP',\n",
       " ')',\n",
       " 'is',\n",
       " 'a',\n",
       " 'fascinating',\n",
       " 'field',\n",
       " 'that',\n",
       " 'combines',\n",
       " 'computer',\n",
       " 'science',\n",
       " ',',\n",
       " 'artificial',\n",
       " 'intelligence',\n",
       " ',',\n",
       " 'and',\n",
       " 'linguistics',\n",
       " 'to',\n",
       " 'enable',\n",
       " 'machines',\n",
       " 'to',\n",
       " 'understand',\n",
       " ',',\n",
       " 'interpret',\n",
       " ',',\n",
       " 'and',\n",
       " 'generate',\n",
       " 'human',\n",
       " 'language',\n",
       " '.',\n",
       " 'NLP',\n",
       " 'has',\n",
       " 'numerous',\n",
       " 'applications',\n",
       " 'in',\n",
       " 'various',\n",
       " 'domains',\n",
       " 'such',\n",
       " 'as',\n",
       " 'chatbots',\n",
       " ',',\n",
       " 'virtual',\n",
       " 'assistants',\n",
       " ',',\n",
       " 'sentiment',\n",
       " 'analysis',\n",
       " ',',\n",
       " 'machine',\n",
       " 'translation',\n",
       " ',',\n",
       " 'and',\n",
       " 'more',\n",
       " '.',\n",
       " 'If',\n",
       " 'you',\n",
       " '’',\n",
       " 're',\n",
       " 'just',\n",
       " 'starting',\n",
       " 'with',\n",
       " 'NLP',\n",
       " ',',\n",
       " 'I',\n",
       " 'recommend',\n",
       " 'learning',\n",
       " 'the',\n",
       " 'basics',\n",
       " 'of',\n",
       " 'programming',\n",
       " 'languages',\n",
       " 'such',\n",
       " 'as',\n",
       " 'Python',\n",
       " 'and',\n",
       " 'R.',\n",
       " 'These',\n",
       " 'languages',\n",
       " 'have',\n",
       " 'several',\n",
       " 'libraries',\n",
       " 'and',\n",
       " 'frameworks',\n",
       " 'such',\n",
       " 'as',\n",
       " 'NLTK',\n",
       " ',',\n",
       " 'spaCy',\n",
       " ',',\n",
       " 'and',\n",
       " 'Gensim',\n",
       " 'that',\n",
       " 'can',\n",
       " 'help',\n",
       " 'you',\n",
       " 'get',\n",
       " 'started',\n",
       " 'with',\n",
       " 'NLP',\n",
       " '.',\n",
       " 'You',\n",
       " 'can',\n",
       " 'also',\n",
       " 'explore',\n",
       " 'online',\n",
       " 'courses',\n",
       " 'and',\n",
       " 'tutorials',\n",
       " 'on',\n",
       " 'platforms',\n",
       " 'such',\n",
       " 'as',\n",
       " 'Coursera',\n",
       " ',',\n",
       " 'Udemy',\n",
       " ',',\n",
       " 'and',\n",
       " 'edX',\n",
       " 'to',\n",
       " 'learn',\n",
       " 'more',\n",
       " 'about',\n",
       " 'NLP',\n",
       " 'concepts',\n",
       " 'and',\n",
       " 'techniques',\n",
       " '.',\n",
       " 'Remember',\n",
       " 'that',\n",
       " 'learning',\n",
       " 'NLP',\n",
       " 'is',\n",
       " 'a',\n",
       " 'continuous',\n",
       " 'process',\n",
       " 'that',\n",
       " 'requires',\n",
       " 'patience',\n",
       " ',',\n",
       " 'practice',\n",
       " ',',\n",
       " 'and',\n",
       " 'perseverance',\n",
       " '.',\n",
       " 'Don',\n",
       " '’',\n",
       " 't',\n",
       " 'hesitate',\n",
       " 'to',\n",
       " 'ask',\n",
       " 'questions',\n",
       " 'or',\n",
       " 'seek',\n",
       " 'help',\n",
       " 'from',\n",
       " 'the',\n",
       " 'community',\n",
       " 'if',\n",
       " 'you',\n",
       " '’',\n",
       " 're',\n",
       " 'stuck',\n",
       " '.',\n",
       " 'Good',\n",
       " 'luck',\n",
       " 'with',\n",
       " 'your',\n",
       " 'learning',\n",
       " 'journey',\n",
       " '!',\n",
       " 'Is',\n",
       " 'there',\n",
       " 'anything',\n",
       " 'else',\n",
       " 'I',\n",
       " 'can',\n",
       " 'help',\n",
       " 'you',\n",
       " 'with',\n",
       " '?']"
      ]
     },
     "execution_count": 46,
     "metadata": {},
     "output_type": "execute_result"
    }
   ],
   "source": [
    "words = word_tokenize(example_string)\n",
    "words"
   ]
  },
  {
   "cell_type": "code",
   "execution_count": null,
   "id": "c9ea5050-a73d-42c5-b974-1b5e51d2b582",
   "metadata": {},
   "outputs": [],
   "source": []
  }
 ],
 "metadata": {
  "kernelspec": {
   "display_name": "Python 3 (ipykernel)",
   "language": "python",
   "name": "python3"
  },
  "language_info": {
   "codemirror_mode": {
    "name": "ipython",
    "version": 3
   },
   "file_extension": ".py",
   "mimetype": "text/x-python",
   "name": "python",
   "nbconvert_exporter": "python",
   "pygments_lexer": "ipython3",
   "version": "3.11.4"
  }
 },
 "nbformat": 4,
 "nbformat_minor": 5
}
