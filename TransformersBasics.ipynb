{
 "cells": [
  {
   "cell_type": "markdown",
   "id": "e907bdc0-a8aa-47ce-91fd-d9332c879b30",
   "metadata": {},
   "source": [
    "# Transformers Basics\n",
    "\n",
    "Date: 2023/11/14 - 2023/11/16\n",
    "\n",
    "参考書: https://gihyo.jp/book/2023/978-4-297-13633-8\n",
    "\n",
    "この本の１章に書かれるちょっとしたコードを実行するだけで、NLPの全体像をなんとなく理解できた。\n",
    "私にとっては、文章分類、意味的類似度計算、固有表現認識、要約生成あたりが有用に思える。\n",
    "この程度のNLPでは、Google Colabに頼らずとも、MacBook Air上でサッと動くのが良いです。"
   ]
  },
  {
   "cell_type": "code",
   "execution_count": 1,
   "id": "5cf3b94d-3246-4494-961a-bcd5ee38fdba",
   "metadata": {},
   "outputs": [],
   "source": [
    "#!pip3 install 'transformers[ja,torch]' datasets matplotlib japanize-matplotlib\n",
    "#!pip3 install Xformers\n",
    "import warnings\n",
    "warnings.filterwarnings('ignore')"
   ]
  },
  {
   "cell_type": "code",
   "execution_count": 2,
   "id": "f5ee6518-6dc5-42e3-a557-335f675bcaf0",
   "metadata": {},
   "outputs": [
    {
     "name": "stdout",
     "output_type": "stream",
     "text": [
      "'NoneType' object has no attribute 'cadam32bit_grad_fp32'\n"
     ]
    }
   ],
   "source": [
    "from transformers import pipeline"
   ]
  },
  {
   "cell_type": "markdown",
   "id": "c926842d-e297-4706-bf32-1a6283210a97",
   "metadata": {},
   "source": [
    "## 1.1.1 文章分類"
   ]
  },
  {
   "cell_type": "code",
   "execution_count": 3,
   "id": "5e94dd70-54ac-482a-a90d-53b2a99d0985",
   "metadata": {},
   "outputs": [
    {
     "name": "stderr",
     "output_type": "stream",
     "text": [
      "Xformers is not installed correctly. If you want to use memory_efficient_attention to accelerate training use the following command to install Xformers\n",
      "pip install xformers.\n"
     ]
    }
   ],
   "source": [
    "text_classification_pipeline = pipeline(model='llm-book/bert-base-japanese-v3-marc_ja')"
   ]
  },
  {
   "cell_type": "code",
   "execution_count": 4,
   "id": "2d53a0c4-eb38-4724-a177-895f0ce9e93c",
   "metadata": {},
   "outputs": [
    {
     "name": "stdout",
     "output_type": "stream",
     "text": [
      "[{'label': 'positive', 'score': 0.9993619322776794}]\n",
      "[{'label': 'negative', 'score': 0.988598108291626}]\n"
     ]
    }
   ],
   "source": [
    "positive_text = '世界には言葉がわからなくても感動する音楽がある。'\n",
    "negative_text = '世界には言葉がでないほどひどい音楽たある。'\n",
    "print(text_classification_pipeline(positive_text))\n",
    "print(text_classification_pipeline(negative_text))"
   ]
  },
  {
   "cell_type": "code",
   "execution_count": 5,
   "id": "d91cfea4-cbec-4cee-aebd-4b5a719bd736",
   "metadata": {},
   "outputs": [
    {
     "data": {
      "text/plain": [
       "[['positive_negative', 'ショールームの清潔さには好感が持てましたが、一部の展示品が傷んでいるのが気になりました。'],\n",
       " ['positive_negative', 'スタッフの丁寧な対応がありましたが、商品の説明が少なく、理解しにくかったです。'],\n",
       " ['positive_negative', '展示品の品質は高く、特にデザインに魅了されましたが、価格が高すぎると感じました。'],\n",
       " ['positive_negative', 'ショールームの広さとレイアウトは素晴らしかったが、一部のエリアが混雑していました。'],\n",
       " ['positive_negative', '商品のバリエーションが豊富で、選択肢が多い一方で、一部のカテゴリーが不足していました。'],\n",
       " ['positive_negative', 'インテリアデザインがモダンで印象的でしたが、一部のエリアが古く感じられました。'],\n",
       " ['positive_negative', 'スタッフの対応は親切で好感が持てましたが、混雑しておりゆっくり見学できませんでした。'],\n",
       " ['positive_negative', '展示品のディスプレイは美しく、高い品質が感じられましたが、価格が高すぎると感じました。'],\n",
       " ['positive_negative', 'ショールーム内の照明が良好で、商品が見やすかったが、一部のエリアが薄暗かったです。'],\n",
       " ['positive_negative', '商品の価格設定が適切で良心的でしたが、スタッフの知識が不足しているように感じました。'],\n",
       " ['positive_negative', '展示品の配置が工夫され、テーマ性がありましたが、一部の商品が見つけにくかったです。'],\n",
       " ['positive_negative', 'ショールーム内の案内が分かりやすく、スタッフの対応も良かったが、混雑が気になりました。'],\n",
       " ['positive_negative', '商品の新しさとデザインに魅了されましたが、スタッフの態度が冷淡で残念でした。'],\n",
       " ['positive_negative', 'ショールームの雰囲気が明るく、居心地が良かったが、一部の商品が陳腐に感じられました。'],\n",
       " ['positive_negative', '展示品の保守状態が良好で、商品の信頼性に安心感を覚えましたが、価格が心配です。'],\n",
       " ['positive_negative', 'ショールームの配置が効果的で見やすかったが、スタッフの忙しさが対応に影響していました。'],\n",
       " ['positive_negative', 'スタッフの知識が豊富で的確でしたが、商品の新しさに欠け、刷新が必要かもしれません。'],\n",
       " ['positive_negative', '商品の魅力が引き立つディスプレイでしたが、スタッフの説明が簡略化されていた印象です。'],\n",
       " ['positive_negative', 'ショールーム内の音楽が心地よく、雰囲気が良かったが、一部エリアが騒がしかったです。'],\n",
       " ['positive_negative', '展示品のデザインが洗練されており、一部の商品には本当に惹かれましたが、価格が心配です。'],\n",
       " ['positive_negative', 'ショールームの温度が快適で、滞在が楽しかったが、一部のエリアが寒かったです。'],\n",
       " ['positive_negative', '商品の新しさが感じられ、デザインが魅力的でしたが、スタッフの態度が気になりました。'],\n",
       " ['positive_negative', 'ショールーム内のサインが分かりやすく、効果的でしたが、一部エリアの表示が不足していました。'],\n",
       " ['positive_negative', 'スタッフの態度が温暖で、親しみやすかったが、商品の一部が古びて見えました。'],\n",
       " ['positive_negative', '展示品の配置が程よく、見学がスムーズでしたが、一部の商品が埋もれているようでした。'],\n",
       " ['positive_negative', 'ショールーム内の照明が美しく、商品が引き立っていましたが、一部の商品が高価でした。'],\n",
       " ['positive_negative', '展示されている商品が洗練されており、一部の商品には本当に魅了されましたが、価格が気になります。'],\n",
       " ['positive_negative', 'ショールーム全体の雰囲気が素晴らしく、多様な商品が揃っていたが、価格が手の届かないものもありました。'],\n",
       " ['positive', 'ショールームの清潔感に一同感激しました。全体的に整理されており、商品が魅力的に展示されていました。'],\n",
       " ['positive', 'スタッフの方々の丁寧で親しみやすい対応が印象的でした。質問にも親身に答えていただき、ありがたかったです。'],\n",
       " ['positive', '展示品の品質が非常に高く、デザインにもこだわりを感じました。新しいアイデアやトレンドを発見できました。'],\n",
       " ['positive', 'ショールームの広さと効果的なレイアウトに感心しました。各エリアがテーマ性を持ち、見学が楽しいものとなりました。'],\n",
       " ['positive', '商品の多様性に驚きました。さまざまなスタイルや用途の商品が揃っており、自分のニーズに合ったものが見つかりました。'],\n",
       " ['positive', 'ショールームのインテリアデザインが素晴らしく、訪れるだけで気分が上がりました。商品との調和が感じられました。'],\n",
       " ['positive', 'スタッフの方々が専門的で豊富な知識を持っていました。商品に関する質問に対しても理解が深く、安心感がありました。'],\n",
       " ['positive', '展示品のディスプレイが美しく、細部までこだわりが感じられました。商品の魅力が引き立っていました。'],\n",
       " ['positive', 'ショールーム内の照明が適切で、商品がより魅力的に見えました。各商品の特長が明確に浮き彫りにされていました。'],\n",
       " ['positive', '商品の価格設定が合理的で、購買しやすい価格帯が多かったです。コストパフォーマンスが良いと感じました。'],\n",
       " ['positive', 'ショールーム内の音楽が心地よく、ゆったりとした雰囲気が演出されていました。見学がより楽しいものとなりました。'],\n",
       " ['positive', '展示品の配置が効果的で、テーマ性がありました。各エリアが異なるコンセプトを持ち、見学が飽きませんでした。'],\n",
       " ['positive', 'ショールーム内での案内が分かりやすく、道迷いすることなくスムーズに見学できました。効率的な見学ができました。'],\n",
       " ['positive', '商品の新しさとトレンド感が際立ちました。最新のデザインや機能が取り入れられていて、驚くばかりでした。'],\n",
       " ['positive', 'ショールームの雰囲気が穏やかで、リラックスできる空間でした。商品をじっくりと見学でき、ゆったりと過ごせました。'],\n",
       " ['positive', '展示品の保守状態が良好で、商品に対する信頼感がありました。品質の高さが一貫していました。'],\n",
       " ['positive', 'ショールーム内の照明が柔らかく、心地よい雰囲気を醸し出していました。商品がより魅力的に見えました。'],\n",
       " ['positive', '商品の新しさが感じられ、デザインが洗練されていました。先進的なアプローチが取り入れられていて感動しました。'],\n",
       " ['positive', 'ショールーム内のサインや表示が分かりやすく、目的地に迷わずに到達できました。利便性が高かったです。'],\n",
       " ['positive', 'スタッフの方々が笑顔で迎えてくれ、親しみやすい雰囲気がありました。気軽に質問でき、好感が持てました。'],\n",
       " ['positive', '展示品のデザインがユニークであり、個性的なアプローチが感じられました。新しい視点を得ることができました。'],\n",
       " ['positive', 'ショールームの温度や空調が快適でした。見学中も過ごしやすく、商品に集中できました。'],\n",
       " ['positive', '商品の陳列が工夫されており、各商品が際立っていました。バラエティ豊かで見ていて飽きませんでした。'],\n",
       " ['positive', 'ショールーム内の雰囲気が活気に満ち、賑やかで楽しい雰囲気でした。商品との一体感がありました。'],\n",
       " ['positive', '展示品の配置が見やすく、商品の流れが自然でした。見学がストレスなく進められました。'],\n",
       " ['positive',\n",
       "  'ショールーム全体がクリエイティブな雰囲気に包まれていました。商品だけでなく、空間自体がインスピレーションを与えてくれました。'],\n",
       " ['positive', 'スタッフの方々が柔軟かつ迅速に対応してくれました。要望や質問に対して素早く対応していただき、感謝しています。'],\n",
       " ['positive', '展示品のデザインや機能性に感動しました。普段は気づかないような細部のこだわりが素晴らしかったです。'],\n",
       " ['positive', 'ショールーム内の各エリアが異なるコンセプトで統一され、見学が飽きることがありませんでした。'],\n",
       " ['negative', 'ショールームの清潔さに不満がありました。一部でゴミやほこりが見受けられ、印象が悪かったです。'],\n",
       " ['negative', 'スタッフの方々の対応が冷淡で、質問にも十分な回答が得られませんでした。もう少し親しみやすい態度が期待されます。'],\n",
       " ['negative', '展示品の品質が低く、一部で傷や不具合が見受けられました。商品の信頼性に疑念を抱きました。'],\n",
       " ['negative', 'ショールーム内のレイアウトが不規則で混雑しており、ゆっくりと商品を見ることが難しかったです。'],\n",
       " ['negative', '商品のバリエーションが限られており、選択肢が少なかったです。もっと多様性が欲しかったです。'],\n",
       " ['negative', 'インテリアデザインが古臭く感じられました。モダンな雰囲気が漂っておらず、期待外れでした。'],\n",
       " ['negative', 'スタッフの方々が無視するような態度を見受けました。質問に対して十分な情報提供がなされませんでした。'],\n",
       " ['negative', '展示品のディスプレイが見づらく、商品の特徴が伝わりにくかったです。もっと効果的な陳列が求められます。'],\n",
       " ['negative', 'ショールーム内の照明が暗すぎて、商品がよく見えませんでした。もっと明るい照明が必要でした。'],\n",
       " ['negative', '商品の価格設定が高過ぎて、コストパフォーマンスが合わないと感じました。もっと手頃な価格帯が欲しかったです。'],\n",
       " ['negative', 'ショールーム内での音楽が不快で、ゆっくりとした雰囲気を楽しむことができませんでした。'],\n",
       " ['negative', '展示品の配置が混雑しており、商品が埋もれて見えました。もっと広いスペースが必要でした。'],\n",
       " ['negative', 'ショールーム内での案内が不親切で、目的地までのルートが分かりにくかったです。もっと分かりやすい案内が欲しかったです。'],\n",
       " ['negative', '商品の新しさやデザインに欠け、時代遅れの印象を受けました。もっと先進的な商品が期待されます。'],\n",
       " ['negative', 'ショールームの雰囲気が冷たく、居心地が悪かったです。もっと温かみのある空間が求められました。'],\n",
       " ['negative', '展示品の保守状態が悪く、一部で傷や汚れが目立ちました。商品のクオリティに疑念が残りました。'],\n",
       " ['negative', 'ショールーム内の照明がまばらで、商品が十分に映えませんでした。もっと均等な照明が必要でした。'],\n",
       " ['negative', '商品の新しさや革新性が感じられず、既視感のあるデザインが多かったです。もっと斬新なアプローチが期待されます。'],\n",
       " ['negative', 'ショールーム内のサインが不足しており、目的地までの道が分からず迷いました。もっと分かりやすい案内が必要でした。'],\n",
       " ['negative', 'スタッフの態度が無愛想で、購買意欲を削がれました。もっと親しみやすい態度が期待されます。'],\n",
       " ['negative', '展示品のデザインが単調で、個性やユニークさが欠けました。もっと斬新な発想が求められます。'],\n",
       " ['negative', 'ショールーム内の温度が高く、滞在が不快でした。もっと快適な環境が期待されます。'],\n",
       " ['negative', '商品の陳列が乱雑で、商品が見づらかったです。もっと整理された陳列が望まれます。'],\n",
       " ['negative', 'ショールーム内の照明が眩しく、商品が過剰に強調されました。もっと柔らかい照明が良かったです。'],\n",
       " ['negative', '展示品のデザインが平凡で、他と差別化が図られていないように感じました。もっと個性的な商品が欲しかったです。'],\n",
       " ['negative', 'ショールーム内の雰囲気が静かで、賑やかさが欠けました。もっと活気ある雰囲気が期待されます。'],\n",
       " ['negative', 'スタッフの方々が混雑に忙殺され、質問に応じる余裕がなかったです。もっと効率的なスタッフ配置が必要でした。'],\n",
       " ['negative', '展示品のデザインや機能に驚きがなく、期待値を下回る印象を受けました。もっと斬新な商品が欲しかったです。']]"
      ]
     },
     "execution_count": 5,
     "metadata": {},
     "output_type": "execute_result"
    }
   ],
   "source": [
    "import yaml\n",
    "with open('data/impressions.yaml', 'r') as f:\n",
    "    imp = yaml.safe_load(f)\n",
    "\n",
    "sents = [['positive_negative', s] for s in imp['positive_negative']]\n",
    "sents.extend([['positive', s] for s in imp['positive']])\n",
    "sents.extend([['negative', s] for s in imp['negative']])\n",
    "sents"
   ]
  },
  {
   "cell_type": "code",
   "execution_count": 6,
   "id": "c46e7e76-c7b5-46f0-9b77-495c3b84850b",
   "metadata": {},
   "outputs": [
    {
     "name": "stdout",
     "output_type": "stream",
     "text": [
      "['negative', 0.9472939372062683, 'positive_negative', 'ショールームの清潔さには好感が持てましたが、一部の展示品が傷んでいるのが気になりました。']\n",
      "['negative', 0.9519743919372559, 'positive_negative', 'スタッフの丁寧な対応がありましたが、商品の説明が少なく、理解しにくかったです。']\n",
      "['negative', 0.8354621529579163, 'positive_negative', '展示品の品質は高く、特にデザインに魅了されましたが、価格が高すぎると感じました。']\n",
      "['positive', 0.9290488958358765, 'positive_negative', 'ショールームの広さとレイアウトは素晴らしかったが、一部のエリアが混雑していました。']\n",
      "['positive', 0.9929064512252808, 'positive_negative', '商品のバリエーションが豊富で、選択肢が多い一方で、一部のカテゴリーが不足していました。']\n",
      "['positive', 0.9283452033996582, 'positive_negative', 'インテリアデザインがモダンで印象的でしたが、一部のエリアが古く感じられました。']\n",
      "['negative', 0.9903730154037476, 'positive_negative', 'スタッフの対応は親切で好感が持てましたが、混雑しておりゆっくり見学できませんでした。']\n",
      "['negative', 0.9414645433425903, 'positive_negative', '展示品のディスプレイは美しく、高い品質が感じられましたが、価格が高すぎると感じました。']\n",
      "['positive', 0.9860449433326721, 'positive_negative', 'ショールーム内の照明が良好で、商品が見やすかったが、一部のエリアが薄暗かったです。']\n",
      "['negative', 0.9144169688224792, 'positive_negative', '商品の価格設定が適切で良心的でしたが、スタッフの知識が不足しているように感じました。']\n",
      "['positive', 0.867137610912323, 'positive_negative', '展示品の配置が工夫され、テーマ性がありましたが、一部の商品が見つけにくかったです。']\n",
      "['positive', 0.9850935935974121, 'positive_negative', 'ショールーム内の案内が分かりやすく、スタッフの対応も良かったが、混雑が気になりました。']\n",
      "['negative', 0.8328641653060913, 'positive_negative', '商品の新しさとデザインに魅了されましたが、スタッフの態度が冷淡で残念でした。']\n",
      "['negative', 0.8602206110954285, 'positive_negative', 'ショールームの雰囲気が明るく、居心地が良かったが、一部の商品が陳腐に感じられました。']\n",
      "['positive', 0.9392659664154053, 'positive_negative', '展示品の保守状態が良好で、商品の信頼性に安心感を覚えましたが、価格が心配です。']\n",
      "['positive', 0.9352168440818787, 'positive_negative', 'ショールームの配置が効果的で見やすかったが、スタッフの忙しさが対応に影響していました。']\n",
      "['positive', 0.8926205635070801, 'positive_negative', 'スタッフの知識が豊富で的確でしたが、商品の新しさに欠け、刷新が必要かもしれません。']\n",
      "['positive', 0.947128176689148, 'positive_negative', '商品の魅力が引き立つディスプレイでしたが、スタッフの説明が簡略化されていた印象です。']\n",
      "['positive', 0.9983927607536316, 'positive_negative', 'ショールーム内の音楽が心地よく、雰囲気が良かったが、一部エリアが騒がしかったです。']\n",
      "['positive', 0.8723154664039612, 'positive_negative', '展示品のデザインが洗練されており、一部の商品には本当に惹かれましたが、価格が心配です。']\n",
      "['positive', 0.9784350395202637, 'positive_negative', 'ショールームの温度が快適で、滞在が楽しかったが、一部のエリアが寒かったです。']\n",
      "['positive', 0.9469295144081116, 'positive_negative', '商品の新しさが感じられ、デザインが魅力的でしたが、スタッフの態度が気になりました。']\n",
      "['positive', 0.9216345548629761, 'positive_negative', 'ショールーム内のサインが分かりやすく、効果的でしたが、一部エリアの表示が不足していました。']\n",
      "['positive', 0.9443273544311523, 'positive_negative', 'スタッフの態度が温暖で、親しみやすかったが、商品の一部が古びて見えました。']\n",
      "['positive', 0.9807111620903015, 'positive_negative', '展示品の配置が程よく、見学がスムーズでしたが、一部の商品が埋もれているようでした。']\n",
      "['positive', 0.9970855116844177, 'positive_negative', 'ショールーム内の照明が美しく、商品が引き立っていましたが、一部の商品が高価でした。']\n",
      "['positive', 0.981204628944397, 'positive_negative', '展示されている商品が洗練されており、一部の商品には本当に魅了されましたが、価格が気になります。']\n",
      "['positive', 0.999256432056427, 'positive_negative', 'ショールーム全体の雰囲気が素晴らしく、多様な商品が揃っていたが、価格が手の届かないものもありました。']\n",
      "['positive', 0.9993665814399719, 'positive', 'ショールームの清潔感に一同感激しました。全体的に整理されており、商品が魅力的に展示されていました。']\n",
      "['positive', 0.9994390606880188, 'positive', 'スタッフの方々の丁寧で親しみやすい対応が印象的でした。質問にも親身に答えていただき、ありがたかったです。']\n",
      "['positive', 0.9994390606880188, 'positive', '展示品の品質が非常に高く、デザインにもこだわりを感じました。新しいアイデアやトレンドを発見できました。']\n",
      "['positive', 0.9995211362838745, 'positive', 'ショールームの広さと効果的なレイアウトに感心しました。各エリアがテーマ性を持ち、見学が楽しいものとなりました。']\n",
      "['positive', 0.9995071887969971, 'positive', '商品の多様性に驚きました。さまざまなスタイルや用途の商品が揃っており、自分のニーズに合ったものが見つかりました。']\n",
      "['positive', 0.9995145797729492, 'positive', 'ショールームのインテリアデザインが素晴らしく、訪れるだけで気分が上がりました。商品との調和が感じられました。']\n",
      "['positive', 0.9993914365768433, 'positive', 'スタッフの方々が専門的で豊富な知識を持っていました。商品に関する質問に対しても理解が深く、安心感がありました。']\n",
      "['positive', 0.9994208812713623, 'positive', '展示品のディスプレイが美しく、細部までこだわりが感じられました。商品の魅力が引き立っていました。']\n",
      "['positive', 0.999390721321106, 'positive', 'ショールーム内の照明が適切で、商品がより魅力的に見えました。各商品の特長が明確に浮き彫りにされていました。']\n",
      "['positive', 0.9995076656341553, 'positive', '商品の価格設定が合理的で、購買しやすい価格帯が多かったです。コストパフォーマンスが良いと感じました。']\n",
      "['positive', 0.9994733929634094, 'positive', 'ショールーム内の音楽が心地よく、ゆったりとした雰囲気が演出されていました。見学がより楽しいものとなりました。']\n",
      "['positive', 0.999555766582489, 'positive', '展示品の配置が効果的で、テーマ性がありました。各エリアが異なるコンセプトを持ち、見学が飽きませんでした。']\n",
      "['positive', 0.9995429515838623, 'positive', 'ショールーム内での案内が分かりやすく、道迷いすることなくスムーズに見学できました。効率的な見学ができました。']\n",
      "['positive', 0.9995135068893433, 'positive', '商品の新しさとトレンド感が際立ちました。最新のデザインや機能が取り入れられていて、驚くばかりでした。']\n",
      "['positive', 0.9994660019874573, 'positive', 'ショールームの雰囲気が穏やかで、リラックスできる空間でした。商品をじっくりと見学でき、ゆったりと過ごせました。']\n",
      "['positive', 0.9994644522666931, 'positive', '展示品の保守状態が良好で、商品に対する信頼感がありました。品質の高さが一貫していました。']\n",
      "['positive', 0.9994392991065979, 'positive', 'ショールーム内の照明が柔らかく、心地よい雰囲気を醸し出していました。商品がより魅力的に見えました。']\n",
      "['positive', 0.9993439316749573, 'positive', '商品の新しさが感じられ、デザインが洗練されていました。先進的なアプローチが取り入れられていて感動しました。']\n",
      "['positive', 0.9994602799415588, 'positive', 'ショールーム内のサインや表示が分かりやすく、目的地に迷わずに到達できました。利便性が高かったです。']\n",
      "['positive', 0.9995191097259521, 'positive', 'スタッフの方々が笑顔で迎えてくれ、親しみやすい雰囲気がありました。気軽に質問でき、好感が持てました。']\n",
      "['positive', 0.9994924068450928, 'positive', '展示品のデザインがユニークであり、個性的なアプローチが感じられました。新しい視点を得ることができました。']\n",
      "['positive', 0.999512791633606, 'positive', 'ショールームの温度や空調が快適でした。見学中も過ごしやすく、商品に集中できました。']\n",
      "['positive', 0.9994474053382874, 'positive', '商品の陳列が工夫されており、各商品が際立っていました。バラエティ豊かで見ていて飽きませんでした。']\n",
      "['positive', 0.9994499087333679, 'positive', 'ショールーム内の雰囲気が活気に満ち、賑やかで楽しい雰囲気でした。商品との一体感がありました。']\n",
      "['positive', 0.9994992017745972, 'positive', '展示品の配置が見やすく、商品の流れが自然でした。見学がストレスなく進められました。']\n",
      "['positive', 0.9994745850563049, 'positive', 'ショールーム全体がクリエイティブな雰囲気に包まれていました。商品だけでなく、空間自体がインスピレーションを与えてくれました。']\n",
      "['positive', 0.9994292855262756, 'positive', 'スタッフの方々が柔軟かつ迅速に対応してくれました。要望や質問に対して素早く対応していただき、感謝しています。']\n",
      "['positive', 0.9993937015533447, 'positive', '展示品のデザインや機能性に感動しました。普段は気づかないような細部のこだわりが素晴らしかったです。']\n",
      "['positive', 0.9993128776550293, 'positive', 'ショールーム内の各エリアが異なるコンセプトで統一され、見学が飽きることがありませんでした。']\n",
      "['negative', 0.8985481858253479, 'negative', 'ショールームの清潔さに不満がありました。一部でゴミやほこりが見受けられ、印象が悪かったです。']\n",
      "['negative', 0.9824326038360596, 'negative', 'スタッフの方々の対応が冷淡で、質問にも十分な回答が得られませんでした。もう少し親しみやすい態度が期待されます。']\n",
      "['negative', 0.9884840846061707, 'negative', '展示品の品質が低く、一部で傷や不具合が見受けられました。商品の信頼性に疑念を抱きました。']\n",
      "['negative', 0.974301815032959, 'negative', 'ショールーム内のレイアウトが不規則で混雑しており、ゆっくりと商品を見ることが難しかったです。']\n",
      "['negative', 0.8441634178161621, 'negative', '商品のバリエーションが限られており、選択肢が少なかったです。もっと多様性が欲しかったです。']\n",
      "['negative', 0.9943119287490845, 'negative', 'インテリアデザインが古臭く感じられました。モダンな雰囲気が漂っておらず、期待外れでした。']\n",
      "['negative', 0.995022177696228, 'negative', 'スタッフの方々が無視するような態度を見受けました。質問に対して十分な情報提供がなされませんでした。']\n",
      "['negative', 0.8510792255401611, 'negative', '展示品のディスプレイが見づらく、商品の特徴が伝わりにくかったです。もっと効果的な陳列が求められます。']\n",
      "['negative', 0.991399884223938, 'negative', 'ショールーム内の照明が暗すぎて、商品がよく見えませんでした。もっと明るい照明が必要でした。']\n",
      "['negative', 0.9915333390235901, 'negative', '商品の価格設定が高過ぎて、コストパフォーマンスが合わないと感じました。もっと手頃な価格帯が欲しかったです。']\n",
      "['negative', 0.9907882809638977, 'negative', 'ショールーム内での音楽が不快で、ゆっくりとした雰囲気を楽しむことができませんでした。']\n",
      "['negative', 0.9592827558517456, 'negative', '展示品の配置が混雑しており、商品が埋もれて見えました。もっと広いスペースが必要でした。']\n",
      "['negative', 0.9548060297966003, 'negative', 'ショールーム内での案内が不親切で、目的地までのルートが分かりにくかったです。もっと分かりやすい案内が欲しかったです。']\n",
      "['negative', 0.9932937622070312, 'negative', '商品の新しさやデザインに欠け、時代遅れの印象を受けました。もっと先進的な商品が期待されます。']\n",
      "['negative', 0.9771543145179749, 'negative', 'ショールームの雰囲気が冷たく、居心地が悪かったです。もっと温かみのある空間が求められました。']\n",
      "['negative', 0.990679919719696, 'negative', '展示品の保守状態が悪く、一部で傷や汚れが目立ちました。商品のクオリティに疑念が残りました。']\n",
      "['negative', 0.991196870803833, 'negative', 'ショールーム内の照明がまばらで、商品が十分に映えませんでした。もっと均等な照明が必要でした。']\n",
      "['negative', 0.9938741326332092, 'negative', '商品の新しさや革新性が感じられず、既視感のあるデザインが多かったです。もっと斬新なアプローチが期待されます。']\n",
      "['negative', 0.9352437257766724, 'negative', 'ショールーム内のサインが不足しており、目的地までの道が分からず迷いました。もっと分かりやすい案内が必要でした。']\n",
      "['negative', 0.990592896938324, 'negative', 'スタッフの態度が無愛想で、購買意欲を削がれました。もっと親しみやすい態度が期待されます。']\n",
      "['negative', 0.976421594619751, 'negative', '展示品のデザインが単調で、個性やユニークさが欠けました。もっと斬新な発想が求められます。']\n",
      "['negative', 0.9699620604515076, 'negative', 'ショールーム内の温度が高く、滞在が不快でした。もっと快適な環境が期待されます。']\n",
      "['negative', 0.9910985827445984, 'negative', '商品の陳列が乱雑で、商品が見づらかったです。もっと整理された陳列が望まれます。']\n",
      "['positive', 0.9965091347694397, 'negative', 'ショールーム内の照明が眩しく、商品が過剰に強調されました。もっと柔らかい照明が良かったです。']\n",
      "['negative', 0.9343050122261047, 'negative', '展示品のデザインが平凡で、他と差別化が図られていないように感じました。もっと個性的な商品が欲しかったです。']\n",
      "['positive', 0.8051192760467529, 'negative', 'ショールーム内の雰囲気が静かで、賑やかさが欠けました。もっと活気ある雰囲気が期待されます。']\n",
      "['negative', 0.9852874279022217, 'negative', 'スタッフの方々が混雑に忙殺され、質問に応じる余裕がなかったです。もっと効率的なスタッフ配置が必要でした。']\n",
      "['negative', 0.9941609501838684, 'negative', '展示品のデザインや機能に驚きがなく、期待値を下回る印象を受けました。もっと斬新な商品が欲しかったです。']\n",
      "\n",
      "The number of sentences: 85\n",
      "Elapsed time: 4.498208045959473 sec\n",
      "For each word: 52.9 msec\n"
     ]
    }
   ],
   "source": [
    "import time\n",
    "\n",
    "classified = []\n",
    "\n",
    "start = time.time()\n",
    "for sent in sents:\n",
    "    cl = text_classification_pipeline(sent[1])[0]\n",
    "    l = [cl['label'], cl['score'], sent[0], sent[1]]\n",
    "    classified.append(l)\n",
    "    print(l)\n",
    "finish = time.time()\n",
    "\n",
    "print('\\nThe number of sentences: {}'.format(len(sents)))\n",
    "print('Elapsed time: {} sec'.format(finish - start))\n",
    "print('For each word: {:.01f} msec'.format((finish - start)/len(sents)*1000))"
   ]
  },
  {
   "cell_type": "markdown",
   "id": "64389a83-2e94-48d0-826d-690dfb51a660",
   "metadata": {},
   "source": [
    "## 1.1.2 自然言語推論"
   ]
  },
  {
   "cell_type": "code",
   "execution_count": 7,
   "id": "9e869c8f-e714-42da-a566-bd8d187a1ef3",
   "metadata": {},
   "outputs": [
    {
     "name": "stdout",
     "output_type": "stream",
     "text": [
      "{'label': 'entailment', 'score': 0.9964311122894287}\n"
     ]
    }
   ],
   "source": [
    "nli_pipeline = pipeline(model='llm-book/bert-base-japanese-v3-jnli')\n",
    "text = '二人の男性がジェット機を見ています'\n",
    "entailment_text = 'ジェット機を見ている人が二人います'\n",
    "print(nli_pipeline({'text': text, 'text_pair': entailment_text}))"
   ]
  },
  {
   "cell_type": "code",
   "execution_count": 8,
   "id": "5039eb75-73c2-465a-b7ee-e7b97793eac2",
   "metadata": {},
   "outputs": [
    {
     "name": "stdout",
     "output_type": "stream",
     "text": [
      "{'label': 'contradiction', 'score': 0.9990535378456116}\n"
     ]
    }
   ],
   "source": [
    "contradiction_text='二人の男性が飛んでいます'\n",
    "print(nli_pipeline({'text': text, 'text_pair': contradiction_text}))"
   ]
  },
  {
   "cell_type": "code",
   "execution_count": 9,
   "id": "5bae47fc-73dc-4b46-b482-129811bbf305",
   "metadata": {},
   "outputs": [
    {
     "name": "stdout",
     "output_type": "stream",
     "text": [
      "{'label': 'neutral', 'score': 0.9959145188331604}\n"
     ]
    }
   ],
   "source": [
    "neutral_text = '２人の男性が、白い飛行機を眺めています'\n",
    "print(nli_pipeline({'text': text, 'text_pair': neutral_text}))"
   ]
  },
  {
   "cell_type": "markdown",
   "id": "a7258dce-5ad2-44da-affb-95020788996c",
   "metadata": {},
   "source": [
    "## 1.1.3 意味的類似度計算"
   ]
  },
  {
   "cell_type": "code",
   "execution_count": 10,
   "id": "98548687-d576-4939-9f9f-9185943c6b7d",
   "metadata": {},
   "outputs": [],
   "source": [
    "text_sim_pipeline = pipeline(model='llm-book/bert-base-japanese-v3-jsts', function_to_apply='none')"
   ]
  },
  {
   "cell_type": "code",
   "execution_count": 11,
   "id": "fa2932b0-93ba-4865-8f05-45ee7b3243ff",
   "metadata": {},
   "outputs": [
    {
     "name": "stdout",
     "output_type": "stream",
     "text": [
      "3.60836124420166\n"
     ]
    }
   ],
   "source": [
    "text = '川べりでサーフボードを持った人たちがいます'\n",
    "sim_text = 'サーファー達が川べりに立っています'\n",
    "result = text_sim_pipeline({'text': text, 'text_pair': sim_text})\n",
    "print(result['score'])"
   ]
  },
  {
   "cell_type": "code",
   "execution_count": 12,
   "id": "a8f5ed33-2049-4281-97f5-5ec12477914f",
   "metadata": {},
   "outputs": [
    {
     "name": "stdout",
     "output_type": "stream",
     "text": [
      "0.04162156581878662\n"
     ]
    }
   ],
   "source": [
    "dissem_text = 'トイレの壁に黒いタオルがかけられています'\n",
    "result = text_sim_pipeline({'text': text, 'text_pair': dissem_text})\n",
    "print(result['score'])"
   ]
  },
  {
   "cell_type": "code",
   "execution_count": 13,
   "id": "d9216e43-0ccb-45fb-b912-434d7b97c133",
   "metadata": {},
   "outputs": [
    {
     "name": "stdout",
     "output_type": "stream",
     "text": [
      "0.8540017008781433\n"
     ]
    }
   ],
   "source": [
    "from torch.nn.functional import cosine_similarity\n",
    "\n",
    "sim_enc_pipeline = pipeline(\n",
    "    model='llm-book/bert-base-japanese-v3-unsup-simcse-jawiki',\n",
    "    task='feature-extraction'\n",
    ")\n",
    "\n",
    "text_emb = sim_enc_pipeline(text, return_tensors=True)[0][0]\n",
    "sim_emb = sim_enc_pipeline(sim_text, return_tensors=True)[0][0]\n",
    "\n",
    "sim_pair_score = cosine_similarity(text_emb, sim_emb, dim=0)\n",
    "print(sim_pair_score.item())"
   ]
  },
  {
   "cell_type": "markdown",
   "id": "eb977bea-446e-4fa0-9f98-14514cf4d987",
   "metadata": {},
   "source": [
    "## 1.1.4 固有表現認識"
   ]
  },
  {
   "cell_type": "code",
   "execution_count": 14,
   "id": "08be420c-d59d-4b0f-8a3d-a42d46f85c3f",
   "metadata": {},
   "outputs": [
    {
     "data": {
      "text/plain": [
       "[{'entity_group': '人名',\n",
       "  'score': 0.99810076,\n",
       "  'word': '大谷 翔平',\n",
       "  'start': None,\n",
       "  'end': None},\n",
       " {'entity_group': '地名',\n",
       "  'score': 0.99878407,\n",
       "  'word': '岩手 県 水沢 市',\n",
       "  'start': None,\n",
       "  'end': None}]"
      ]
     },
     "execution_count": 14,
     "metadata": {},
     "output_type": "execute_result"
    }
   ],
   "source": [
    "ner_pipeline = pipeline(\n",
    "    model='llm-book/bert-base-japanese-v3-ner-wikipedia-dataset',\n",
    "    aggregation_strategy='simple'\n",
    ")\n",
    "text='大谷翔平選手は岩手県水沢市出身のプロ野球選手'\n",
    "ner_pipeline(text)"
   ]
  },
  {
   "cell_type": "code",
   "execution_count": 15,
   "id": "d5364a76-e15d-4e00-93e1-9aa11c437433",
   "metadata": {},
   "outputs": [
    {
     "data": {
      "text/plain": [
       "['The Beatles', 'イギリス', 'リヴァプール', 'ローリング ・ ストーン', 'グラミー 賞']"
      ]
     },
     "execution_count": 15,
     "metadata": {},
     "output_type": "execute_result"
    }
   ],
   "source": [
    "# [引用] https://ja.wikipedia.org/wiki/%E3%83%93%E3%83%BC%E3%83%88%E3%83%AB%E3%82%BA\n",
    "text='The Beatlesは、1960年代から1970年にかけて活動したイギリス・リヴァプール出身のロックバンド、および20世紀を代表する音楽グループである。音楽誌『ローリング・ストーン』による「ローリング・ストーンの選ぶ歴史上最も偉大な100組のアーティスト」において第1位にランクインしており[7]、経済紙ウォール・ストリート・ジャーナルの統計算出に基づく「史上最も人気のある100のロックバンド」でも1位となっている[8]。グラミー賞を7回受賞し、23回ノミネートされている[9]。'\n",
    "[item['word'] for item in ner_pipeline(text) if item['score'] >= 0.9]"
   ]
  },
  {
   "cell_type": "markdown",
   "id": "dcc89534-8b81-4aa5-9cfa-f80cfe0b8587",
   "metadata": {},
   "source": [
    "## 1.1.5 要約生成"
   ]
  },
  {
   "cell_type": "code",
   "execution_count": 16,
   "id": "2b740d92-bc4d-48ee-8fa2-e7a28ad738cd",
   "metadata": {},
   "outputs": [
    {
     "data": {
      "text/plain": [
       "[{'generated_text': '「BEATLES」はビートルズの略称'}]"
      ]
     },
     "execution_count": 16,
     "metadata": {},
     "output_type": "execute_result"
    }
   ],
   "source": [
    "text2text_pipeline=pipeline(\n",
    "    model='llm-book/t5-base-long-livedoor-news-corpus'\n",
    ")\n",
    "\n",
    "import re\n",
    "\n",
    "# [引用]  https://ja.wikipedia.org/wiki/%E3%83%93%E3%83%BC%E3%83%88%E3%83%AB%E3%82%BA\n",
    "article='「BEATLES」という名称はジョン・レノンとスチュアート・サトクリフが考えた造語である。レノンの証言では[13]、この名前が考案されたのは1960年の4月で、バディ・ホリーのバンド名「バディ・ホリー&ザ・クリケッツ」のクリケッツ[注釈 6] にあやかり、昆虫の名前で同じように2つの意味を含んでいる言葉としてビートルズ[注釈 7] を、映画『乱暴者』[注釈 8] から思いついた。しかし、バンド名を「ビートルズ」とした頃、クラブ出演を依頼してきたブライアン・キャス[13]は難色を示し[注釈 9]、改名を出演条件として「ロング・ジョン&ピーシズ・オブ・シルヴァー」という名称を提示した。話し合いの上、互いに譲歩して「ロング・ジョン&シルヴァー・ビートルズ」と称することになったが、その後ロング・ジョンを除いて「シルヴァー・ビートルズ」と称した[注釈 10][13]。ただし、1960年8月から行った最初のハンブルク巡業で出演したクラブ「カイザー・ケラー」の広告[14]には「The Beatles」と記載されている。'\n",
    "article = re.sub(r'\\[\\d+\\]|\\[注釈\\s\\d+\\]', '', article)\n",
    "text2text_pipeline(article)"
   ]
  },
  {
   "cell_type": "markdown",
   "id": "76ff3e94-9c5c-441b-9a53-f985376ed11e",
   "metadata": {},
   "source": [
    "要約のほうはイマイチ。。。"
   ]
  },
  {
   "cell_type": "code",
   "execution_count": null,
   "id": "debc0a40-f460-4bec-8279-c048f0103761",
   "metadata": {},
   "outputs": [],
   "source": []
  }
 ],
 "metadata": {
  "kernelspec": {
   "display_name": "Python 3 (ipykernel)",
   "language": "python",
   "name": "python3"
  },
  "language_info": {
   "codemirror_mode": {
    "name": "ipython",
    "version": 3
   },
   "file_extension": ".py",
   "mimetype": "text/x-python",
   "name": "python",
   "nbconvert_exporter": "python",
   "pygments_lexer": "ipython3",
   "version": "3.11.4"
  }
 },
 "nbformat": 4,
 "nbformat_minor": 5
}
