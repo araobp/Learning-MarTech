{
 "cells": [
  {
   "cell_type": "markdown",
   "id": "2babee8c-e038-4c0d-a9f5-e97b97103262",
   "metadata": {},
   "source": [
    "# networkx\n",
    "\n",
    "Date: 2023/11/24"
   ]
  },
  {
   "cell_type": "markdown",
   "id": "11fe5ab0-8375-4383-a3a6-68cbf0faafd6",
   "metadata": {},
   "source": [
    "## Basics"
   ]
  },
  {
   "cell_type": "code",
   "execution_count": 114,
   "id": "a700f24a-a75d-4e03-a9f6-e697c6dc62b6",
   "metadata": {},
   "outputs": [],
   "source": [
    "#!pip3 install networkx"
   ]
  },
  {
   "cell_type": "code",
   "execution_count": 115,
   "id": "971b5160-6c10-4fb1-b486-2ba43fee677d",
   "metadata": {},
   "outputs": [],
   "source": [
    "import networkx as nx\n",
    "G = nx.DiGraph()"
   ]
  },
  {
   "cell_type": "code",
   "execution_count": 116,
   "id": "24701c98-4174-4a89-9f0b-d7c6ce7a976a",
   "metadata": {},
   "outputs": [],
   "source": [
    "G.add_node(1)"
   ]
  },
  {
   "cell_type": "code",
   "execution_count": 117,
   "id": "c3c306bc-0f08-4862-b286-33ff5471f0bd",
   "metadata": {},
   "outputs": [],
   "source": [
    "G.add_nodes_from([2, 3])"
   ]
  },
  {
   "cell_type": "code",
   "execution_count": 118,
   "id": "fa7b8ea5-97b6-41b0-aff9-c22a0a56aac2",
   "metadata": {},
   "outputs": [],
   "source": [
    "G.add_nodes_from([\n",
    "    (4, {\"color\": \"red\"}),\n",
    "    (5, {\"color\": \"green\"}),\n",
    "])"
   ]
  },
  {
   "cell_type": "code",
   "execution_count": 119,
   "id": "7a710203-863b-4ac4-885d-ff753398a1cb",
   "metadata": {},
   "outputs": [],
   "source": [
    "G.add_edge(1, 2)\n",
    "G.add_edge(2, 3)\n",
    "G.add_edge(3, 4)\n",
    "G.add_edge(4, 5)\n",
    "G.add_edge(5, 1)"
   ]
  },
  {
   "cell_type": "code",
   "execution_count": 120,
   "id": "7e7e0056-c3ae-452b-aaea-fe251c0518f8",
   "metadata": {},
   "outputs": [
    {
     "data": {
      "text/plain": [
       "5"
      ]
     },
     "execution_count": 120,
     "metadata": {},
     "output_type": "execute_result"
    }
   ],
   "source": [
    "G.number_of_nodes()"
   ]
  },
  {
   "cell_type": "code",
   "execution_count": 121,
   "id": "bc3e39d5-9b3c-4381-81a7-11b89172e0ae",
   "metadata": {},
   "outputs": [
    {
     "data": {
      "text/plain": [
       "5"
      ]
     },
     "execution_count": 121,
     "metadata": {},
     "output_type": "execute_result"
    }
   ],
   "source": [
    "G.number_of_edges()"
   ]
  },
  {
   "cell_type": "code",
   "execution_count": 122,
   "id": "4e5d6826-ba3c-47c8-ae56-732cd8d1f8cf",
   "metadata": {},
   "outputs": [],
   "source": [
    "import matplotlib.pyplot as plt"
   ]
  },
  {
   "cell_type": "code",
   "execution_count": 123,
   "id": "9cba486f-80a6-4f5c-a969-76a8142dfb98",
   "metadata": {},
   "outputs": [
    {
     "data": {
      "image/png": "[encoded data removed]",
      "text/plain": [
       "<Figure size 640x480 with 1 Axes>"
      ]
     },
     "metadata": {},
     "output_type": "display_data"
    }
   ],
   "source": [
    "nx.draw(G, with_labels=True, arrows=True, font_weight='bold', arrowstyle='->')"
   ]
  },
  {
   "cell_type": "markdown",
   "id": "1690c9da-e98f-4d5b-960a-33adb0e5d626",
   "metadata": {},
   "source": [
    "## Attributes\n",
    "\n",
    "Reference: https://youtu.be/rldKl1CNx-A"
   ]
  },
  {
   "cell_type": "code",
   "execution_count": 124,
   "id": "171897c0-be59-4b53-851b-d9c85ed88280",
   "metadata": {},
   "outputs": [
    {
     "data": {
      "text/plain": [
       "{'name': 'The Beatles', 'version': 0.1}"
      ]
     },
     "execution_count": 124,
     "metadata": {},
     "output_type": "execute_result"
    }
   ],
   "source": [
    "G = nx.Graph()\n",
    "G.graph['name']='The Beatles'\n",
    "G.graph['version']=0.1\n",
    "G.graph"
   ]
  },
  {
   "cell_type": "code",
   "execution_count": 125,
   "id": "11ace778-d214-4871-913a-19eeecd72bdd",
   "metadata": {},
   "outputs": [],
   "source": [
    "G.add_nodes_from([\n",
    "    ('John Lennon', {'Born': '9 October 1940'}),\n",
    "    ('Paul McCartney', {'Born': '18 June 1942'}),\n",
    "    ('George Harrison', {'Born': '25 February 1943'}),\n",
    "    ('Ringo Starr', {'Born': '7 July 1940'}),\n",
    "])"
   ]
  },
  {
   "cell_type": "code",
   "execution_count": 127,
   "id": "5cd34cd7-318f-4401-8685-3958c9fe20fa",
   "metadata": {},
   "outputs": [],
   "source": [
    "G.add_edges_from([\n",
    "    ('John Lennon', 'Paul McCartney', {'weight': 0.5}),\n",
    "    ('Paul McCartney','George Harrison', {'weight': 0.5}),\n",
    "    ('George Harrison', 'Ringo Starr', {'weight': 0.8}),\n",
    "    ('Ringo Starr', 'John Lennon', {'weight': 0.8}),\n",
    "    ('John Lennon', 'George Harrison', {'weight': 0.8}),\n",
    "    ('Paul McCartney','Ringo Starr', {'weight': 1.0})    \n",
    "])"
   ]
  },
  {
   "cell_type": "code",
   "execution_count": 128,
   "id": "5269b8c9-9911-4493-af5b-01a3fd4d7544",
   "metadata": {},
   "outputs": [
    {
     "name": "stdout",
     "output_type": "stream",
     "text": [
      "('John Lennon', {'Born': '9 October 1940'})\n",
      "('Paul McCartney', {'Born': '18 June 1942'})\n",
      "('George Harrison', {'Born': '25 February 1943'})\n",
      "('Ringo Starr', {'Born': '7 July 1940'})\n"
     ]
    }
   ],
   "source": [
    "for node in G.nodes(data=True):\n",
    "    print(node)"
   ]
  },
  {
   "cell_type": "code",
   "execution_count": 129,
   "id": "d6b322ff-46c9-470a-81d7-259c30f91473",
   "metadata": {},
   "outputs": [
    {
     "name": "stdout",
     "output_type": "stream",
     "text": [
      "('John Lennon', 'Paul McCartney', {'weight': 0.5})\n",
      "('John Lennon', 'Ringo Starr', {'weight': 0.8})\n",
      "('John Lennon', 'George Harrison', {'weight': 0.8})\n",
      "('Paul McCartney', 'George Harrison', {'weight': 0.5})\n",
      "('Paul McCartney', 'Ringo Starr', {'weight': 1.0})\n",
      "('George Harrison', 'Ringo Starr', {'weight': 0.8})\n"
     ]
    }
   ],
   "source": [
    "for edge in G.edges(data=True):\n",
    "    print(edge)"
   ]
  },
  {
   "cell_type": "code",
   "execution_count": 130,
   "id": "d5d5ff9e-105f-4ad3-90bb-87fa000cfe46",
   "metadata": {},
   "outputs": [
    {
     "name": "stdout",
     "output_type": "stream",
     "text": [
      "The number of nodes: 4\n",
      "The number of edges: 6\n"
     ]
    }
   ],
   "source": [
    "print(f'The number of nodes: {G.number_of_nodes()}')\n",
    "print(f'The number of edges: {G.number_of_edges()}')"
   ]
  },
  {
   "cell_type": "code",
   "execution_count": 131,
   "id": "832dfda4-1e9e-4890-aa9f-8efbb6bd76a5",
   "metadata": {},
   "outputs": [
    {
     "name": "stdout",
     "output_type": "stream",
     "text": [
      "Degree(John Lennon): 3\n",
      "Degree(Paul McCartney): 3\n",
      "Degree(George Harrison): 3\n",
      "Degree(Ringo Starr): 3\n"
     ]
    }
   ],
   "source": [
    "for node in G.nodes:\n",
    "    print(f'Degree({node}): {G.degree(node)}')"
   ]
  },
  {
   "cell_type": "code",
   "execution_count": 132,
   "id": "9816810f-f23b-4eb7-ae90-a6e8a0bb2d8d",
   "metadata": {},
   "outputs": [
    {
     "name": "stdout",
     "output_type": "stream",
     "text": [
      "Neighbors(John Lennon): ['Paul McCartney', 'Ringo Starr', 'George Harrison']\n",
      "Neighbors(Paul McCartney): ['John Lennon', 'George Harrison', 'Ringo Starr']\n",
      "Neighbors(George Harrison): ['Paul McCartney', 'Ringo Starr', 'John Lennon']\n",
      "Neighbors(Ringo Starr): ['George Harrison', 'John Lennon', 'Paul McCartney']\n"
     ]
    }
   ],
   "source": [
    "for node in G.nodes:\n",
    "    l = [n for n in G.neighbors(node)]\n",
    "    print(f'Neighbors({node}): {l}')"
   ]
  },
  {
   "cell_type": "code",
   "execution_count": 134,
   "id": "54656593-dccc-4475-9cc2-c665ad7c32a4",
   "metadata": {},
   "outputs": [
    {
     "data": {
      "image/png": "[encoded data removed]",
      "text/plain": [
       "<Figure size 600x300 with 1 Axes>"
      ]
     },
     "metadata": {},
     "output_type": "display_data"
    }
   ],
   "source": [
    "fig, ax = plt.subplots(figsize=(6,3))\n",
    "ax.margins(0.3)\n",
    "ax.set_title(G.graph['name'])\n",
    "nx.draw(G, ax=ax, with_labels=True)"
   ]
  },
  {
   "cell_type": "code",
   "execution_count": null,
   "id": "19f131ca-bc14-4935-bcd1-874c13820528",
   "metadata": {},
   "outputs": [],
   "source": []
  },
  {
   "cell_type": "code",
   "execution_count": null,
   "id": "72e694ed-d01f-4779-bb79-1afff4fd9a4a",
   "metadata": {},
   "outputs": [],
   "source": []
  }
 ],
 "metadata": {
  "kernelspec": {
   "display_name": "Python 3 (ipykernel)",
   "language": "python",
   "name": "python3"
  },
  "language_info": {
   "codemirror_mode": {
    "name": "ipython",
    "version": 3
   },
   "file_extension": ".py",
   "mimetype": "text/x-python",
   "name": "python",
   "nbconvert_exporter": "python",
   "pygments_lexer": "ipython3",
   "version": "3.11.4"
  }
 },
 "nbformat": 4,
 "nbformat_minor": 5
}
