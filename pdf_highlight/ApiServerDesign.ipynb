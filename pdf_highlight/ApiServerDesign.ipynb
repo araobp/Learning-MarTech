{
 "cells": [
  {
   "cell_type": "markdown",
   "id": "3a9b369b-1b46-491d-85b1-1b2d8c7cf4e5",
   "metadata": {},
   "source": [
    "# 経済産業省の通商白書を全文検索するAPIサーバの計画\n",
    "\n",
    "Date: 2024/04/29"
   ]
  },
  {
   "cell_type": "markdown",
   "id": "f8adf00d-8a97-4851-a540-8682aa47f79b",
   "metadata": {},
   "source": [
    "## 前処理\n",
    "- Beautiful SoapでPDFファイルのリンクリスト作成\n",
    "- PyMuPDFで各PDFファイルのText抽出しSQLiteへ格納\n",
    "- 同時にspaCyでNERを行い、その結果をSQLiteへ格納\n",
    "\n",
    "```\n",
    "Table \"source\" <= 経産省、総務省、XX株式会社といった白書やIR資料を提供している団体名\n",
    "source, base_url\n",
    "\n",
    "Table \"links\" <= Beautiful Soapで抽出したPDFファイルのURl\n",
    "id(sha1(url)), url, title, fk(source:source)\n",
    "\n",
    "Table \"texts\" <= PyMuPDFで抽出したテキスト\n",
    "fk(info_files:id), page, text\n",
    "\n",
    "Table \"named_entities\" <= spaCyで抽出したNamed Entity\n",
    "fk(info_files:id), page, named_entity, label\n",
    "```\n",
    "\n",
    "## APIサーバ\n",
    "\n",
    "#### /search?keywords=\\<keywords\\>\n",
    "\n",
    "{id: \\<id\\>, filename: \\<filename\\>, page: \\<page\\>, source: \\<source\\>}\n",
    "\n",
    "#### /fetch_pdf/\\<id\\>?\\<keywords\\>\n",
    "\n",
    "該当キーワードをハイライトしてPDFを返送。keywordsなしのときはハイライトせず返信。\n",
    "\n",
    "\n"
   ]
  },
  {
   "cell_type": "markdown",
   "id": "e021bb7c-5915-43b6-bf42-f1d891f6b5fe",
   "metadata": {},
   "source": [
    "## Table: source"
   ]
  },
  {
   "cell_type": "code",
   "execution_count": 67,
   "id": "b08a8853-8983-4211-81c8-7bdde7178f5c",
   "metadata": {},
   "outputs": [],
   "source": [
    "import sqlite3\n",
    "\n",
    "source_meti = \"経済産業省 通商白書\"\n",
    "base_url_meti = \"https://www.meti.go.jp/report/tsuhaku2023\"\n",
    "\n",
    "with sqlite3.connect('database/search.db') as conn:\n",
    "    cur = conn.cursor()\n",
    "    cur.execute('CREATE TABLE IF NOT EXISTS search (source TEXT PRIMARY KEY, base_url TEXT)')\n",
    "    cur.execute('DELETE FROM search')\n",
    "    cur.execute(f'INSERT INTO search (source, base_url) VALUES (\"{source_meti}\", \"{base_url_meti}\")')"
   ]
  },
  {
   "cell_type": "markdown",
   "id": "6e063fa0-a080-4e01-a28f-d7a28a996f5d",
   "metadata": {},
   "source": [
    "## Table: links\n",
    "\n",
    "PDFリンク抽出"
   ]
  },
  {
   "cell_type": "code",
   "execution_count": 3,
   "id": "ea8e5bac-482a-44a4-9c00-aea5495d7dd3",
   "metadata": {},
   "outputs": [],
   "source": [
    "url_meti = \"https://www.meti.go.jp/report/tsuhaku2023/whitepaper_2023.html\""
   ]
  },
  {
   "cell_type": "code",
   "execution_count": 4,
   "id": "6521321f-1830-4be6-9f82-19824ed1625b",
   "metadata": {},
   "outputs": [],
   "source": [
    "import requests\n",
    "from bs4 import BeautifulSoup"
   ]
  },
  {
   "cell_type": "code",
   "execution_count": 14,
   "id": "ba98799b-f704-431a-83fd-bdb1d59cfed6",
   "metadata": {},
   "outputs": [],
   "source": [
    "resp = requests.get(url_meti)\n",
    "html_doc = resp.content.decode('utf-8')"
   ]
  },
  {
   "cell_type": "code",
   "execution_count": 15,
   "id": "4c92ccad-6985-44d2-bf61-fca7c6a3f7e4",
   "metadata": {},
   "outputs": [],
   "source": [
    "soup = BeautifulSoup(html_doc, 'html.parser')"
   ]
  },
  {
   "cell_type": "code",
   "execution_count": 61,
   "id": "40f65a44-d4a0-4917-a40d-fe07becce1e4",
   "metadata": {},
   "outputs": [],
   "source": [
    "all_ul = soup.find_all(\"ul\", {\"class\": \"lnkLst\"})\n",
    "all_as = []\n",
    "for ul in all_uls:\n",
    "    all_as.extend(ul.find_all('a'))\n",
    "\n",
    "# [[url, title], ...]\n",
    "links = filter(lambda x: x[0].endswith('.pdf') ,[[a['href'], a.text] for a in all_as])"
   ]
  },
  {
   "cell_type": "code",
   "execution_count": null,
   "id": "1ceb4ea7-9cfe-471e-b32c-d515376d6e14",
   "metadata": {},
   "outputs": [],
   "source": []
  }
 ],
 "metadata": {
  "kernelspec": {
   "display_name": "Python 3 (ipykernel)",
   "language": "python",
   "name": "python3"
  },
  "language_info": {
   "codemirror_mode": {
    "name": "ipython",
    "version": 3
   },
   "file_extension": ".py",
   "mimetype": "text/x-python",
   "name": "python",
   "nbconvert_exporter": "python",
   "pygments_lexer": "ipython3",
   "version": "3.11.4"
  }
 },
 "nbformat": 4,
 "nbformat_minor": 5
}
