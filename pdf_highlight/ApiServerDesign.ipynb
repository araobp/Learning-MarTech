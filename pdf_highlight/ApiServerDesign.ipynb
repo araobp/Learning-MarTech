{
 "cells": [
  {
   "cell_type": "markdown",
   "id": "3a9b369b-1b46-491d-85b1-1b2d8c7cf4e5",
   "metadata": {},
   "source": [
    "# 経済産業省の通商白書を全文検索するAPIサーバの計画\n",
    "\n",
    "Date: 2024/04/29-\n",
    "\n",
    "注意：汎用化し、経済産業省以外の省庁が発行する白書も検索可能にする。"
   ]
  },
  {
   "cell_type": "markdown",
   "id": "f8adf00d-8a97-4851-a540-8682aa47f79b",
   "metadata": {},
   "source": [
    "## 前処理\n",
    "- Beautiful SoapでPDFファイルのリンクリスト作成\n",
    "- PyMuPDFで各PDFファイルのText抽出しSQLiteへ格納\n",
    "- 同時にspaCyでNERを行い、その結果をSQLiteへ格納\n",
    "\n",
    "```\n",
    "Table \"source\" <= 経産省、総務省、XX株式会社といった白書やIR資料を提供している団体名\n",
    "base_url(primary key), org\n",
    "\n",
    "Table \"links\" <= Beautiful Soapで抽出したPDFファイルのURl\n",
    "path(primary key), title, fk(source:base_url)\n",
    "\n",
    "Table \"texts\" <= PyMuPDFで抽出したテキスト\n",
    "fk(links:path), page, text\n",
    "\n",
    "Table \"named_entities\" <= spaCyで抽出したNamed Entity\n",
    "fk(texts:path), page, named_entity, label\n",
    "```\n",
    "\n",
    "## APIサーバ\n",
    "\n",
    "#### /contain?keywords=\\<keywords\\>\n",
    "\n",
    "\\[{base_url: \\<base_url\\>, path: \\<path\\>, pages: \\<pages\\>},...\\]\n",
    "\n",
    "#### /highlight/\\<base_url\\>/\\<path\\>/\\<page\\>?\\<keywords\\>\n",
    "\n",
    "該当キーワードをハイライトしてPDFを返送。keywordsなしのときはハイライトせず返信。\n",
    "指定ページの前後で合計３ページ分を返信。"
   ]
  },
  {
   "cell_type": "markdown",
   "id": "e021bb7c-5915-43b6-bf42-f1d891f6b5fe",
   "metadata": {},
   "source": [
    "## Table: source"
   ]
  },
  {
   "cell_type": "code",
   "execution_count": 1,
   "id": "b08a8853-8983-4211-81c8-7bdde7178f5c",
   "metadata": {},
   "outputs": [],
   "source": [
    "import sqlite3\n",
    "\n",
    "base_url_meti = \"https://www.meti.go.jp\"\n",
    "org_meti = \"経済産業省\"\n",
    "doc = \"通商白書\"\n",
    "\n",
    "DB_PATH = 'database/search.db'\n",
    "\n",
    "with sqlite3.connect(DB_PATH) as conn:\n",
    "    cur = conn.cursor()\n",
    "    cur.execute('DROP TABLE IF EXISTS source')\n",
    "    cur.execute('CREATE TABLE source (base_url TEXT PRIMARY KEY, org TEXT, doc TEXT, UNIQUE(org, doc))')\n",
    "    cur.execute(f'INSERT INTO source (base_url, org, doc) VALUES (\"{base_url_meti}\", \"{org_meti}\", \"{doc}\")')"
   ]
  },
  {
   "cell_type": "markdown",
   "id": "6e063fa0-a080-4e01-a28f-d7a28a996f5d",
   "metadata": {},
   "source": [
    "## Table: links\n",
    "\n",
    "PDFリンク抽出"
   ]
  },
  {
   "cell_type": "code",
   "execution_count": 2,
   "id": "1ceb4ea7-9cfe-471e-b32c-d515376d6e14",
   "metadata": {},
   "outputs": [
    {
     "data": {
      "text/plain": [
       "'https://www.meti.go.jp'"
      ]
     },
     "execution_count": 2,
     "metadata": {},
     "output_type": "execute_result"
    }
   ],
   "source": [
    "with sqlite3.connect(DB_PATH) as conn:\n",
    "    cur = conn.cursor()\n",
    "    base_url = cur.execute('SELECT base_url FROM source WHERE org = \"経済産業省\" AND doc=\"通商白書\"').fetchone()[0]\n",
    "\n",
    "base_url"
   ]
  },
  {
   "cell_type": "code",
   "execution_count": 3,
   "id": "ea8e5bac-482a-44a4-9c00-aea5495d7dd3",
   "metadata": {},
   "outputs": [],
   "source": [
    "url_meti = \"https://www.meti.go.jp/report/tsuhaku2023/whitepaper_2023.html\""
   ]
  },
  {
   "cell_type": "code",
   "execution_count": 4,
   "id": "6521321f-1830-4be6-9f82-19824ed1625b",
   "metadata": {},
   "outputs": [],
   "source": [
    "import requests\n",
    "from bs4 import BeautifulSoup"
   ]
  },
  {
   "cell_type": "code",
   "execution_count": 5,
   "id": "ba98799b-f704-431a-83fd-bdb1d59cfed6",
   "metadata": {},
   "outputs": [],
   "source": [
    "resp = requests.get(url_meti)\n",
    "html_doc = resp.content.decode('utf-8')"
   ]
  },
  {
   "cell_type": "code",
   "execution_count": 6,
   "id": "4c92ccad-6985-44d2-bf61-fca7c6a3f7e4",
   "metadata": {},
   "outputs": [],
   "source": [
    "soup = BeautifulSoup(html_doc, 'html.parser')"
   ]
  },
  {
   "cell_type": "code",
   "execution_count": 7,
   "id": "5a8b7d0f-8bb7-4199-99af-dec772f0615a",
   "metadata": {},
   "outputs": [],
   "source": [
    "chapter1 = [tag for tag in soup.find_all(string='第Ⅰ部　岐路に立たされる世界経済')]"
   ]
  },
  {
   "cell_type": "code",
   "execution_count": 8,
   "id": "b56cab49-730a-4116-8b3e-ed20a0b2ee13",
   "metadata": {},
   "outputs": [
    {
     "data": {
      "text/plain": [
       "[<ul class=\"lnkLst\">\n",
       " <li>\n",
       " <a href=\"/report/tsuhaku2023/pdf/1-1-1.pdf\">第1節　世界経済の現状と見通し（PDF形式：3,448KB）<img alt=\"PDFファイル\" height=\"16\" src=\"/img_2017/template/icon_pdf.gif\" width=\"16\"/></a></li>\n",
       " <li>\n",
       " <a href=\"/report/tsuhaku2023/pdf/1-1-2.pdf\">第2節　ロシアによるウクライナ侵略を巡る状況とその影響（PDF形式：4,379KB）<img alt=\"PDFファイル\" height=\"16\" src=\"/img_2017/template/icon_pdf.gif\" width=\"16\"/></a></li>\n",
       " <li>\n",
       " <a href=\"/report/tsuhaku2023/pdf/1-1-3.pdf\">第3節　高まるインフレ圧力（PDF形式：4,415KB）<img alt=\"PDFファイル\" height=\"16\" src=\"/img_2017/template/icon_pdf.gif\" width=\"16\"/></a></li>\n",
       " <li>\n",
       " <a href=\"/report/tsuhaku2023/pdf/1-1-4.pdf\">第4節　新興国・途上国で高まる債務リスク（PDF形式：4,771KB）<img alt=\"PDFファイル\" height=\"16\" src=\"/img_2017/template/icon_pdf.gif\" width=\"16\"/></a></li>\n",
       " <li>\n",
       " <a href=\"/report/tsuhaku2023/pdf/1-1-c1.pdf\">コラム1　1980年代の中南米の累積債務問題（PDF形式：1,776KB）<img alt=\"PDFファイル\" height=\"16\" src=\"/img_2017/template/icon_pdf.gif\" width=\"16\"/></a></li>\n",
       " <li>\n",
       " <a href=\"/report/tsuhaku2023/pdf/1-1-5.pdf\">第5節　分断の危機に直面する世界経済（PDF形式：3,758KB）<img alt=\"PDFファイル\" height=\"16\" src=\"/img_2017/template/icon_pdf.gif\" width=\"16\"/></a></li>\n",
       " </ul>,\n",
       " <ul class=\"lnkLst\">\n",
       " <li>\n",
       " <a href=\"/report/tsuhaku2023/pdf/1-2-1.pdf\">第1節　供給サイドの強化（PDF形式：3,421KB）<img alt=\"PDFファイル\" height=\"16\" src=\"/img_2017/template/icon_pdf.gif\" width=\"16\"/></a></li>\n",
       " <li>\n",
       " <a href=\"/report/tsuhaku2023/pdf/1-2-2.pdf\">第2節　自由で公正な貿易秩序と経済安全保障の両立（PDF形式：1,790KB）<img alt=\"PDFファイル\" height=\"16\" src=\"/img_2017/template/icon_pdf.gif\" width=\"16\"/></a></li>\n",
       " <li>\n",
       " <a href=\"/report/tsuhaku2023/pdf/1-2-3.pdf\">第3節　持続可能で包摂的な経済成長及び発展の確保（PDF形式：2,213KB）<img alt=\"PDFファイル\" height=\"16\" src=\"/img_2017/template/icon_pdf.gif\" width=\"16\"/></a></li>\n",
       " <li>\n",
       " <a href=\"/report/tsuhaku2023/pdf/1-1-c2.pdf\">コラム2　アムステルダム市―廃棄を出さない循環経済へ（PDF形式：1,616KB）<img alt=\"PDFファイル\" height=\"16\" src=\"/img_2017/template/icon_pdf.gif\" width=\"16\"/></a></li>\n",
       " <li>\n",
       " <a href=\"/report/tsuhaku2023/pdf/1-1-c3.pdf\">コラム3　「何を測るか」が「何をするか」に影響を与える（PDF形式：1,493KB）<img alt=\"PDFファイル\" height=\"16\" src=\"/img_2017/template/icon_pdf.gif\" width=\"16\"/></a></li>\n",
       " </ul>,\n",
       " <ul class=\"lnkLst\">\n",
       " <li>\n",
       " <a href=\"/report/tsuhaku2023/pdf/1-3-1.pdf\">第1節　米国（PDF形式：2,487KB）<img alt=\"PDFファイル\" height=\"16\" src=\"/img_2017/template/icon_pdf.gif\" width=\"16\"/></a></li>\n",
       " <li>\n",
       " <a href=\"/report/tsuhaku2023/pdf/1-3-2.pdf\">第2節　欧州（PDF形式：2,961KB）<img alt=\"PDFファイル\" height=\"16\" src=\"/img_2017/template/icon_pdf.gif\" width=\"16\"/></a></li>\n",
       " <li>\n",
       " <a href=\"/report/tsuhaku2023/pdf/1-3-3.pdf\">第3節　中国（PDF形式：2,732KB）<img alt=\"PDFファイル\" height=\"16\" src=\"/img_2017/template/icon_pdf.gif\" width=\"16\"/></a></li>\n",
       " <li>\n",
       " <a href=\"/report/tsuhaku2023/pdf/1-3-4.pdf\">第4節　ASEAN・インド（PDF形式：2,930KB）<img alt=\"PDFファイル\" height=\"16\" src=\"/img_2017/template/icon_pdf.gif\" width=\"16\"/></a></li>\n",
       " </ul>,\n",
       " <ul class=\"lnkLst\">\n",
       " <li>\n",
       " <a href=\"/report/tsuhaku2023/pdf/2-1-1.pdf\">第1節　我が国を取り巻くグローバル・バリューチェーンの強靱化（PDF形式：4,610KB）<img alt=\"PDFファイル\" height=\"16\" src=\"/img_2017/template/icon_pdf.gif\" width=\"16\"/></a></li>\n",
       " <li>\n",
       " <a href=\"/report/tsuhaku2023/pdf/2-1-c4.pdf\">コラム4　日ASEAN経済共創ビジョン（PDF形式：1,264KB）<img alt=\"PDFファイル\" height=\"16\" src=\"/img_2017/template/icon_pdf.gif\" width=\"16\"/></a></li>\n",
       " <li>\n",
       " <a href=\"/report/tsuhaku2023/pdf/2-1-2.pdf\">第2節　我が国の経済安全保障戦略の展開と企業側の課題（PDF形式：2,150KB）<img alt=\"PDFファイル\" height=\"16\" src=\"/img_2017/template/icon_pdf.gif\" width=\"16\"/></a></li>\n",
       " </ul>,\n",
       " <ul class=\"lnkLst\">\n",
       " <li>\n",
       " <a href=\"/report/tsuhaku2023/pdf/2-2-1.pdf\">第1節　我が国の経常収支の動向（PDF形式：2,086KB）<img alt=\"PDFファイル\" height=\"16\" src=\"/img_2017/template/icon_pdf.gif\" width=\"16\"/></a></li>\n",
       " <li>\n",
       " <a href=\"/report/tsuhaku2023/pdf/2-2-2.pdf\">第2節　我が国の貿易収支構造の強靱化に向けた課題（PDF形式：1,849KB）<img alt=\"PDFファイル\" height=\"16\" src=\"/img_2017/template/icon_pdf.gif\" width=\"16\"/></a></li>\n",
       " <li>\n",
       " <a href=\"/report/tsuhaku2023/pdf/2-2-3.pdf\">第3節　我が国経済の成長のけん引役として期待されるインバウンド需要（PDF形式：2,365KB）<img alt=\"PDFファイル\" height=\"16\" src=\"/img_2017/template/icon_pdf.gif\" width=\"16\"/></a></li>\n",
       " <li>\n",
       " <a href=\"/report/tsuhaku2023/pdf/2-2-4.pdf\">第4節　企業の海外展開と我が国経済への裨益（PDF形式：3,625KB）<img alt=\"PDFファイル\" height=\"16\" src=\"/img_2017/template/icon_pdf.gif\" width=\"16\"/></a></li>\n",
       " <li>\n",
       " <a href=\"/report/tsuhaku2023/pdf/2-2-c5.pdf\">コラム5　グローバル価値共創ビジネス推進事業（関東経済産業局）（PDF形式：2,381KB）<img alt=\"PDFファイル\" height=\"16\" src=\"/img_2017/template/icon_pdf.gif\" width=\"16\"/></a></li>\n",
       " <li>\n",
       " <a href=\"/report/tsuhaku2023/pdf/2-2-5.pdf\">第5節　海外の技術・人材・イノベーションの取込等「内なる国際化」の促進（PDF形式：3,513KB）<img alt=\"PDFファイル\" height=\"16\" src=\"/img_2017/template/icon_pdf.gif\" width=\"16\"/></a></li>\n",
       " </ul>,\n",
       " <ul class=\"lnkLst\">\n",
       " <li>\n",
       " <a href=\"/report/tsuhaku2023/pdf/3-1-1.pdf\">第1節　G7/G20/OECD（PDF形式：1,741KB）<img alt=\"PDFファイル\" height=\"16\" src=\"/img_2017/template/icon_pdf.gif\" width=\"16\"/></a></li>\n",
       " <li>\n",
       " <a href=\"/report/tsuhaku2023/pdf/3-1-2.pdf\">第2節　APECを通じた地域経済統合の推進と経済成長の促進（PDF形式：1,149KB）<img alt=\"PDFファイル\" height=\"16\" src=\"/img_2017/template/icon_pdf.gif\" width=\"16\"/></a></li>\n",
       " <li>\n",
       " <a href=\"/report/tsuhaku2023/pdf/3-1-3.pdf\">第3節　WTO全体の動向（PDF形式：1,968KB）<img alt=\"PDFファイル\" height=\"16\" src=\"/img_2017/template/icon_pdf.gif\" width=\"16\"/></a></li>\n",
       " <li>\n",
       " <a href=\"/report/tsuhaku2023/pdf/3-1-4.pdf\">第4節　経済連携協定の進展（PDF形式：3,135KB）<img alt=\"PDFファイル\" height=\"16\" src=\"/img_2017/template/icon_pdf.gif\" width=\"16\"/></a></li>\n",
       " <li>\n",
       " <a href=\"/report/tsuhaku2023/pdf/3-1-5.pdf\">第5節　投資関連協定（PDF形式：1,950KB）<img alt=\"PDFファイル\" height=\"16\" src=\"/img_2017/template/icon_pdf.gif\" width=\"16\"/></a></li>\n",
       " <li>\n",
       " <a href=\"/report/tsuhaku2023/pdf/3-1-6.pdf\">第6節　新たな多国間連携（IPEF、日米豪印、デジタル等）（PDF形式：1,559KB）<img alt=\"PDFファイル\" height=\"16\" src=\"/img_2017/template/icon_pdf.gif\" width=\"16\"/></a></li>\n",
       " </ul>,\n",
       " <ul class=\"lnkLst\">\n",
       " <li>\n",
       " <a href=\"/report/tsuhaku2023/pdf/3-2-1.pdf\">第1節　米国（PDF形式：1,257KB）<img alt=\"PDFファイル\" height=\"16\" src=\"/img_2017/template/icon_pdf.gif\" width=\"16\"/></a></li>\n",
       " <li>\n",
       " <a href=\"/report/tsuhaku2023/pdf/3-2-2.pdf\">第2節　欧州（PDF形式：1,145KB）<img alt=\"PDFファイル\" height=\"16\" src=\"/img_2017/template/icon_pdf.gif\" width=\"16\"/></a></li>\n",
       " <li>\n",
       " <a href=\"/report/tsuhaku2023/pdf/3-2-3.pdf\">第3節　中国（PDF形式：1,139KB）<img alt=\"PDFファイル\" height=\"16\" src=\"/img_2017/template/icon_pdf.gif\" width=\"16\"/></a></li>\n",
       " <li>\n",
       " <a href=\"/report/tsuhaku2023/pdf/3-2-4.pdf\">第4節　ASEAN・大洋州（PDF形式：1,159KB）<img alt=\"PDFファイル\" height=\"16\" src=\"/img_2017/template/icon_pdf.gif\" width=\"16\"/></a></li>\n",
       " <li>\n",
       " <a href=\"/report/tsuhaku2023/pdf/3-2-5.pdf\">第5節　インド（PDF形式：1,165KB）<img alt=\"PDFファイル\" height=\"16\" src=\"/img_2017/template/icon_pdf.gif\" width=\"16\"/></a></li>\n",
       " <li>\n",
       " <a href=\"/report/tsuhaku2023/pdf/3-2-6.pdf\">第6節　中南米（PDF形式：1,360KB）<img alt=\"PDFファイル\" height=\"16\" src=\"/img_2017/template/icon_pdf.gif\" width=\"16\"/></a></li>\n",
       " <li>\n",
       " <a href=\"/report/tsuhaku2023/pdf/3-2-7.pdf\">第7節　ロシア（PDF形式：1,890KB）<img alt=\"PDFファイル\" height=\"16\" src=\"/img_2017/template/icon_pdf.gif\" width=\"16\"/></a></li>\n",
       " <li>\n",
       " <a href=\"/report/tsuhaku2023/pdf/3-2-8.pdf\">第8節　中東（PDF形式：1,469KB）<img alt=\"PDFファイル\" height=\"16\" src=\"/img_2017/template/icon_pdf.gif\" width=\"16\"/></a></li>\n",
       " <li>\n",
       " <a href=\"/report/tsuhaku2023/pdf/3-2-9.pdf\">第9節　アフリカ（PDF形式：1,140KB）<img alt=\"PDFファイル\" height=\"16\" src=\"/img_2017/template/icon_pdf.gif\" width=\"16\"/></a></li>\n",
       " </ul>,\n",
       " <ul class=\"lnkLst\">\n",
       " <li>\n",
       " <a href=\"/report/tsuhaku2023/pdf/fuchu.pdf\">付注（PDF形式：1,731KB）<img alt=\"PDFファイル\" height=\"16\" src=\"/img_2017/template/icon_pdf.gif\" width=\"16\"/></a></li>\n",
       " </ul>,\n",
       " <ul class=\"lnkLst\">\n",
       " <li>\n",
       " <a href=\"/report/tsuhaku2023/pdf/sakuin.pdf\">図表索引（PDF形式：1,615KB）<img alt=\"PDFファイル\" height=\"16\" src=\"/img_2017/template/icon_pdf.gif\" width=\"16\"/></a></li>\n",
       " </ul>,\n",
       " <ul class=\"lnkLst\">\n",
       " <li class=\"clearfix\"><a href=\"http://get.adobe.com/jp/reader/\"><img alt=\"Adobe Reader\" height=\"39\" src=\"/img_2017/template/Get_Adobe.png\" width=\"158\"/>ダウンロード（Adobeサイトへ）<img alt=\"外部リンク\" height=\"13\" src=\"/img_2017/template/icon_link.gif\" width=\"13\"/></a></li>\n",
       " </ul>]"
      ]
     },
     "execution_count": 8,
     "metadata": {},
     "output_type": "execute_result"
    }
   ],
   "source": [
    "chapter1[0].find_all_next(\"ul\", {\"class\": \"lnkLst\"})"
   ]
  },
  {
   "cell_type": "code",
   "execution_count": 9,
   "id": "40f65a44-d4a0-4917-a40d-fe07becce1e4",
   "metadata": {},
   "outputs": [],
   "source": [
    "all_ul = chapter1[0].find_all_next(\"ul\", {\"class\": \"lnkLst\"})\n",
    "\n",
    "all_as = []\n",
    "for ul in all_ul:\n",
    "    #print(ul.find_all('a'))\n",
    "    all_as.extend(ul.find_all('a'))\n",
    "\n",
    "# [[url, title], ...]\n",
    "links = filter(lambda x: x[0].endswith('.pdf') ,[[a['href'], a.text] for a in all_as])"
   ]
  },
  {
   "cell_type": "code",
   "execution_count": 10,
   "id": "2a18bd71-3a74-46bb-8715-fc6ee19bce55",
   "metadata": {},
   "outputs": [],
   "source": [
    "with sqlite3.connect(DB_PATH) as conn:\n",
    "    cur = conn.cursor()\n",
    "    cur.execute('DROP TABLE IF EXISTS links')\n",
    "    cur.execute('CREATE TABLE links (path TEXT PRIMARY KEY, title TEXT, base_url TEXT, FOREIGN KEY(base_url) REFERENCES source(base_url))')\n",
    "\n",
    "    for path, title in links:\n",
    "        cur.execute(f'INSERT INTO links (path, title, base_url) VALUES(?, ?, ?)', (path, title, base_url))"
   ]
  },
  {
   "cell_type": "markdown",
   "id": "468361ee-2534-4109-a174-7e7a19edcc61",
   "metadata": {},
   "source": [
    "## Table: texts"
   ]
  },
  {
   "cell_type": "code",
   "execution_count": 11,
   "id": "8890007f-120b-4f4b-9769-19f8dc20717b",
   "metadata": {},
   "outputs": [],
   "source": [
    "from urllib.parse import urljoin\n",
    "\n",
    "with sqlite3.connect(DB_PATH) as conn:\n",
    "    cur = conn.cursor()\n",
    "    links = cur.execute('SELECT * FROM links').fetchall()\n",
    "    \n",
    "all_url = [urljoin(e[2], e[0]) for e in links]"
   ]
  },
  {
   "cell_type": "code",
   "execution_count": 12,
   "id": "2ca08d3f-91b5-49eb-9de1-05a592ad9d76",
   "metadata": {},
   "outputs": [],
   "source": [
    "import requests\n",
    "import fitz\n",
    "\n",
    "resp = requests.get(all_url[0])\n",
    "doc = fitz.open(stream=resp.content)"
   ]
  },
  {
   "cell_type": "code",
   "execution_count": 13,
   "id": "0a912b48-361b-4fcf-8fa6-20c77db9ddd9",
   "metadata": {},
   "outputs": [
    {
     "data": {
      "text/plain": [
       "[(0, '岐路に立たされる世界経済第Ⅰ部'),\n",
       " (1, ''),\n",
       " (2,\n",
       "  '第１節 \\x07世界経済の現状と見通し第２節 \\x07ロシアによるウクライナ侵略を巡る状況とその影響第３節 \\x07高まるインフレ圧力第４節 新興国・途上国で高まる債務リスク第５節 分断の危機に直面する世界経済第１章減速感を強める世界経済'),\n",
       " (3,\n",
       "  '\\u3000本章では、はじめに、世界経済は、ロシアによるウクライナ侵略による不確実性の高まりやインフレの高進、金融引締めの加速により減速感を強めていること、欧米を中心とした急速な金融引締めは、通貨価値の下落、金利上昇を通じてグローバル・サウスを中心に債務リスクを高めていることを示す。\\u3000つぎに、権威主義国の台頭により、世界経済は今、分断の危機に直面する一方、グローバル・サウスは中立的立場で自国の利益を確保する構図となっていることを示す。\\u3000最後に、近年、経済依存関係を武器化する経済的威圧に係る事案が増加しており、 WTO の上級委員会が機能不全に陥る中、欧米諸国では対応の検討を加速していることを示す。世界経済の現状と見通し第１節（1）2022 年の世界経済の概要\\u30002022 年の世界経済は成長鈍化の1 年であった。世界経済の成長率は、2021 年にはパンデミックからの回復により大幅な上昇を見せたものの、2022 年には成長に落ち着きが見られた。成長鈍化の主な要因としては、ロシアによるウクライナ侵略、インフレの加速、中国経済の成長鈍化があげられる。ロシアによるウクライナ侵略は、天然ガスや原油といった資源価格等の高騰、サプライチェーンの断絶とそれに伴う波及的な効果を発生させ、世界経済の成長にとってマイナスに寄与した。インフレ率の高まりは、パンデミック後の需要回復に伴い2021 年の後半から見られ、ロシアによるウクライナ侵略による資源価格の高騰や供給減少がインフレ率の高まりに拍車をかけた。インフレ率の高まりと、それに対処するための各国中央銀行の政策金利の急速な引上げは、家計の購買力の低下や経済活動の停滞、債務の持続可能性に影響を与え、世界経済の成長鈍化の要因となっている。中国経済は、パンデミックの再拡大と都市封鎖の影響により成長が鈍化し、それが世界経済の成長鈍化にも影響を与えた。\\u30002022 年1 月から2023 年4 月の期間に刊行されたIMF、OECD、世界銀行の各国際機関の経済見通し1 における、世界経済について記載された章にテキストマイニングを実施した上で、出現回数の多い単語上位30語2 を、出現回数の多い単語ほど文字の大きさが大きくなるよう図示したものが第I-1-1-1 図である。これを見ると、各国際機関の刊行する経済見通しにおいても、ロシアのウクライナ侵略に関連する可能性の高い単語（“war”,“Russia”,“Ukraine”,“energy”,“gas”,“oil”,“food”など）や、インフレに関連する可能性の高い単語（“inflation”,“Bank”,“tightening”,“debt”,“commodity” など）、中国経済に関連する可能性の高い単語（“China”,“slowdown”など）が出現する頻度が高く、これらの事象に対する注目度が高いことがうかがえる。また、“uncertainty”という言葉も見られ、依然として世界経済が不確実性の高い状況であることが示唆されている。1．減速感を強める世界経済第１章減速感を強める世界経済 1 IMF「WEO」、OECD「Economic Outlook」、世界銀行「Global Economic Prospects」。2 抽出の際には、名詞のみを抽出し、解釈上不要と考えられる一部の単語については除外している。テキストマイニングにおいて、分析の際に除外する単語のことを一般的に、「ストップワード」と呼ぶ。実際に除外した単語については備考欄を参照のこと。42023 White Paper on International Economy and Trade'),\n",
       " (4,\n",
       "  '\\u3000上述の成長鈍化要因の影響により、IMF3 が推計した2022 年の世界のGDP 成長率は3.4％と、2021 年の6.3％から2.9％ポイント下落し、2015 年～2019 年の平均（3.4％）と同程度となった（第I-1-1-2 図）。第Ⅰ-1-1-1 図\\u3000経済見通しにおける頻出単語備考：\\x01文字の大きさが大きいほど、出現回数が多いことを意味する。\\x01ストップワードは以下のとおり。\\x01percent, projected, expected, including, rate, the, that, about, such as, global, growth, percentage, point, could, countries, price, economies, prices, market, policy, outlook, area, rates, level, Figure, effect, levels, policies, year, risk, time, sector, quarter, measure, term, effects, OECD, EMDE, half, increase, economy, support, impact, GDP, output, World, activity, production, pace, crisis, decline, demand, rise, shock, consumer, average, baseline, forecast, end, spending資料：2022 年1 月から2023 年4 月の期間に刊行されたIMF「WEO」、OECD「Economic Outlook」、世界銀行「Global Economic Prospects」から作成。第Ⅰ-1-1-2 図\\u3000世界のGDP 成長率見通しの推移資料：IMF「WEO」から作成。234567234567202320222021（％）6.36.34.44.43.83.83.43.43.43.43.42.82.822年1月見通し22年7月見通し23年1月見通し2015年-2019年平均22年4月見通し22年10月見通し23年4月見通し 3 IMF「WEO」（2023 年4 月）およびIMF「WEO」（2023 年1 月）。第１章第Ⅰ部通商白書  20235第１節世界経済の現状と見通し'),\n",
       " (5,\n",
       "  '（2）\\x07世界のGDP 成長率予測の修正状況と重要単語の推移\\u3000IMF による2022 年の世界のGDP 成長率予測は、ロシアによるウクライナ侵略やインフレなど、様々な要因の今後の動向を考慮して、2022 年内に累次にわたる下方修正がなされている（第I-1-1-2 図）。当初、2022 年1 月の経済見通しの時点では2022 年のGDP成長率予測は4.4％と、オミクロン株の流行やインフレの加速により2021 年の成長率（5.9％）は下回るものの、2015 年～2019 年の平均（3.4％）を上回る見通しであった。しかし、2022 年4 月の経済見通しでは、ロシアによるウクライナ侵略による影響や、インフレの加速に伴う金融引締めの加速を反映して成長率予測は3.6％へ下方修正がなされた。さらに、2022 年7 月の経済見通しでは、インフレと金融引締めの更なる継続や中国におけるパンデミックの再拡大の影響を考慮し、成長率予測は3.2％へと更なる下方修正がなされた。また、2022 年10 月の経済見通しでは、各国の見通しに増減はあるものの、世界の成長率の見通しに修正は無かった。一方で、2023 年1 月の経済見通しにおいて、2022 年の実際の世界経済の成長率は3.4％と推計されており、想定していたよりも成長減速要因の影響が小さかったことから、実際の成長率は見通しを上回る値となった。\\u3000また、IMF の2023 年4 月の経済見通しにおいて、2023 年の世界のGDP 成長率は2.8％と、2022 年の3.4％からさらに減速する見通しとなっている。減速の主な背景としては、2023 年には資源価格の下落や金融引締めの上限への到達が見通されている一方で、足下の金融部門における混乱や各国の家計・企業向けの支援策の段階的な縮小が挙げられている。なお、2023 年の世界成長率の見通しも2022 年の見通しと同様に累次にわたる修正がなされている。直近では上方修正されているものの、依然としてロシアによるウクライナ侵略前と比較すると大幅に低い値となっており（第I-1-1-2 図）、世界経済は減速に向かう見通しとなっている。\\u3000ここで、2022 年1 月から2023 年4 月の期間に刊行されたIMF の経済見通しにおいて、世界経済について記載された章にテキストマイニングを行い、それぞれの経済見通しを特徴付ける単語の抽出を行った。抽出の際には各文章の各単語を文章内における出現頻度と全文章における希少性の両方で評価しスコア付けを行う手法であるTF-IDF 法を用いて、各経済見通しの各単語にスコア付けを行った。そのうえで、それぞれの経済見通しにおけるスコアの大きい上位30 単語4 について、スコアが大きくなるほど文字が大きくなるよう図示したものが、第I-1-1-3 図である。なお、TF-IDF 法のスコア5 は、文章内での出現頻度の高い単語ほど、また、出現する文章数が少ない単語ほど大きくなり、スコアが大きい単語ほど、その文章を特徴付ける単語であるといえる6。第I-1-1-3 図を見ると、インフレーションに関連する可能性の高い単語（“inflation” など）は全経済見通しにおいて、経済見通しを特徴付ける単語として現れている。また、2022年1 月時点の見通しを特徴づける単語として、新型コロナウイルス感染症に関連する可能性が高い単語（“pandemic”,“omicron”,“vaccination” など）が見られる一方で、2022 年4 月以降の見通しを特徴づける単語としてロシアによるウクライナ侵略に関連する可能性が高い単語（“war”,“Russia”,“Ukraine”,“energy”,“gas”,“oil”など）が多く見られる。他にも、2022 年7 月以降の経済見通しでは、中国経済に関連する可能性が高い単語（“China” など）が現れていることも見て取れる。さらに、2023 年4 月には、直近で発生した金融部門の混乱を反映した単語（“debt”,“credit”,“turmoil”,“lending” など）が現れており、新たなリスクが顕在化したことが分かる。このような結果から、経済見通しにおける重要事項は、2022 年当初は新型コロナウイルス感染症とインフレであったが、4 月の経済見通しにおいてロシアによるウクライナ侵略とインフレへとシフトし、7 月以降はさらに中国経済への注目も高まり始めた。さらに、2023 年4 月には、金融部門の混乱という新たなリスク要因が顕在化した、という変遷が示唆される。 4 ストップワードについては図表の備考欄を参照のこと。5 TF-IDF 法によるスコアは、ある単語の文章内での出現頻度と、全文章に占めるその単語が現れる文章数の割合の逆数の自然対数に1 を足した値の積で算出される。scikit-learn のWeb サイトより引用（https://scikit-learn.org/stable/modules/generated/sklearn.feature_extraction.text.TfidfVectorizer.html）。6 清水航、中安有希、鈴木由宇、河野幸弘（2020）「高度なテキスト分析による知識抽出の応用」IHI 技報\\u3000Vol.60 No.1 （ 2020 ）。62023 White Paper on International Economy and Trade第１章減速感を強める世界経済'),\n",
       " (6,\n",
       "  '（3）\\x01中期の世界経済成長見通しの推移\\u3000足下の世界のGDP 成長率の下方修正に伴い、5 年先までの中期の成長率の見通しにも変化がみられる。IMF は、2021 年4 月には、世界の成長率は2022 年に急回復した後、パンデミック前（2015 年～2019 年）のトレンドである3.4％付近に回帰し、2024 年から2026 年にかけて3.4％付近の成長率となると予測していた。しかし、ロシアによるウクライナ侵略やインフレなど新たな成長減速要因が現れる中で、中期の経済成長率の見通しは下方修正がなされている。2023 年4月の世界経済見通しでは、2028 年までの世界の成長率は一貫してパンデミック前のトレンドを下回る見通しとなっており（第I-1-1-4 図）、世界経済の成長鈍化は中期的にも継続する見通しであることが分かる。第Ⅰ-1-1-3 図\\u3000IMF の世界経済見通しにおける重要単語の推移備考：\\x01文字の大きさが大きいほど、TF-IDF 法におけるスコアが高いことを意味する。\\x01ストップワードは以下のとおり。\\x01percent, expected, including, rate, global, growth, could, figure, economies, area, staff, point, world, level, forecast, country, output, year, data, source, time, outlook, market, percentage, prices, price, april, july, january, october, scenario, policy, weo, baseline, effect, rate, error, panel, capita, quarter, average, risk, june, sector, extraction, chapter, decrease, dollar, core, house, demand, production, gdp, trade, share, path, winter, downside, decline, impact, quality, imf, channel, activity, curve, basis, cost, pace, worldwide, chain, basis, headline, grip, goal, correlation, end, economy, boost, ppe, glasgow, rise, increase, term ,pressure資料：2022 年1 月から2023 年4 月の期間に刊行されたIMF「WEO」から作成。第１章第Ⅰ部通商白書  20237第１節世界経済の現状と見通し'),\n",
       " (7,\n",
       "  '（1）世界経済のリスクシナリオ\\u3000世界経済の見通しには、先行きリスクが複数存在しており、そうしたリスクの顕在化によりGDP 成長率が予測を下回る可能性がある。IMF は、2023 年及び2024 年の世界の成長率にマイナスの影響を与えうるリスクとして、金融環境の悪化、資本価格の下落、ドル高の進行、消費者信頼感の下落を挙げている。これらの四つのリスクが経済成長率に与える影響の大きさの試算結果を示したのが第I-1-1-5 図である。2023年についてみると、金融環境の悪化、資本価格の下落、消費者信頼感の下落は約0.5％ポイントの下落要因、ドル高の進行は約0.2％ポイントの下落要因であり、これらのリスクの顕在化により経済成長率の見通しはベースラインの2.8％から最大で約1.8％ポイント下落する可能性があると試算されている。2．先行きリスクと不確実性の動向第Ⅰ-1-1-4 図\\u3000世界経済の成長率のトレンド資料：IMF「WEO」から作成。2.5%3.0%3.5%4.0%4.5%202820272026202520242023202220282027202620252024202320222022年4月見通し2022年4月見通し2015-2019年平均2015-2019年平均2023年4月見通し2023年4月見通し2021年4月見通し2021年4月見通し第Ⅰ-1-1-5 図\\u3000世界のGDP 成長率の下押しリスク備考：\\x01それぞれのリスク要因について、具体的には下記のような状態を想定している。\\x01金融環境の悪化：2023 年に米国の銀行貸出が4％減少し、社債のスプレッドが250bp 拡大し、その波及的な影響を各国が受ける場合。\\x01資本価格の下落：世界の資本価格が金融環境の悪化により10％下落し、2023 年平均で6％下落した場合。\\x01ドル高の進行：アジアを除く途上国の国債プレミアムの大幅な上昇と、安全資産への逃避による米ドルの約10％の増価が起きた場合。\\x01消費者信頼感の下落：\\x01各国において予備的貯蓄により消費が減退し、景況感の悪化により投資が減退した場合。（米国では、消費の0.3％の減少、投資の1.0％の減少したケースを想定。）資料：IMF「WEO」から作成。（%pt）世界世界-2-2-2-1.5-1.5-1.5-1-1-1-0.5-0.5-0.500202420242024202320232023消費者信頼感の下落消費者信頼感の下落資本価格の下落資本価格の下落ドル高の進行ドル高の進行金融環境の悪化金融環境の悪化-0.5-0.5-0.5-0.5-0.5-0.5-0.3-0.3-0.3-0.3-0.3-0.3-0.3-0.3-0.3-0.5-0.5-0.5-0.2-0.2-0.2-0.5-0.5-0.582023 White Paper on International Economy and Trade第１章減速感を強める世界経済'),\n",
       " (8,\n",
       "  '（2）不確実性指数の動向\\u3000こうしたリスクの動向は、不確実性を表す各種指数からも確認することができる。世界の不確実性を表す世界不確実性指数7、経済政策の不確実性を表す政策不確実性指数8、株式市場の不確実性を表すVIX 指数9 を見ると、新型コロナウイルス感染症拡大により2020 年前半に急上昇した後、徐々に低下したものの、2021 年前半を底として上昇傾向に転じている。さらに、ロシアによるウクライナ侵略の影響により2022年2 月以降上昇傾向が強まり、2022 年後半には一定の低下はあったものの、依然として高い水準を維持している。また、地政学的な不確実性を表す地政学的リスク指数10 を見ると、ロシアによるウクライナ侵略の影響により2022 年3 月に急上昇し、その後はロシアによるウクライナ侵略前の水準よりも高い水準で推移している。これらの不確実性を表す指数の推移から、世界経済の不確実性はパンデミック時やロシアによるウクライナ侵略の直後と比較すると低下してはいるものの、依然として高い水準であり、不確実性の高い状態が続いていることが示唆される（第I-1-1-6 図）。\\u3000以上、2022 年の世界経済の状況及び先行きリスクについて概観してきた。次節では、2022 年の不確実性の高まりに大きな影響を与えたロシアによるウクライナ侵略を巡る状況とその影響について見ていく。第Ⅰ-1-1-6 図\\u3000不確実性指数の推移備考：世界不確実性指数はGDP の加重平均。資料：\\x01世界不確実性指数はWorld Uncertainty Index から作成。政策不確実性指数、地政学的リスク指数はEconomic Uncertainty Index から作成。VIX 指数はRefinitiv database から作成。2023010,00020,00030,00040,00050,00060,00070,00014321432143214321世界不確実性指数途上国先進国世界2019202020212022VIX01020304050607080902023/1/312023/1/312022/7/292022/7/292022/1/312022/1/312021/7/302021/7/302021/1/292021/1/292020/7/312020/7/312020/1/312020/1/312019/7/312019/7/312019/1/312019/1/31地政学的リスク指数050100150200250300350111975311197531119753111975312019202020212022202320192020202120220501001502002503003504004321432143214321政策不確実性指数 7 英国の定期刊行物「エコノミスト」の調査部門エコノミック・インテリジェンス・ユニットに属する各国の報告書内における「不確実（uncertain）」及びそれに関連する言葉の割合を計算したもの。数字が大きくなるほど不確実性が高いことを示す。WUI のWeb サイトより引用（https://worlduncertaintyindex.com/、2023 年4 月3 日閲覧）8 各国の新聞において経済政策の不確実性（Economic Policy Uncertainty）について論じた記事の割合を計算したもの。数字が大きくなるほど政策不確実性が高いことを示す。\\x01EPU のWeb サイトより引用（https://www.policyuncertainty.com/global_monthly.html、2023 年4 月3 日閲覧）。9 米シカゴ・オプション取引所（CBOE）が、S ＆P500 種株価指数を対象とするオプション取引のボラティリティ（変動率）を基に算出、公表している指数。将来の相場に対する投資家心理を反映する指数とされており、一般的にVIX の数値が高いほど投資家の先行き不透明感も強いとされる。\\x01野村證券株式会社Web サイトから引用（https://www.nomura.co.jp/terms/japan/ki/vix.html、2023 年4 月4 日閲覧）。10 新聞の記事内において、地政学的事象に関連する記事の割合を計算したもの。戦争の脅威、平和への脅威、軍備増強、核の脅威、テロの脅威、戦争の開始、戦争の拡大、テロ行為、の八つのカテゴリーからなる。数字が大きくなるほど地政学的リスクが高いことを示す。Geopolitical Risk（GPR）Index Web サイトより引用（https://www.matteoiacoviello.com/gpr.htm、2023 年4 月4 日閲覧）第１章第Ⅰ部通商白書  20239第１節世界経済の現状と見通し')]"
      ]
     },
     "execution_count": 13,
     "metadata": {},
     "output_type": "execute_result"
    }
   ],
   "source": [
    "extract_text = lambda page: (page.number, page.get_text(\"text\").replace('\\n', ''))\n",
    "\n",
    "[extract_text(page) for page in doc]"
   ]
  },
  {
   "cell_type": "code",
   "execution_count": 18,
   "id": "4f93344d-bd7f-4cde-be1c-a262a6ef8731",
   "metadata": {},
   "outputs": [
    {
     "name": "stdout",
     "output_type": "stream",
     "text": [
      "1/41, 2/41, 3/41, 4/41, 5/41, 6/41, 7/41, 8/41, 9/41, 10/41, 11/41, 12/41, 13/41, 14/41, 15/41, 16/41, 17/41, 18/41, 19/41, 20/41, 21/41, 22/41, 23/41, 24/41, 25/41, 26/41, 27/41, 28/41, 29/41, 30/41, 31/41, 32/41, 33/41, 34/41, 35/41, 36/41, 37/41, 38/41, 39/41, 40/41, 41/41, "
     ]
    }
   ],
   "source": [
    "# 本番処理\n",
    "with sqlite3.connect(DB_PATH) as conn:\n",
    "    cur = conn.cursor()\n",
    "    cur.execute('DROP TABLE IF EXISTS texts')\n",
    "    cur.execute('CREATE TABLE texts (path TEXT, page INTEGER, text TEXT, FOREIGN KEY(path) REFERENCES links(path))')\n",
    "\n",
    "    total = len(links)\n",
    "    cnt = 1\n",
    "    \n",
    "    for link in links:\n",
    "        print(f'{cnt}/{total}', end=' ')\n",
    "        cnt += 1\n",
    "        path = link[0]\n",
    "        url = urljoin(link[2], link[0])\n",
    "        resp = requests.get(url)\n",
    "        doc = fitz.open(stream=resp.content)\n",
    "        for page in doc:\n",
    "            page_num, text = extract_text(page)\n",
    "            cur.execute('INSERT INTO texts (path, page, text) VALUES (?, ?, ?)', (path, page_num, text))"
   ]
  },
  {
   "cell_type": "markdown",
   "id": "60e92751-2565-42b2-9eee-e50efaa6cda8",
   "metadata": {},
   "source": [
    "## Table: named_entities"
   ]
  }
 ],
 "metadata": {
  "kernelspec": {
   "display_name": "Python 3 (ipykernel)",
   "language": "python",
   "name": "python3"
  },
  "language_info": {
   "codemirror_mode": {
    "name": "ipython",
    "version": 3
   },
   "file_extension": ".py",
   "mimetype": "text/x-python",
   "name": "python",
   "nbconvert_exporter": "python",
   "pygments_lexer": "ipython3",
   "version": "3.11.4"
  }
 },
 "nbformat": 4,
 "nbformat_minor": 5
}
