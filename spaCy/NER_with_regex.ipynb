{
 "cells": [
  {
   "cell_type": "markdown",
   "id": "03e9d06f-be1e-4414-9c4b-e27c72349173",
   "metadata": {},
   "source": [
    "# 何故regexで国名抽出するときにNERで前処理する必要があるか？\n",
    "\n",
    "Date: 2023/12/06, 2023/12/07\n",
    "\n",
    "国名リストがある場合、spaCyでNERを行い、その結果に対して国名抽出すると良い。\n",
    "\n",
    "- 固有表現、かつ、GPE, ORG, LOC であれば、国を意味する表現から国名抽出している確率が高くなる。\n",
    "- NERかけないと、国を意味しない表現から国名抽出してしまうケースが多く発生してしまう。"
   ]
  },
  {
   "cell_type": "code",
   "execution_count": 1,
   "id": "f23a5a65-1bce-4df7-8c24-c16d7cf087df",
   "metadata": {},
   "outputs": [],
   "source": [
    "import spacy\n",
    "from spacy.matcher import PhraseMatcher\n",
    "import re\n",
    "\n",
    "nlp = spacy.load('ja_core_news_sm')"
   ]
  },
  {
   "cell_type": "code",
   "execution_count": 2,
   "id": "cee702bc-1853-4b51-a13b-844f7d551380",
   "metadata": {},
   "outputs": [],
   "source": [
    "TEXT1 = '明日は本社で日本語を話せるドイツ人に合う'\n",
    "TEXT2 = '明日は本社でドイツの海外現地法人から来た出張者と日本の話をする'\n",
    "TEXT3 = '昨日はメンタイコでご飯を食べた'\n",
    "TEXT4 = 'コンゴ共和国にはゴリラがいるのか？'\n",
    "TEXT5 = 'コンゴにはゴリラがいるのか？'\n",
    "pattern = r'日本|ドイツ|タイ|コンゴ|コンゴ共和国'\n",
    "pattern_for_nre = r'^日本$|^ドイツ$|^タイ$|コンゴ'\n",
    "pattern_for_nre2 = r'^日本$|^ドイツ$|^タイ$|^コンゴ共和国$'\n",
    "pattern_for_phasematcher = ['日本', 'ドイツ', 'タイ', 'コンゴ共和国']\n",
    "pattern_for_phasematcher = [nlp.make_doc(term) for term in pattern_for_phasematcher]"
   ]
  },
  {
   "cell_type": "markdown",
   "id": "6b099030-2bce-40d2-9932-f482d28b276b",
   "metadata": {},
   "source": [
    "## NERなしの国名認識が失敗する例"
   ]
  },
  {
   "cell_type": "code",
   "execution_count": 3,
   "id": "d854be73-de25-4b0b-a580-0ef7fcc785a1",
   "metadata": {},
   "outputs": [
    {
     "name": "stdout",
     "output_type": "stream",
     "text": [
      "---明日は本社で日本語を話せるドイツ人に合う\n",
      "Match found: 日本 日本\n",
      "Match found: ドイツ ドイツ\n",
      "---明日は本社でドイツの海外現地法人から来た出張者と日本の話をする\n",
      "Match found: ドイツ ドイツ\n",
      "Match found: 日本 日本\n",
      "---昨日はメンタイコでご飯を食べた\n",
      "Match found: タイ タイ\n",
      "---コンゴ共和国にはゴリラがいるのか？\n",
      "Match found: コンゴ コンゴ\n",
      "---コンゴにはゴリラがいるのか？\n",
      "Match found: コンゴ コンゴ\n"
     ]
    }
   ],
   "source": [
    "for text in (TEXT1, TEXT2, TEXT3, TEXT4, TEXT5):\n",
    "    print(f'---{text}')\n",
    "    for m in re.finditer(pattern, text):\n",
    "        print(f'Match found: {text[m.start():m.end()]} {m.group(0)}')"
   ]
  },
  {
   "cell_type": "code",
   "execution_count": 4,
   "id": "89c1cb0f-e886-49a8-8700-c334e7cc9137",
   "metadata": {},
   "outputs": [
    {
     "name": "stdout",
     "output_type": "stream",
     "text": [
      "---昨日\n",
      "---は\n",
      "---メンタイコ\n",
      "---で\n",
      "---ご飯\n",
      "---を\n",
      "---食べ\n",
      "---た\n",
      "---明日\n",
      "---は\n",
      "---本社\n",
      "---で\n",
      "---日本\n",
      "Match found: 日本\n",
      "---語\n",
      "---を\n",
      "---話せる\n",
      "---ドイツ\n",
      "Match found: ドイツ\n",
      "---人\n",
      "---に\n",
      "---合う\n"
     ]
    }
   ],
   "source": [
    "# Tokenでマッチをかければメンタイコがタイと認識されなくなるが、日本語が日本、ドイツ語がドイツと認識されてしまう。\n",
    "# 製品名の辞書があって、文章から製品名を抽出するケースでは、このパターンでも良いかも。\n",
    "for doc in nlp.pipe((TEXT3, TEXT1)):\n",
    "    for token in doc:\n",
    "        print(f'---{token}')\n",
    "        match = re.match(pattern_for_nre2, token.text)\n",
    "        if match:\n",
    "            start = match.start()\n",
    "            end = match.end()\n",
    "            print(f'Match found: {token.text[start:end]}')  "
   ]
  },
  {
   "cell_type": "code",
   "execution_count": 5,
   "id": "92c8bc76-b6c2-4928-bd3a-a6fa4285e156",
   "metadata": {},
   "outputs": [
    {
     "name": "stdout",
     "output_type": "stream",
     "text": [
      "---明日は本社で日本語を話せるドイツ人に合う\n",
      "日本 countries\n",
      "ドイツ countries\n",
      "---明日は本社でドイツの海外現地法人から来た出張者と日本の話をする\n",
      "ドイツ countries\n",
      "日本 countries\n",
      "---昨日はメンタイコでご飯を食べた\n",
      "---コンゴ共和国にはゴリラがいるのか？\n",
      "コンゴ共和国 countries\n",
      "---コンゴにはゴリラがいるのか？\n"
     ]
    }
   ],
   "source": [
    "#PhraseMatcherを使っても、日本語が日本、ドイツ語がドイツと認識されてしまう。\n",
    "# 製品名の辞書があって、文章から製品名を抽出するケースでは、PhaseMatcher使えるかも。\n",
    "matcher = PhraseMatcher(nlp.vocab)\n",
    "matcher.add('countries', pattern_for_phasematcher)\n",
    "\n",
    "for doc in nlp.pipe((TEXT1, TEXT2, TEXT3, TEXT4, TEXT5)):\n",
    "    print(f'---{doc.text}')\n",
    "    matches = matcher(doc, as_spans=True)\n",
    "    for span in matches:\n",
    "        print(span.text, span.label_)"
   ]
  },
  {
   "cell_type": "markdown",
   "id": "3755e0d8-ec63-49a6-943f-c77e1b207fe8",
   "metadata": {},
   "source": [
    "## NERありの国名認識では失敗しない"
   ]
  },
  {
   "cell_type": "code",
   "execution_count": 6,
   "id": "a8f0486f-9879-46ce-bf9b-40496d2ad1b2",
   "metadata": {},
   "outputs": [
    {
     "name": "stdout",
     "output_type": "stream",
     "text": [
      "---明日は本社で日本語を話せるドイツ人に合う\n",
      "---明日は本社でドイツの海外現地法人から来た出張者と日本の話をする\n",
      "ドイツ\n",
      "Match found: ドイツ GPE\n",
      "日本\n",
      "Match found: 日本 GPE\n",
      "---昨日はメンタイコでご飯を食べた\n",
      "---コンゴ共和国にはゴリラがいるのか？\n",
      "コンゴ共和国\n",
      "Match found: コンゴ共和国 GPE\n",
      "---コンゴにはゴリラがいるのか？\n"
     ]
    }
   ],
   "source": [
    "# 注意：正規表現を^...$で囲わないと部分マッチになる\n",
    "for doc in nlp.pipe([TEXT1, TEXT2, TEXT3, TEXT4, TEXT5]):\n",
    "    print(f'---{doc.text}')\n",
    "    for ent in doc.ents:\n",
    "        #print(ent.text, ent.label_)\n",
    "        if ent.label_ in ('GPE', 'ORG', 'LOC'):\n",
    "            print(ent.text)\n",
    "            match = re.match(pattern_for_nre, ent.text)\n",
    "            if match:\n",
    "                start = match.start()\n",
    "                end = match.end()\n",
    "                print(f'Match found: {ent[start:end]} {ent.label_}')"
   ]
  },
  {
   "cell_type": "code",
   "execution_count": 7,
   "id": "bbd6b48d-39f2-4ed3-917b-4094cde92a57",
   "metadata": {},
   "outputs": [
    {
     "name": "stdout",
     "output_type": "stream",
     "text": [
      "---明日は本社で日本語を話せるドイツ人に合う\n",
      "---明日は本社でドイツの海外現地法人から来た出張者と日本の話をする\n",
      "ドイツ\n",
      "Match found: ドイツ GPE\n",
      "日本\n",
      "Match found: 日本 GPE\n",
      "---昨日はメンタイコでご飯を食べた\n",
      "---コンゴ共和国にはゴリラがいるのか？\n",
      "コンゴ共和国\n",
      "Match found: コンゴ共和国 GPE\n",
      "---コンゴにはゴリラがいるのか？\n"
     ]
    }
   ],
   "source": [
    "# 注意：正規表現を^...$で囲うと完全マッチになる\n",
    "for doc in nlp.pipe([TEXT1, TEXT2, TEXT3, TEXT4, TEXT5]):\n",
    "    print(f'---{doc.text}')\n",
    "    for ent in doc.ents:\n",
    "        #print(ent.text, ent.label_)\n",
    "        if ent.label_ in ('GPE', 'ORG', 'LOC'):\n",
    "            print(ent.text)\n",
    "            match = re.match(pattern_for_nre2, ent.text)\n",
    "            if match:\n",
    "                start = match.start()\n",
    "                end = match.end()\n",
    "                print(f'Match found: {ent[start:end]} {ent.label_}')"
   ]
  },
  {
   "cell_type": "code",
   "execution_count": null,
   "id": "cbcbb817-f48d-40b8-8bb0-f8d4717ef44b",
   "metadata": {},
   "outputs": [],
   "source": []
  }
 ],
 "metadata": {
  "kernelspec": {
   "display_name": "Python 3 (ipykernel)",
   "language": "python",
   "name": "python3"
  },
  "language_info": {
   "codemirror_mode": {
    "name": "ipython",
    "version": 3
   },
   "file_extension": ".py",
   "mimetype": "text/x-python",
   "name": "python",
   "nbconvert_exporter": "python",
   "pygments_lexer": "ipython3",
   "version": "3.11.4"
  }
 },
 "nbformat": 4,
 "nbformat_minor": 5
}
