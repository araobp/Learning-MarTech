{
 "cells": [
  {
   "cell_type": "markdown",
   "id": "03e9d06f-be1e-4414-9c4b-e27c72349173",
   "metadata": {},
   "source": [
    "# 何故regexで国名抽出するときにNERで前処理する必要があるか？\n",
    "\n",
    "Date: 2023/12/06, 2023/12/07\n",
    "\n",
    "国名リストがある場合、spaCyでNERを行い、その結果に対して国名抽出すると良い。\n",
    "\n",
    "- 固有表現、かつ、GPE, ORG, LOC であれば、国を意味する表現から国名抽出している確率が高くなる。\n",
    "- NERかけないと、国を意味しない表現から国名抽出してしまうケースが多く発生してしまう。"
   ]
  },
  {
   "cell_type": "code",
   "execution_count": 1,
   "id": "f23a5a65-1bce-4df7-8c24-c16d7cf087df",
   "metadata": {},
   "outputs": [],
   "source": [
    "import spacy\n",
    "import re\n",
    "\n",
    "nlp = spacy.load('ja_core_news_sm')"
   ]
  },
  {
   "cell_type": "code",
   "execution_count": 2,
   "id": "cee702bc-1853-4b51-a13b-844f7d551380",
   "metadata": {},
   "outputs": [],
   "source": [
    "TEXT1 = '明日は本社で日本語を話せるドイツ人に合う'\n",
    "TEXT2 = '明日は本社でドイツの海外現地法人から来た出張者と日本の話をする'\n",
    "TEXT3 = '昨日はメンタイコでご飯を食べた'\n",
    "TEXT4 = 'コンゴ共和国にはゴリラがいるのか？'\n",
    "TEXT5 = 'コンゴにはゴリラがいるのか？'\n",
    "pattern = r'日本|ドイツ|タイ|コンゴ|コンゴ共和国'\n",
    "pattern_for_nre = r'^日本$|^ドイツ$|^タイ$|コンゴ'\n",
    "pattern_for_nre2 = r'^日本$|^ドイツ$|^タイ$|^コンゴ共和国$'"
   ]
  },
  {
   "cell_type": "markdown",
   "id": "6b099030-2bce-40d2-9932-f482d28b276b",
   "metadata": {},
   "source": [
    "## NERなしの国名認識が失敗する例"
   ]
  },
  {
   "cell_type": "code",
   "execution_count": 3,
   "id": "d854be73-de25-4b0b-a580-0ef7fcc785a1",
   "metadata": {},
   "outputs": [
    {
     "name": "stdout",
     "output_type": "stream",
     "text": [
      "---明日は本社で日本語を話せるドイツ人に合う\n",
      "Match found: 日本 日本\n",
      "Match found: ドイツ ドイツ\n",
      "---明日は本社でドイツの海外現地法人から来た出張者と日本の話をする\n",
      "Match found: ドイツ ドイツ\n",
      "Match found: 日本 日本\n",
      "---昨日はメンタイコでご飯を食べた\n",
      "Match found: タイ タイ\n",
      "---コンゴ共和国にはゴリラがいるのか？\n",
      "Match found: コンゴ コンゴ\n",
      "---コンゴにはゴリラがいるのか？\n",
      "Match found: コンゴ コンゴ\n"
     ]
    }
   ],
   "source": [
    "for text in (TEXT1, TEXT2, TEXT3, TEXT4, TEXT5):\n",
    "    print(f'---{text}')\n",
    "    for m in re.finditer(pattern, text):\n",
    "        print(f'Match found: {text[m.start():m.end()]} {m.group(0)}')"
   ]
  },
  {
   "cell_type": "markdown",
   "id": "3755e0d8-ec63-49a6-943f-c77e1b207fe8",
   "metadata": {},
   "source": [
    "## NERありの国名認識では失敗しない"
   ]
  },
  {
   "cell_type": "code",
   "execution_count": 4,
   "id": "a8f0486f-9879-46ce-bf9b-40496d2ad1b2",
   "metadata": {},
   "outputs": [
    {
     "name": "stdout",
     "output_type": "stream",
     "text": [
      "---明日は本社で日本語を話せるドイツ人に合う\n",
      "---明日は本社でドイツの海外現地法人から来た出張者と日本の話をする\n",
      "ドイツ\n",
      "Match found: ドイツ GPE\n",
      "日本\n",
      "Match found: 日本 GPE\n",
      "---昨日はメンタイコでご飯を食べた\n",
      "---コンゴ共和国にはゴリラがいるのか？\n",
      "コンゴ共和国\n",
      "Match found: コンゴ共和国 GPE\n",
      "---コンゴにはゴリラがいるのか？\n"
     ]
    }
   ],
   "source": [
    "# 注意：正規表現を^...$で囲わないと部分マッチになる\n",
    "for doc in nlp.pipe([TEXT1, TEXT2, TEXT3, TEXT4, TEXT5]):\n",
    "    print(f'---{doc.text}')\n",
    "    for ent in doc.ents:\n",
    "        #print(ent.text, ent.label_)\n",
    "        if ent.label_ in ('GPE', 'ORG', 'LOC'):\n",
    "            print(ent.text)\n",
    "            match = re.match(pattern_for_nre, ent.text)\n",
    "            if match:\n",
    "                start = match.start()\n",
    "                end = match.end()\n",
    "                print(f'Match found: {ent[start:end]} {ent.label_}')"
   ]
  },
  {
   "cell_type": "code",
   "execution_count": 5,
   "id": "bbd6b48d-39f2-4ed3-917b-4094cde92a57",
   "metadata": {},
   "outputs": [
    {
     "name": "stdout",
     "output_type": "stream",
     "text": [
      "---明日は本社で日本語を話せるドイツ人に合う\n",
      "---明日は本社でドイツの海外現地法人から来た出張者と日本の話をする\n",
      "ドイツ\n",
      "Match found: ドイツ GPE\n",
      "日本\n",
      "Match found: 日本 GPE\n",
      "---昨日はメンタイコでご飯を食べた\n",
      "---コンゴ共和国にはゴリラがいるのか？\n",
      "コンゴ共和国\n",
      "Match found: コンゴ共和国 GPE\n",
      "---コンゴにはゴリラがいるのか？\n"
     ]
    }
   ],
   "source": [
    "# 注意：正規表現を^...$で囲うと完全マッチになる\n",
    "for doc in nlp.pipe([TEXT1, TEXT2, TEXT3, TEXT4, TEXT5]):\n",
    "    print(f'---{doc.text}')\n",
    "    for ent in doc.ents:\n",
    "        #print(ent.text, ent.label_)\n",
    "        if ent.label_ in ('GPE', 'ORG', 'LOC'):\n",
    "            print(ent.text)\n",
    "            match = re.match(pattern_for_nre2, ent.text)\n",
    "            if match:\n",
    "                start = match.start()\n",
    "                end = match.end()\n",
    "                print(f'Match found: {ent[start:end]} {ent.label_}')"
   ]
  },
  {
   "cell_type": "code",
   "execution_count": null,
   "id": "cbcbb817-f48d-40b8-8bb0-f8d4717ef44b",
   "metadata": {},
   "outputs": [],
   "source": []
  }
 ],
 "metadata": {
  "kernelspec": {
   "display_name": "Python 3 (ipykernel)",
   "language": "python",
   "name": "python3"
  },
  "language_info": {
   "codemirror_mode": {
    "name": "ipython",
    "version": 3
   },
   "file_extension": ".py",
   "mimetype": "text/x-python",
   "name": "python",
   "nbconvert_exporter": "python",
   "pygments_lexer": "ipython3",
   "version": "3.11.4"
  }
 },
 "nbformat": 4,
 "nbformat_minor": 5
}
