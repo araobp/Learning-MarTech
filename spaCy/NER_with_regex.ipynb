{
 "cells": [
  {
   "cell_type": "markdown",
   "id": "03e9d06f-be1e-4414-9c4b-e27c72349173",
   "metadata": {},
   "source": [
    "# 何故regexで国名抽出するときにNERで前処理する必要があるか？\n",
    "\n",
    "Date: 2023/12/06"
   ]
  },
  {
   "cell_type": "code",
   "execution_count": 6,
   "id": "f23a5a65-1bce-4df7-8c24-c16d7cf087df",
   "metadata": {},
   "outputs": [],
   "source": [
    "import spacy\n",
    "import re\n",
    "\n",
    "nlp = spacy.load('ja_core_news_sm')"
   ]
  },
  {
   "cell_type": "code",
   "execution_count": 2,
   "id": "cee702bc-1853-4b51-a13b-844f7d551380",
   "metadata": {},
   "outputs": [],
   "source": [
    "TEXT1 = '明日は本社で日本語を話せるドイツ人に合う'\n",
    "TEXT2 = '明日は本社でドイツの海外現地法人から来た出張者と日本の話をする'\n",
    "pattern = r'日本|ドイツ'"
   ]
  },
  {
   "cell_type": "code",
   "execution_count": 3,
   "id": "8eea4bd1-daba-43b0-add3-32affc627f75",
   "metadata": {},
   "outputs": [
    {
     "name": "stdout",
     "output_type": "stream",
     "text": [
      "明日 PERSON\n",
      "日本語 LANGUAGE\n",
      "<re.Match object; span=(0, 2), match='日本'>\n",
      "ドイツ人 NORP\n",
      "<re.Match object; span=(0, 3), match='ドイツ'>\n"
     ]
    }
   ],
   "source": [
    "doc = nlp(TEXT1)\n",
    "for ent in doc.ents:\n",
    "    print(ent.text, ent.label_)\n",
    "    match = re.match(pattern, ent.text)\n",
    "    if match:\n",
    "        print(match)"
   ]
  },
  {
   "cell_type": "code",
   "execution_count": 4,
   "id": "afb5604c-b16c-4a92-a63c-a59a8e6bfc3e",
   "metadata": {},
   "outputs": [
    {
     "name": "stdout",
     "output_type": "stream",
     "text": [
      "明日 PERSON\n",
      "ドイツ GPE\n",
      "<re.Match object; span=(0, 3), match='ドイツ'>\n",
      "日本 GPE\n",
      "<re.Match object; span=(0, 2), match='日本'>\n"
     ]
    }
   ],
   "source": [
    "doc = nlp(TEXT2)\n",
    "for ent in doc.ents:\n",
    "    print(ent.text, ent.label_)\n",
    "    match = re.match(pattern, ent.text)\n",
    "    if match:\n",
    "        print(match)"
   ]
  },
  {
   "cell_type": "code",
   "execution_count": 5,
   "id": "a8f0486f-9879-46ce-bf9b-40496d2ad1b2",
   "metadata": {},
   "outputs": [
    {
     "name": "stdout",
     "output_type": "stream",
     "text": [
      "---明日は本社で日本語を話せるドイツ人に合う\n",
      "明日 PERSON\n",
      "日本語 LANGUAGE\n",
      "ドイツ人 NORP\n",
      "---明日は本社でドイツの海外現地法人から来た出張者と日本の話をする\n",
      "明日 PERSON\n",
      "ドイツ GPE\n",
      "<re.Match object; span=(0, 3), match='ドイツ'> GPE\n",
      "日本 GPE\n",
      "<re.Match object; span=(0, 2), match='日本'> GPE\n"
     ]
    }
   ],
   "source": [
    "for doc in nlp.pipe([TEXT1, TEXT2]):\n",
    "    print(f'---{doc.text}')\n",
    "    for ent in doc.ents:\n",
    "        print(ent.text, ent.label_)\n",
    "        if ent.label_ in ('GPE', 'ORG', 'LOC'):\n",
    "            match = re.match(pattern, ent.text)\n",
    "            if match:\n",
    "                print(match, ent.label_)"
   ]
  },
  {
   "cell_type": "code",
   "execution_count": null,
   "id": "9dab8679-d889-4acc-a89e-585898474acd",
   "metadata": {},
   "outputs": [],
   "source": []
  }
 ],
 "metadata": {
  "kernelspec": {
   "display_name": "Python 3 (ipykernel)",
   "language": "python",
   "name": "python3"
  },
  "language_info": {
   "codemirror_mode": {
    "name": "ipython",
    "version": 3
   },
   "file_extension": ".py",
   "mimetype": "text/x-python",
   "name": "python",
   "nbconvert_exporter": "python",
   "pygments_lexer": "ipython3",
   "version": "3.11.4"
  }
 },
 "nbformat": 4,
 "nbformat_minor": 5
}
