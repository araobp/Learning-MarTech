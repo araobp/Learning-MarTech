{
 "cells": [
  {
   "cell_type": "markdown",
   "id": "46e7849a-c7a4-40ce-9ace-3ad05054f671",
   "metadata": {},
   "source": [
    "# Positive/negativeコメントを品詞で見る\n",
    "\n",
    "Date: 2023/12/3"
   ]
  },
  {
   "cell_type": "code",
   "execution_count": 7,
   "id": "8068ba79-ece5-44ba-b998-8c248a59e342",
   "metadata": {},
   "outputs": [
    {
     "name": "stdout",
     "output_type": "stream",
     "text": [
      "Collecting en-core-web-sm==3.5.0\n",
      "  Downloading https://github.com/explosion/spacy-models/releases/download/en_core_web_sm-3.5.0/en_core_web_sm-3.5.0-py3-none-any.whl (12.8 MB)\n",
      "\u001b[2K     \u001b[90m━━━━━━━━━━━━━━━━━━━━━━━━━━━━━━━━━━━━━━━━\u001b[0m \u001b[32m12.8/12.8 MB\u001b[0m \u001b[31m3.6 MB/s\u001b[0m eta \u001b[36m0:00:00\u001b[0m00:01\u001b[0m00:01\u001b[0m\n",
      "\u001b[?25hRequirement already satisfied: spacy<3.6.0,>=3.5.0 in /Library/Frameworks/Python.framework/Versions/3.11/lib/python3.11/site-packages (from en-core-web-sm==3.5.0) (3.5.4)\n",
      "Requirement already satisfied: spacy-legacy<3.1.0,>=3.0.11 in /Library/Frameworks/Python.framework/Versions/3.11/lib/python3.11/site-packages (from spacy<3.6.0,>=3.5.0->en-core-web-sm==3.5.0) (3.0.12)\n",
      "Requirement already satisfied: spacy-loggers<2.0.0,>=1.0.0 in /Library/Frameworks/Python.framework/Versions/3.11/lib/python3.11/site-packages (from spacy<3.6.0,>=3.5.0->en-core-web-sm==3.5.0) (1.0.5)\n",
      "Requirement already satisfied: murmurhash<1.1.0,>=0.28.0 in /Library/Frameworks/Python.framework/Versions/3.11/lib/python3.11/site-packages (from spacy<3.6.0,>=3.5.0->en-core-web-sm==3.5.0) (1.0.10)\n",
      "Requirement already satisfied: cymem<2.1.0,>=2.0.2 in /Library/Frameworks/Python.framework/Versions/3.11/lib/python3.11/site-packages (from spacy<3.6.0,>=3.5.0->en-core-web-sm==3.5.0) (2.0.8)\n",
      "Requirement already satisfied: preshed<3.1.0,>=3.0.2 in /Library/Frameworks/Python.framework/Versions/3.11/lib/python3.11/site-packages (from spacy<3.6.0,>=3.5.0->en-core-web-sm==3.5.0) (3.0.9)\n",
      "Requirement already satisfied: thinc<8.2.0,>=8.1.8 in /Library/Frameworks/Python.framework/Versions/3.11/lib/python3.11/site-packages (from spacy<3.6.0,>=3.5.0->en-core-web-sm==3.5.0) (8.1.12)\n",
      "Requirement already satisfied: wasabi<1.2.0,>=0.9.1 in /Library/Frameworks/Python.framework/Versions/3.11/lib/python3.11/site-packages (from spacy<3.6.0,>=3.5.0->en-core-web-sm==3.5.0) (0.10.1)\n",
      "Requirement already satisfied: srsly<3.0.0,>=2.4.3 in /Library/Frameworks/Python.framework/Versions/3.11/lib/python3.11/site-packages (from spacy<3.6.0,>=3.5.0->en-core-web-sm==3.5.0) (2.4.8)\n",
      "Requirement already satisfied: catalogue<2.1.0,>=2.0.6 in /Library/Frameworks/Python.framework/Versions/3.11/lib/python3.11/site-packages (from spacy<3.6.0,>=3.5.0->en-core-web-sm==3.5.0) (2.0.10)\n",
      "Requirement already satisfied: typer<0.10.0,>=0.3.0 in /Library/Frameworks/Python.framework/Versions/3.11/lib/python3.11/site-packages (from spacy<3.6.0,>=3.5.0->en-core-web-sm==3.5.0) (0.9.0)\n",
      "Requirement already satisfied: pathy>=0.10.0 in /Library/Frameworks/Python.framework/Versions/3.11/lib/python3.11/site-packages (from spacy<3.6.0,>=3.5.0->en-core-web-sm==3.5.0) (0.10.3)\n",
      "Requirement already satisfied: smart-open<7.0.0,>=5.2.1 in /Library/Frameworks/Python.framework/Versions/3.11/lib/python3.11/site-packages (from spacy<3.6.0,>=3.5.0->en-core-web-sm==3.5.0) (6.4.0)\n",
      "Requirement already satisfied: tqdm<5.0.0,>=4.38.0 in /Library/Frameworks/Python.framework/Versions/3.11/lib/python3.11/site-packages (from spacy<3.6.0,>=3.5.0->en-core-web-sm==3.5.0) (4.66.1)\n",
      "Requirement already satisfied: numpy>=1.15.0 in /Library/Frameworks/Python.framework/Versions/3.11/lib/python3.11/site-packages (from spacy<3.6.0,>=3.5.0->en-core-web-sm==3.5.0) (1.24.3)\n",
      "Requirement already satisfied: requests<3.0.0,>=2.13.0 in /Library/Frameworks/Python.framework/Versions/3.11/lib/python3.11/site-packages (from spacy<3.6.0,>=3.5.0->en-core-web-sm==3.5.0) (2.31.0)\n",
      "Requirement already satisfied: pydantic!=1.8,!=1.8.1,<1.11.0,>=1.7.4 in /Library/Frameworks/Python.framework/Versions/3.11/lib/python3.11/site-packages (from spacy<3.6.0,>=3.5.0->en-core-web-sm==3.5.0) (1.10.12)\n",
      "Requirement already satisfied: jinja2 in /Library/Frameworks/Python.framework/Versions/3.11/lib/python3.11/site-packages (from spacy<3.6.0,>=3.5.0->en-core-web-sm==3.5.0) (3.1.2)\n",
      "Requirement already satisfied: setuptools in /Library/Frameworks/Python.framework/Versions/3.11/lib/python3.11/site-packages (from spacy<3.6.0,>=3.5.0->en-core-web-sm==3.5.0) (65.5.0)\n",
      "Requirement already satisfied: packaging>=20.0 in /Library/Frameworks/Python.framework/Versions/3.11/lib/python3.11/site-packages (from spacy<3.6.0,>=3.5.0->en-core-web-sm==3.5.0) (23.1)\n",
      "Requirement already satisfied: langcodes<4.0.0,>=3.2.0 in /Library/Frameworks/Python.framework/Versions/3.11/lib/python3.11/site-packages (from spacy<3.6.0,>=3.5.0->en-core-web-sm==3.5.0) (3.3.0)\n",
      "Requirement already satisfied: typing-extensions>=4.2.0 in /Library/Frameworks/Python.framework/Versions/3.11/lib/python3.11/site-packages (from pydantic!=1.8,!=1.8.1,<1.11.0,>=1.7.4->spacy<3.6.0,>=3.5.0->en-core-web-sm==3.5.0) (4.8.0)\n",
      "Requirement already satisfied: charset-normalizer<4,>=2 in /Library/Frameworks/Python.framework/Versions/3.11/lib/python3.11/site-packages (from requests<3.0.0,>=2.13.0->spacy<3.6.0,>=3.5.0->en-core-web-sm==3.5.0) (3.2.0)\n",
      "Requirement already satisfied: idna<4,>=2.5 in /Library/Frameworks/Python.framework/Versions/3.11/lib/python3.11/site-packages (from requests<3.0.0,>=2.13.0->spacy<3.6.0,>=3.5.0->en-core-web-sm==3.5.0) (3.4)\n",
      "Requirement already satisfied: urllib3<3,>=1.21.1 in /Library/Frameworks/Python.framework/Versions/3.11/lib/python3.11/site-packages (from requests<3.0.0,>=2.13.0->spacy<3.6.0,>=3.5.0->en-core-web-sm==3.5.0) (1.26.16)\n",
      "Requirement already satisfied: certifi>=2017.4.17 in /Library/Frameworks/Python.framework/Versions/3.11/lib/python3.11/site-packages (from requests<3.0.0,>=2.13.0->spacy<3.6.0,>=3.5.0->en-core-web-sm==3.5.0) (2023.7.22)\n",
      "Requirement already satisfied: blis<0.8.0,>=0.7.8 in /Library/Frameworks/Python.framework/Versions/3.11/lib/python3.11/site-packages (from thinc<8.2.0,>=8.1.8->spacy<3.6.0,>=3.5.0->en-core-web-sm==3.5.0) (0.7.11)\n",
      "Requirement already satisfied: confection<1.0.0,>=0.0.1 in /Library/Frameworks/Python.framework/Versions/3.11/lib/python3.11/site-packages (from thinc<8.2.0,>=8.1.8->spacy<3.6.0,>=3.5.0->en-core-web-sm==3.5.0) (0.1.3)\n",
      "Requirement already satisfied: click<9.0.0,>=7.1.1 in /Library/Frameworks/Python.framework/Versions/3.11/lib/python3.11/site-packages (from typer<0.10.0,>=0.3.0->spacy<3.6.0,>=3.5.0->en-core-web-sm==3.5.0) (8.1.7)\n",
      "Requirement already satisfied: MarkupSafe>=2.0 in /Library/Frameworks/Python.framework/Versions/3.11/lib/python3.11/site-packages (from jinja2->spacy<3.6.0,>=3.5.0->en-core-web-sm==3.5.0) (2.1.3)\n",
      "\n",
      "\u001b[1m[\u001b[0m\u001b[34;49mnotice\u001b[0m\u001b[1;39;49m]\u001b[0m\u001b[39;49m A new release of pip is available: \u001b[0m\u001b[31;49m23.1.2\u001b[0m\u001b[39;49m -> \u001b[0m\u001b[32;49m23.3.1\u001b[0m\n",
      "\u001b[1m[\u001b[0m\u001b[34;49mnotice\u001b[0m\u001b[1;39;49m]\u001b[0m\u001b[39;49m To update, run: \u001b[0m\u001b[32;49mpip3 install --upgrade pip\u001b[0m\n",
      "\u001b[38;5;2m✔ Download and installation successful\u001b[0m\n",
      "You can now load the package via spacy.load('en_core_web_sm')\n",
      "Collecting ja-core-news-sm==3.5.0\n",
      "  Downloading https://github.com/explosion/spacy-models/releases/download/ja_core_news_sm-3.5.0/ja_core_news_sm-3.5.0-py3-none-any.whl (12.1 MB)\n",
      "\u001b[2K     \u001b[90m━━━━━━━━━━━━━━━━━━━━━━━━━━━━━━━━━━━━━━━━\u001b[0m \u001b[32m12.1/12.1 MB\u001b[0m \u001b[31m9.6 MB/s\u001b[0m eta \u001b[36m0:00:00\u001b[0m:00:01\u001b[0m00:01\u001b[0m\n",
      "\u001b[?25hRequirement already satisfied: spacy<3.6.0,>=3.5.0 in /Library/Frameworks/Python.framework/Versions/3.11/lib/python3.11/site-packages (from ja-core-news-sm==3.5.0) (3.5.4)\n",
      "Requirement already satisfied: sudachipy!=0.6.1,>=0.5.2 in /Library/Frameworks/Python.framework/Versions/3.11/lib/python3.11/site-packages (from ja-core-news-sm==3.5.0) (0.6.7)\n",
      "Requirement already satisfied: sudachidict-core>=20211220 in /Library/Frameworks/Python.framework/Versions/3.11/lib/python3.11/site-packages (from ja-core-news-sm==3.5.0) (20230927)\n",
      "Requirement already satisfied: spacy-legacy<3.1.0,>=3.0.11 in /Library/Frameworks/Python.framework/Versions/3.11/lib/python3.11/site-packages (from spacy<3.6.0,>=3.5.0->ja-core-news-sm==3.5.0) (3.0.12)\n",
      "Requirement already satisfied: spacy-loggers<2.0.0,>=1.0.0 in /Library/Frameworks/Python.framework/Versions/3.11/lib/python3.11/site-packages (from spacy<3.6.0,>=3.5.0->ja-core-news-sm==3.5.0) (1.0.5)\n",
      "Requirement already satisfied: murmurhash<1.1.0,>=0.28.0 in /Library/Frameworks/Python.framework/Versions/3.11/lib/python3.11/site-packages (from spacy<3.6.0,>=3.5.0->ja-core-news-sm==3.5.0) (1.0.10)\n",
      "Requirement already satisfied: cymem<2.1.0,>=2.0.2 in /Library/Frameworks/Python.framework/Versions/3.11/lib/python3.11/site-packages (from spacy<3.6.0,>=3.5.0->ja-core-news-sm==3.5.0) (2.0.8)\n",
      "Requirement already satisfied: preshed<3.1.0,>=3.0.2 in /Library/Frameworks/Python.framework/Versions/3.11/lib/python3.11/site-packages (from spacy<3.6.0,>=3.5.0->ja-core-news-sm==3.5.0) (3.0.9)\n",
      "Requirement already satisfied: thinc<8.2.0,>=8.1.8 in /Library/Frameworks/Python.framework/Versions/3.11/lib/python3.11/site-packages (from spacy<3.6.0,>=3.5.0->ja-core-news-sm==3.5.0) (8.1.12)\n",
      "Requirement already satisfied: wasabi<1.2.0,>=0.9.1 in /Library/Frameworks/Python.framework/Versions/3.11/lib/python3.11/site-packages (from spacy<3.6.0,>=3.5.0->ja-core-news-sm==3.5.0) (0.10.1)\n",
      "Requirement already satisfied: srsly<3.0.0,>=2.4.3 in /Library/Frameworks/Python.framework/Versions/3.11/lib/python3.11/site-packages (from spacy<3.6.0,>=3.5.0->ja-core-news-sm==3.5.0) (2.4.8)\n",
      "Requirement already satisfied: catalogue<2.1.0,>=2.0.6 in /Library/Frameworks/Python.framework/Versions/3.11/lib/python3.11/site-packages (from spacy<3.6.0,>=3.5.0->ja-core-news-sm==3.5.0) (2.0.10)\n",
      "Requirement already satisfied: typer<0.10.0,>=0.3.0 in /Library/Frameworks/Python.framework/Versions/3.11/lib/python3.11/site-packages (from spacy<3.6.0,>=3.5.0->ja-core-news-sm==3.5.0) (0.9.0)\n",
      "Requirement already satisfied: pathy>=0.10.0 in /Library/Frameworks/Python.framework/Versions/3.11/lib/python3.11/site-packages (from spacy<3.6.0,>=3.5.0->ja-core-news-sm==3.5.0) (0.10.3)\n",
      "Requirement already satisfied: smart-open<7.0.0,>=5.2.1 in /Library/Frameworks/Python.framework/Versions/3.11/lib/python3.11/site-packages (from spacy<3.6.0,>=3.5.0->ja-core-news-sm==3.5.0) (6.4.0)\n",
      "Requirement already satisfied: tqdm<5.0.0,>=4.38.0 in /Library/Frameworks/Python.framework/Versions/3.11/lib/python3.11/site-packages (from spacy<3.6.0,>=3.5.0->ja-core-news-sm==3.5.0) (4.66.1)\n",
      "Requirement already satisfied: numpy>=1.15.0 in /Library/Frameworks/Python.framework/Versions/3.11/lib/python3.11/site-packages (from spacy<3.6.0,>=3.5.0->ja-core-news-sm==3.5.0) (1.24.3)\n",
      "Requirement already satisfied: requests<3.0.0,>=2.13.0 in /Library/Frameworks/Python.framework/Versions/3.11/lib/python3.11/site-packages (from spacy<3.6.0,>=3.5.0->ja-core-news-sm==3.5.0) (2.31.0)\n",
      "Requirement already satisfied: pydantic!=1.8,!=1.8.1,<1.11.0,>=1.7.4 in /Library/Frameworks/Python.framework/Versions/3.11/lib/python3.11/site-packages (from spacy<3.6.0,>=3.5.0->ja-core-news-sm==3.5.0) (1.10.12)\n",
      "Requirement already satisfied: jinja2 in /Library/Frameworks/Python.framework/Versions/3.11/lib/python3.11/site-packages (from spacy<3.6.0,>=3.5.0->ja-core-news-sm==3.5.0) (3.1.2)\n",
      "Requirement already satisfied: setuptools in /Library/Frameworks/Python.framework/Versions/3.11/lib/python3.11/site-packages (from spacy<3.6.0,>=3.5.0->ja-core-news-sm==3.5.0) (65.5.0)\n",
      "Requirement already satisfied: packaging>=20.0 in /Library/Frameworks/Python.framework/Versions/3.11/lib/python3.11/site-packages (from spacy<3.6.0,>=3.5.0->ja-core-news-sm==3.5.0) (23.1)\n",
      "Requirement already satisfied: langcodes<4.0.0,>=3.2.0 in /Library/Frameworks/Python.framework/Versions/3.11/lib/python3.11/site-packages (from spacy<3.6.0,>=3.5.0->ja-core-news-sm==3.5.0) (3.3.0)\n",
      "Requirement already satisfied: typing-extensions>=4.2.0 in /Library/Frameworks/Python.framework/Versions/3.11/lib/python3.11/site-packages (from pydantic!=1.8,!=1.8.1,<1.11.0,>=1.7.4->spacy<3.6.0,>=3.5.0->ja-core-news-sm==3.5.0) (4.8.0)\n",
      "Requirement already satisfied: charset-normalizer<4,>=2 in /Library/Frameworks/Python.framework/Versions/3.11/lib/python3.11/site-packages (from requests<3.0.0,>=2.13.0->spacy<3.6.0,>=3.5.0->ja-core-news-sm==3.5.0) (3.2.0)\n",
      "Requirement already satisfied: idna<4,>=2.5 in /Library/Frameworks/Python.framework/Versions/3.11/lib/python3.11/site-packages (from requests<3.0.0,>=2.13.0->spacy<3.6.0,>=3.5.0->ja-core-news-sm==3.5.0) (3.4)\n",
      "Requirement already satisfied: urllib3<3,>=1.21.1 in /Library/Frameworks/Python.framework/Versions/3.11/lib/python3.11/site-packages (from requests<3.0.0,>=2.13.0->spacy<3.6.0,>=3.5.0->ja-core-news-sm==3.5.0) (1.26.16)\n",
      "Requirement already satisfied: certifi>=2017.4.17 in /Library/Frameworks/Python.framework/Versions/3.11/lib/python3.11/site-packages (from requests<3.0.0,>=2.13.0->spacy<3.6.0,>=3.5.0->ja-core-news-sm==3.5.0) (2023.7.22)\n",
      "Requirement already satisfied: blis<0.8.0,>=0.7.8 in /Library/Frameworks/Python.framework/Versions/3.11/lib/python3.11/site-packages (from thinc<8.2.0,>=8.1.8->spacy<3.6.0,>=3.5.0->ja-core-news-sm==3.5.0) (0.7.11)\n",
      "Requirement already satisfied: confection<1.0.0,>=0.0.1 in /Library/Frameworks/Python.framework/Versions/3.11/lib/python3.11/site-packages (from thinc<8.2.0,>=8.1.8->spacy<3.6.0,>=3.5.0->ja-core-news-sm==3.5.0) (0.1.3)\n",
      "Requirement already satisfied: click<9.0.0,>=7.1.1 in /Library/Frameworks/Python.framework/Versions/3.11/lib/python3.11/site-packages (from typer<0.10.0,>=0.3.0->spacy<3.6.0,>=3.5.0->ja-core-news-sm==3.5.0) (8.1.7)\n",
      "Requirement already satisfied: MarkupSafe>=2.0 in /Library/Frameworks/Python.framework/Versions/3.11/lib/python3.11/site-packages (from jinja2->spacy<3.6.0,>=3.5.0->ja-core-news-sm==3.5.0) (2.1.3)\n",
      "\n",
      "\u001b[1m[\u001b[0m\u001b[34;49mnotice\u001b[0m\u001b[1;39;49m]\u001b[0m\u001b[39;49m A new release of pip is available: \u001b[0m\u001b[31;49m23.1.2\u001b[0m\u001b[39;49m -> \u001b[0m\u001b[32;49m23.3.1\u001b[0m\n",
      "\u001b[1m[\u001b[0m\u001b[34;49mnotice\u001b[0m\u001b[1;39;49m]\u001b[0m\u001b[39;49m To update, run: \u001b[0m\u001b[32;49mpip3 install --upgrade pip\u001b[0m\n",
      "\u001b[38;5;2m✔ Download and installation successful\u001b[0m\n",
      "You can now load the package via spacy.load('ja_core_news_sm')\n"
     ]
    }
   ],
   "source": [
    "import spacy\n",
    "\n",
    "!python3 -m spacy download \"en_core_web_sm\"\n",
    "!python3 -m spacy download \"ja_core_news_sm\""
   ]
  },
  {
   "cell_type": "code",
   "execution_count": 2,
   "id": "a5e323f1-f490-4521-b584-fa1ae13fad76",
   "metadata": {},
   "outputs": [],
   "source": [
    "import yaml\n",
    "\n",
    "with open('../data/impressions.yaml', 'r') as f:\n",
    "    imp = yaml.safe_load(f.read())"
   ]
  },
  {
   "cell_type": "code",
   "execution_count": 3,
   "id": "a65aedf7-7dae-4cb3-a7c8-553c38d0ab26",
   "metadata": {},
   "outputs": [
    {
     "name": "stderr",
     "output_type": "stream",
     "text": [
      "/Library/Frameworks/Python.framework/Versions/3.11/lib/python3.11/site-packages/tqdm/auto.py:21: TqdmWarning: IProgress not found. Please update jupyter and ipywidgets. See https://ipywidgets.readthedocs.io/en/stable/user_install.html\n",
      "  from .autonotebook import tqdm as notebook_tqdm\n"
     ]
    },
    {
     "data": {
      "text/plain": [
       "dict_keys(['negative', 'positive', 'positive_negative', 'random'])"
      ]
     },
     "execution_count": 3,
     "metadata": {},
     "output_type": "execute_result"
    }
   ],
   "source": [
    "nlp = spacy.load('ja_core_news_sm')\n",
    "imp.keys()"
   ]
  },
  {
   "cell_type": "code",
   "execution_count": 4,
   "id": "8717e17a-0c54-4049-b100-0d6da32babb3",
   "metadata": {},
   "outputs": [
    {
     "name": "stdout",
     "output_type": "stream",
     "text": [
      "[['ショールームの清潔さには好感が持てました', '一部の展示品が傷んでいるのが気になりました。'], ['スタッフの丁寧な対応がありました', '商品の説明が少なく、理解しにくかったです。'], ['展示品の品質は高く、特にデザインに魅了されました', '価格が高すぎると感じました。'], ['ショールームの広さとレイアウトは素晴らしかった', '一部のエリアが混雑していました。'], [], ['インテリアデザインがモダンで印象的でした', '一部のエリアが古く感じられました。'], ['スタッフの対応は親切で好感が持てました', '混雑しておりゆっくり見学できませんでした。'], ['展示品のディスプレイは美しく、高い品質が感じられました', '価格が高すぎると感じました。'], ['ショールーム内の照明が良好で、商品が見やすかった', '一部のエリアが薄暗かったです。'], ['商品の価格設定が適切で良心的でした', 'スタッフの知識が不足しているように感じました。'], ['展示品の配置が工夫され、テーマ性がありました', '一部の商品が見つけにくかったです。'], ['ショールーム内の案内が分かりやすく、スタッフの対応も良かった', '混雑が気になりました。'], ['商品の新しさとデザインに魅了されました', 'スタッフの態度が冷淡で残念でした。'], ['ショールームの雰囲気が明るく、居心地が良かった', '一部の商品が陳腐に感じられました。'], ['展示品の保守状態が良好で、商品の信頼性に安心感を覚えました', '価格が心配です。'], ['ショールームの配置が効果的で見やすかった', 'スタッフの忙しさが対応に影響していました。'], ['スタッフの知識が豊富で的確でした', '商品の新しさに欠け、刷新が必要かもしれません。'], ['商品の魅力が引き立つディスプレイでした', 'スタッフの説明が簡略化されていた印象です。'], ['ショールーム内の音楽が心地よく、雰囲気が良かった', '一部エリアが騒がしかったです。'], ['展示品のデザインが洗練されており、一部の商品には本当に惹かれました', '価格が心配です。'], ['ショールームの温度が快適で、滞在が楽しかった', '一部のエリアが寒かったです。'], ['商品の新しさが感じられ、デザインが魅力的でした', 'スタッフの態度が気になりました。'], ['ショールーム内のサインが分かりやすく、効果的でした', '一部エリアの表示が不足していました。'], ['スタッフの態度が温暖で、親しみやすかった', '商品の一部が古びて見えました。'], ['展示品の配置が程よく、見学がスムーズでした', '一部の商品が埋もれているようでした。'], ['ショールーム内の照明が美しく、商品が引き立っていました', '一部の商品が高価でした。'], ['展示されている商品が洗練されており、一部の商品には本当に魅了されました', '価格が気になります。'], ['ショールーム全体の雰囲気が素晴らしく、多様な商品が揃っていた', '価格が手の届かないものもありました。']]\n"
     ]
    }
   ],
   "source": [
    "imp_ = []\n",
    "for doc in nlp.pipe(imp['positive_negative']):\n",
    "    parts = []\n",
    "    prev = 0\n",
    "    imp__ = []\n",
    "    for idx, token in enumerate(doc):\n",
    "        #print(f'{token.text}[{idx}]({token.pos_}) ', end='')\n",
    "        if token.pos_ == 'SCONJ' and token.text in ('が'):\n",
    "            parts.append([prev, idx+1])\n",
    "            prev = idx+1\n",
    "    for p0, p1 in parts:\n",
    "        #print(doc[p0:p1].text.strip('、'), end=': ')\n",
    "        imp__.append(doc[p0:p1-1].text.strip('、'))\n",
    "    if len(parts) > 0:\n",
    "        last_p = parts[-1][1]\n",
    "        if last_p < len(doc):\n",
    "            #print(doc[last_p: len(doc)].text.strip('、'))\n",
    "            imp__.append(doc[last_p: len(doc)].text.strip('、'))\n",
    "        else:\n",
    "            print()\n",
    "    imp_.append(imp__)\n",
    "print(imp_)"
   ]
  },
  {
   "cell_type": "code",
   "execution_count": 5,
   "id": "d047dc0a-3ddd-49f5-b458-6c959d160500",
   "metadata": {},
   "outputs": [
    {
     "name": "stdout",
     "output_type": "stream",
     "text": [
      "'NoneType' object has no attribute 'cadam32bit_grad_fp32'\n"
     ]
    },
    {
     "name": "stderr",
     "output_type": "stream",
     "text": [
      "/Library/Frameworks/Python.framework/Versions/3.11/lib/python3.11/site-packages/bitsandbytes/cextension.py:34: UserWarning: The installed version of bitsandbytes was compiled without GPU support. 8-bit optimizers, 8-bit multiplication, and GPU quantization are unavailable.\n",
      "  warn(\"The installed version of bitsandbytes was compiled without GPU support. \"\n",
      "Xformers is not installed correctly. If you want to use memory_efficient_attention to accelerate training use the following command to install Xformers\n",
      "pip install xformers.\n"
     ]
    }
   ],
   "source": [
    "# 色々とモデルを試した方が良い。\n",
    "\n",
    "from transformers import pipeline\n",
    "sentiment1 = pipeline(model='christian-phu/bert-finetuned-japanese-sentiment')\n",
    "sentiment2 = pipeline(model='llm-book/bert-base-japanese-v3-marc_ja')"
   ]
  },
  {
   "cell_type": "code",
   "execution_count": 6,
   "id": "94a7a4f1-9265-493f-b4d6-21aaa049a5ef",
   "metadata": {},
   "outputs": [
    {
     "name": "stdout",
     "output_type": "stream",
     "text": [
      "['ショールームの清潔さには好感が持てました', '一部の展示品が傷んでいるのが気になりました。']\n",
      "['positive', 'neutral']\n",
      "['positive', 'negative']\n",
      "\n",
      "['スタッフの丁寧な対応がありました', '商品の説明が少なく、理解しにくかったです。']\n",
      "['positive', 'neutral']\n",
      "['positive', 'negative']\n",
      "\n",
      "['展示品の品質は高く、特にデザインに魅了されました', '価格が高すぎると感じました。']\n",
      "['positive', 'neutral']\n",
      "['positive', 'negative']\n",
      "\n",
      "['ショールームの広さとレイアウトは素晴らしかった', '一部のエリアが混雑していました。']\n",
      "['positive', 'negative']\n",
      "['positive', 'negative']\n",
      "\n",
      "[]\n",
      "[]\n",
      "[]\n",
      "\n",
      "['インテリアデザインがモダンで印象的でした', '一部のエリアが古く感じられました。']\n",
      "['positive', 'neutral']\n",
      "['positive', 'negative']\n",
      "\n",
      "['スタッフの対応は親切で好感が持てました', '混雑しておりゆっくり見学できませんでした。']\n",
      "['positive', 'negative']\n",
      "['positive', 'negative']\n",
      "\n",
      "['展示品のディスプレイは美しく、高い品質が感じられました', '価格が高すぎると感じました。']\n",
      "['positive', 'neutral']\n",
      "['positive', 'negative']\n",
      "\n",
      "['ショールーム内の照明が良好で、商品が見やすかった', '一部のエリアが薄暗かったです。']\n",
      "['positive', 'neutral']\n",
      "['positive', 'negative']\n",
      "\n",
      "['商品の価格設定が適切で良心的でした', 'スタッフの知識が不足しているように感じました。']\n",
      "['positive', 'neutral']\n",
      "['positive', 'negative']\n",
      "\n",
      "['展示品の配置が工夫され、テーマ性がありました', '一部の商品が見つけにくかったです。']\n",
      "['neutral', 'neutral']\n",
      "['positive', 'negative']\n",
      "\n",
      "['ショールーム内の案内が分かりやすく、スタッフの対応も良かった', '混雑が気になりました。']\n",
      "['positive', 'positive']\n",
      "['positive', 'positive']\n",
      "\n",
      "['商品の新しさとデザインに魅了されました', 'スタッフの態度が冷淡で残念でした。']\n",
      "['positive', 'negative']\n",
      "['positive', 'negative']\n",
      "\n",
      "['ショールームの雰囲気が明るく、居心地が良かった', '一部の商品が陳腐に感じられました。']\n",
      "['positive', 'neutral']\n",
      "['positive', 'negative']\n",
      "\n",
      "['展示品の保守状態が良好で、商品の信頼性に安心感を覚えました', '価格が心配です。']\n",
      "['positive', 'neutral']\n",
      "['positive', 'positive']\n",
      "\n",
      "['ショールームの配置が効果的で見やすかった', 'スタッフの忙しさが対応に影響していました。']\n",
      "['positive', 'neutral']\n",
      "['positive', 'negative']\n",
      "\n",
      "['スタッフの知識が豊富で的確でした', '商品の新しさに欠け、刷新が必要かもしれません。']\n",
      "['positive', 'neutral']\n",
      "['positive', 'negative']\n",
      "\n",
      "['商品の魅力が引き立つディスプレイでした', 'スタッフの説明が簡略化されていた印象です。']\n",
      "['neutral', 'neutral']\n",
      "['positive', 'negative']\n",
      "\n",
      "['ショールーム内の音楽が心地よく、雰囲気が良かった', '一部エリアが騒がしかったです。']\n",
      "['positive', 'negative']\n",
      "['positive', 'negative']\n",
      "\n",
      "['展示品のデザインが洗練されており、一部の商品には本当に惹かれました', '価格が心配です。']\n",
      "['positive', 'neutral']\n",
      "['positive', 'positive']\n",
      "\n",
      "['ショールームの温度が快適で、滞在が楽しかった', '一部のエリアが寒かったです。']\n",
      "['positive', 'neutral']\n",
      "['positive', 'negative']\n",
      "\n",
      "['商品の新しさが感じられ、デザインが魅力的でした', 'スタッフの態度が気になりました。']\n",
      "['positive', 'neutral']\n",
      "['positive', 'negative']\n",
      "\n",
      "['ショールーム内のサインが分かりやすく、効果的でした', '一部エリアの表示が不足していました。']\n",
      "['positive', 'negative']\n",
      "['positive', 'negative']\n",
      "\n",
      "['スタッフの態度が温暖で、親しみやすかった', '商品の一部が古びて見えました。']\n",
      "['positive', 'neutral']\n",
      "['positive', 'negative']\n",
      "\n",
      "['展示品の配置が程よく、見学がスムーズでした', '一部の商品が埋もれているようでした。']\n",
      "['positive', 'neutral']\n",
      "['positive', 'negative']\n",
      "\n",
      "['ショールーム内の照明が美しく、商品が引き立っていました', '一部の商品が高価でした。']\n",
      "['positive', 'negative']\n",
      "['positive', 'negative']\n",
      "\n",
      "['展示されている商品が洗練されており、一部の商品には本当に魅了されました', '価格が気になります。']\n",
      "['positive', 'neutral']\n",
      "['positive', 'positive']\n",
      "\n",
      "['ショールーム全体の雰囲気が素晴らしく、多様な商品が揃っていた', '価格が手の届かないものもありました。']\n",
      "['positive', 'negative']\n",
      "['positive', 'negative']\n",
      "\n"
     ]
    }
   ],
   "source": [
    "# llm-book/bert-base-japanese-v3-marc_ja の方がきちんと negative 判定してくれる。\n",
    "for i in imp_:\n",
    "    print(i)\n",
    "    print([s['label'] for s in sentiment1(i)])\n",
    "    print([s['label'] for s in sentiment2(i)])\n",
    "    print()"
   ]
  },
  {
   "cell_type": "markdown",
   "id": "3c65c97e-3a98-42de-ac0a-34c378334ff4",
   "metadata": {},
   "source": [
    "## Enlgish "
   ]
  },
  {
   "cell_type": "code",
   "execution_count": 9,
   "id": "f52fff10-cd2f-4314-9a68-96fe773fe14a",
   "metadata": {},
   "outputs": [
    {
     "data": {
      "text/plain": [
       "dict_keys(['negative', 'positive', 'positive_negative', 'random'])"
      ]
     },
     "execution_count": 9,
     "metadata": {},
     "output_type": "execute_result"
    }
   ],
   "source": [
    "with open('../data/impressions_en.yaml', 'r') as f:\n",
    "    imp = yaml.safe_load(f.read())"
   ]
  },
  {
   "cell_type": "code",
   "execution_count": 10,
   "id": "cf80034d-c40f-4abd-a157-b41837408d86",
   "metadata": {},
   "outputs": [
    {
     "data": {
      "text/plain": [
       "dict_keys(['negative', 'positive', 'positive_negative', 'random'])"
      ]
     },
     "execution_count": 10,
     "metadata": {},
     "output_type": "execute_result"
    }
   ],
   "source": [
    "nlp = spacy.load('en_core_web_sm')\n",
    "imp.keys()"
   ]
  },
  {
   "cell_type": "code",
   "execution_count": 18,
   "id": "c9d21cce-7945-4b90-a439-c433555acd71",
   "metadata": {},
   "outputs": [
    {
     "name": "stdout",
     "output_type": "stream",
     "text": [
      "['The showroom was absolutely stunning!']\n",
      "['The modern designs and vibrant colors were impressive.']\n",
      "['However', ' the lack of natural lighting made some areas feel a bit dim.']\n",
      "['I was amazed by the innovative features in the showroom.']\n",
      "['The interactive displays were engaging', ' but the crowded layout made navigation a bit challenging.']\n",
      "[\"The showroom's minimalist approach was refreshing.\"]\n",
      "['The sleek designs and clean lines were appealing.']\n",
      "['However', ' the limited seating options were a drawback.']\n",
      "['I loved the variety of products in the showroom.']\n",
      "['The knowledgeable staff provided great insights.']\n",
      "['On the downside', ' the high prices were a bit discouraging.']\n",
      "[\"The showroom's unique theme caught my attention.\"]\n",
      "['The creative displays were captivating', ' but the loud background music made it hard to focus on product details.']\n",
      "[\"The showroom's spacious layout allowed for easy exploration.\"]\n",
      "['The friendly staff added to the positive experience.']\n",
      "['However', ' the outdated decor was a minor letdown.']\n",
      "['I appreciated the eco-friendly focus of the showroom.']\n",
      "['The sustainable materials used in the products were commendable.']\n",
      "['Yet', ' the lack of parking facilities was inconvenient.']\n",
      "[\"The showroom's attention to detail was evident in every display.\"]\n",
      "['The high-quality craftsmanship was commendable.']\n",
      "['However', ' the limited parking space created some inconvenience.']\n",
      "[\"The showroom's diverse product range catered to various tastes.\"]\n",
      "['The helpful staff made the visit enjoyable.']\n",
      "['Nevertheless', ' the lack of a comfortable waiting area was a drawback.']\n",
      "['I was impressed by the cutting-edge technology showcased in the showroom.']\n",
      "['The interactive exhibits were fun', ' but the overwhelming number of visitors made it a bit chaotic.']\n",
      "[\"The showroom's innovative use of lighting created a unique atmosphere.\"]\n",
      "['The knowledgeable staff enhanced the overall experience.']\n",
      "['However', ' the cramped spaces made it feel a bit crowded.']\n",
      "[\"The showroom's sleek and modern designs were visually appealing.\"]\n",
      "['The helpful staff provided valuable insights.']\n",
      "['On the downside', ' the limited restroom facilities were inconvenient.']\n",
      "[\"I loved the showroom's commitment to sustainability.\"]\n",
      "['The eco-friendly products were a highlight.']\n",
      "['However', ' the lack of proper signage made it challenging to navigate the space.']\n",
      "[\"The showroom's futuristic designs were fascinating.\"]\n",
      "['The interactive displays added an element of fun.']\n",
      "['Nevertheless', ' the lack of seating options made it difficult to take a break.']\n",
      "[\"I appreciated the showroom's focus on functionality.\"]\n",
      "['The practical designs were impressive.']\n",
      "['However', ' the lack of a dedicated play area for children was a drawback for families.']\n",
      "[\"The showroom's artistic displays were a visual treat.\"]\n",
      "['The friendly staff provided excellent assistance.']\n",
      "['On the downside', ' the limited parking space created some inconvenience.']\n",
      "[\"I enjoyed the showroom's trendy and chic atmosphere.\"]\n",
      "['The stylish designs were eye-catching.']\n",
      "['However', ' the absence of a cafe or refreshment area was a missed opportunity.']\n",
      "[\"The showroom's use of innovative materials was impressive.\"]\n",
      "['The sustainable approach was a positive aspect.']\n",
      "['Nonetheless', ' the limited accessibility for people with disabilities was a concern.']\n",
      "[\"I was fascinated by the showroom's use of vibrant colors.\"]\n",
      "['The bold designs were attention-grabbing.']\n",
      "['However', ' the lack of interactive elements made the experience less engaging.']\n",
      "[\"The showroom's well-organized layout made it easy to explore.\"]\n",
      "['The friendly and knowledgeable staff added to the positive experience.']\n",
      "['However', ' the limited restroom facilities were inconvenient.']\n",
      "[\"I admired the showroom's commitment to minimalism.\"]\n",
      "['The simplicity of the designs was refreshing.']\n",
      "['Nevertheless', ' the lack of a designated play area for children was a drawback for families.']\n",
      "[\"The showroom's emphasis on technology was evident in every corner.\"]\n",
      "['The interactive displays were engaging.']\n",
      "['On the downside', ' the limited seating options made it challenging to take a break.']\n",
      "[\"I appreciated the showroom's dedication to craftsmanship.\"]\n",
      "['The attention to detail in the products was commendable.']\n",
      "['However', ' the lack of natural lighting made some areas feel a bit dim.']\n",
      "[\"The showroom's diverse product range appealed to various tastes.\"]\n",
      "['The friendly staff provided excellent customer service.']\n",
      "['Nevertheless', ' the crowded layout made navigation a bit challenging.']\n",
      "[\"I was captivated by the showroom's thematic displays.\"]\n",
      "['The creative approach added a unique touch.']\n",
      "['However', ' the lack of proper signage made it challenging to find specific sections.']\n",
      "[\"The showroom's commitment to sustainability was evident in the eco-friendly products.\"]\n",
      "['The helpful staff contributed to a positive experience.']\n",
      "['On the downside', ' the lack of seating options was a drawback.']\n",
      "[\"I enjoyed the showroom's sleek and modern designs.\"]\n",
      "['The interactive exhibits were entertaining.']\n",
      "['However', ' the limited restroom facilities were inconvenient', ' especially during peak hours.']\n",
      "[\"The showroom's use of cutting-edge technology was impressive.\"]\n",
      "['The interactive displays were fun and educational.']\n",
      "['Nevertheless', ' the lack of natural lighting in some areas was a drawback.']\n",
      "[\"I appreciated the showroom's emphasis on functionality.\"]\n",
      "['The practical designs were impressive.']\n",
      "['However', ' the lack of a designated play area for children may be a concern for families.']\n",
      "[\"The showroom's commitment to innovation was evident in every product.\"]\n",
      "['The helpful staff made the visit enjoyable.']\n",
      "['On the downside', ' the lack of a cafe or refreshment area was a missed opportunity.']\n"
     ]
    }
   ],
   "source": [
    "imp_ = []\n",
    "for doc in nlp.pipe(imp['positive_negative']):\n",
    "    '''\n",
    "    for token in doc:\n",
    "        print(f'{token.text}({token.pos_}) ', end='')\n",
    "    print()\n",
    "    '''\n",
    "    for sent in doc.sents:\n",
    "        print(sent.text.split(','))"
   ]
  },
  {
   "cell_type": "code",
   "execution_count": null,
   "id": "f6506a45-b01b-48d6-adba-26c15e296eb8",
   "metadata": {},
   "outputs": [],
   "source": []
  }
 ],
 "metadata": {
  "kernelspec": {
   "display_name": "Python 3 (ipykernel)",
   "language": "python",
   "name": "python3"
  },
  "language_info": {
   "codemirror_mode": {
    "name": "ipython",
    "version": 3
   },
   "file_extension": ".py",
   "mimetype": "text/x-python",
   "name": "python",
   "nbconvert_exporter": "python",
   "pygments_lexer": "ipython3",
   "version": "3.11.4"
  }
 },
 "nbformat": 4,
 "nbformat_minor": 5
}
