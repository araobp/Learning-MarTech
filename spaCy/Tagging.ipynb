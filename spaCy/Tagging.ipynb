{
 "cells": [
  {
   "cell_type": "markdown",
   "id": "46e7849a-c7a4-40ce-9ace-3ad05054f671",
   "metadata": {},
   "source": [
    "# Positive/negativeコメントを品詞で見る\n",
    "\n",
    "Date: 2023/12/3"
   ]
  },
  {
   "cell_type": "code",
   "execution_count": 1,
   "id": "8068ba79-ece5-44ba-b998-8c248a59e342",
   "metadata": {},
   "outputs": [
    {
     "name": "stdout",
     "output_type": "stream",
     "text": [
      "Collecting ja-core-news-sm==3.5.0\n",
      "  Downloading https://github.com/explosion/spacy-models/releases/download/ja_core_news_sm-3.5.0/ja_core_news_sm-3.5.0-py3-none-any.whl (12.1 MB)\n",
      "\u001b[2K     \u001b[90m━━━━━━━━━━━━━━━━━━━━━━━━━━━━━━━━━━━━━━━━\u001b[0m \u001b[32m12.1/12.1 MB\u001b[0m \u001b[31m1.8 MB/s\u001b[0m eta \u001b[36m0:00:00\u001b[0m00:01\u001b[0m00:01\u001b[0m\n",
      "\u001b[?25hRequirement already satisfied: spacy<3.6.0,>=3.5.0 in /Library/Frameworks/Python.framework/Versions/3.11/lib/python3.11/site-packages (from ja-core-news-sm==3.5.0) (3.5.4)\n",
      "Requirement already satisfied: sudachipy!=0.6.1,>=0.5.2 in /Library/Frameworks/Python.framework/Versions/3.11/lib/python3.11/site-packages (from ja-core-news-sm==3.5.0) (0.6.7)\n",
      "Requirement already satisfied: sudachidict-core>=20211220 in /Library/Frameworks/Python.framework/Versions/3.11/lib/python3.11/site-packages (from ja-core-news-sm==3.5.0) (20230927)\n",
      "Requirement already satisfied: spacy-legacy<3.1.0,>=3.0.11 in /Library/Frameworks/Python.framework/Versions/3.11/lib/python3.11/site-packages (from spacy<3.6.0,>=3.5.0->ja-core-news-sm==3.5.0) (3.0.12)\n",
      "Requirement already satisfied: spacy-loggers<2.0.0,>=1.0.0 in /Library/Frameworks/Python.framework/Versions/3.11/lib/python3.11/site-packages (from spacy<3.6.0,>=3.5.0->ja-core-news-sm==3.5.0) (1.0.5)\n",
      "Requirement already satisfied: murmurhash<1.1.0,>=0.28.0 in /Library/Frameworks/Python.framework/Versions/3.11/lib/python3.11/site-packages (from spacy<3.6.0,>=3.5.0->ja-core-news-sm==3.5.0) (1.0.10)\n",
      "Requirement already satisfied: cymem<2.1.0,>=2.0.2 in /Library/Frameworks/Python.framework/Versions/3.11/lib/python3.11/site-packages (from spacy<3.6.0,>=3.5.0->ja-core-news-sm==3.5.0) (2.0.8)\n",
      "Requirement already satisfied: preshed<3.1.0,>=3.0.2 in /Library/Frameworks/Python.framework/Versions/3.11/lib/python3.11/site-packages (from spacy<3.6.0,>=3.5.0->ja-core-news-sm==3.5.0) (3.0.9)\n",
      "Requirement already satisfied: thinc<8.2.0,>=8.1.8 in /Library/Frameworks/Python.framework/Versions/3.11/lib/python3.11/site-packages (from spacy<3.6.0,>=3.5.0->ja-core-news-sm==3.5.0) (8.1.12)\n",
      "Requirement already satisfied: wasabi<1.2.0,>=0.9.1 in /Library/Frameworks/Python.framework/Versions/3.11/lib/python3.11/site-packages (from spacy<3.6.0,>=3.5.0->ja-core-news-sm==3.5.0) (0.10.1)\n",
      "Requirement already satisfied: srsly<3.0.0,>=2.4.3 in /Library/Frameworks/Python.framework/Versions/3.11/lib/python3.11/site-packages (from spacy<3.6.0,>=3.5.0->ja-core-news-sm==3.5.0) (2.4.8)\n",
      "Requirement already satisfied: catalogue<2.1.0,>=2.0.6 in /Library/Frameworks/Python.framework/Versions/3.11/lib/python3.11/site-packages (from spacy<3.6.0,>=3.5.0->ja-core-news-sm==3.5.0) (2.0.10)\n",
      "Requirement already satisfied: typer<0.10.0,>=0.3.0 in /Library/Frameworks/Python.framework/Versions/3.11/lib/python3.11/site-packages (from spacy<3.6.0,>=3.5.0->ja-core-news-sm==3.5.0) (0.9.0)\n",
      "Requirement already satisfied: pathy>=0.10.0 in /Library/Frameworks/Python.framework/Versions/3.11/lib/python3.11/site-packages (from spacy<3.6.0,>=3.5.0->ja-core-news-sm==3.5.0) (0.10.3)\n",
      "Requirement already satisfied: smart-open<7.0.0,>=5.2.1 in /Library/Frameworks/Python.framework/Versions/3.11/lib/python3.11/site-packages (from spacy<3.6.0,>=3.5.0->ja-core-news-sm==3.5.0) (6.4.0)\n",
      "Requirement already satisfied: tqdm<5.0.0,>=4.38.0 in /Library/Frameworks/Python.framework/Versions/3.11/lib/python3.11/site-packages (from spacy<3.6.0,>=3.5.0->ja-core-news-sm==3.5.0) (4.66.1)\n",
      "Requirement already satisfied: numpy>=1.15.0 in /Library/Frameworks/Python.framework/Versions/3.11/lib/python3.11/site-packages (from spacy<3.6.0,>=3.5.0->ja-core-news-sm==3.5.0) (1.24.3)\n",
      "Requirement already satisfied: requests<3.0.0,>=2.13.0 in /Library/Frameworks/Python.framework/Versions/3.11/lib/python3.11/site-packages (from spacy<3.6.0,>=3.5.0->ja-core-news-sm==3.5.0) (2.31.0)\n",
      "Requirement already satisfied: pydantic!=1.8,!=1.8.1,<1.11.0,>=1.7.4 in /Library/Frameworks/Python.framework/Versions/3.11/lib/python3.11/site-packages (from spacy<3.6.0,>=3.5.0->ja-core-news-sm==3.5.0) (1.10.12)\n",
      "Requirement already satisfied: jinja2 in /Library/Frameworks/Python.framework/Versions/3.11/lib/python3.11/site-packages (from spacy<3.6.0,>=3.5.0->ja-core-news-sm==3.5.0) (3.1.2)\n",
      "Requirement already satisfied: setuptools in /Library/Frameworks/Python.framework/Versions/3.11/lib/python3.11/site-packages (from spacy<3.6.0,>=3.5.0->ja-core-news-sm==3.5.0) (65.5.0)\n",
      "Requirement already satisfied: packaging>=20.0 in /Library/Frameworks/Python.framework/Versions/3.11/lib/python3.11/site-packages (from spacy<3.6.0,>=3.5.0->ja-core-news-sm==3.5.0) (23.1)\n",
      "Requirement already satisfied: langcodes<4.0.0,>=3.2.0 in /Library/Frameworks/Python.framework/Versions/3.11/lib/python3.11/site-packages (from spacy<3.6.0,>=3.5.0->ja-core-news-sm==3.5.0) (3.3.0)\n",
      "Requirement already satisfied: typing-extensions>=4.2.0 in /Library/Frameworks/Python.framework/Versions/3.11/lib/python3.11/site-packages (from pydantic!=1.8,!=1.8.1,<1.11.0,>=1.7.4->spacy<3.6.0,>=3.5.0->ja-core-news-sm==3.5.0) (4.8.0)\n",
      "Requirement already satisfied: charset-normalizer<4,>=2 in /Library/Frameworks/Python.framework/Versions/3.11/lib/python3.11/site-packages (from requests<3.0.0,>=2.13.0->spacy<3.6.0,>=3.5.0->ja-core-news-sm==3.5.0) (3.2.0)\n",
      "Requirement already satisfied: idna<4,>=2.5 in /Library/Frameworks/Python.framework/Versions/3.11/lib/python3.11/site-packages (from requests<3.0.0,>=2.13.0->spacy<3.6.0,>=3.5.0->ja-core-news-sm==3.5.0) (3.4)\n",
      "Requirement already satisfied: urllib3<3,>=1.21.1 in /Library/Frameworks/Python.framework/Versions/3.11/lib/python3.11/site-packages (from requests<3.0.0,>=2.13.0->spacy<3.6.0,>=3.5.0->ja-core-news-sm==3.5.0) (1.26.16)\n",
      "Requirement already satisfied: certifi>=2017.4.17 in /Library/Frameworks/Python.framework/Versions/3.11/lib/python3.11/site-packages (from requests<3.0.0,>=2.13.0->spacy<3.6.0,>=3.5.0->ja-core-news-sm==3.5.0) (2023.7.22)\n",
      "Requirement already satisfied: blis<0.8.0,>=0.7.8 in /Library/Frameworks/Python.framework/Versions/3.11/lib/python3.11/site-packages (from thinc<8.2.0,>=8.1.8->spacy<3.6.0,>=3.5.0->ja-core-news-sm==3.5.0) (0.7.11)\n",
      "Requirement already satisfied: confection<1.0.0,>=0.0.1 in /Library/Frameworks/Python.framework/Versions/3.11/lib/python3.11/site-packages (from thinc<8.2.0,>=8.1.8->spacy<3.6.0,>=3.5.0->ja-core-news-sm==3.5.0) (0.1.3)\n",
      "Requirement already satisfied: click<9.0.0,>=7.1.1 in /Library/Frameworks/Python.framework/Versions/3.11/lib/python3.11/site-packages (from typer<0.10.0,>=0.3.0->spacy<3.6.0,>=3.5.0->ja-core-news-sm==3.5.0) (8.1.7)\n",
      "Requirement already satisfied: MarkupSafe>=2.0 in /Library/Frameworks/Python.framework/Versions/3.11/lib/python3.11/site-packages (from jinja2->spacy<3.6.0,>=3.5.0->ja-core-news-sm==3.5.0) (2.1.3)\n",
      "\n",
      "\u001b[1m[\u001b[0m\u001b[34;49mnotice\u001b[0m\u001b[1;39;49m]\u001b[0m\u001b[39;49m A new release of pip is available: \u001b[0m\u001b[31;49m23.1.2\u001b[0m\u001b[39;49m -> \u001b[0m\u001b[32;49m23.3.1\u001b[0m\n",
      "\u001b[1m[\u001b[0m\u001b[34;49mnotice\u001b[0m\u001b[1;39;49m]\u001b[0m\u001b[39;49m To update, run: \u001b[0m\u001b[32;49mpip3 install --upgrade pip\u001b[0m\n",
      "\u001b[38;5;2m✔ Download and installation successful\u001b[0m\n",
      "You can now load the package via spacy.load('ja_core_news_sm')\n"
     ]
    }
   ],
   "source": [
    "import spacy\n",
    "\n",
    "!python3 -m spacy download \"ja_core_news_sm\""
   ]
  },
  {
   "cell_type": "code",
   "execution_count": 2,
   "id": "a5e323f1-f490-4521-b584-fa1ae13fad76",
   "metadata": {},
   "outputs": [],
   "source": [
    "import yaml\n",
    "\n",
    "with open('../data/impressions.yaml', 'r') as f:\n",
    "    imp = yaml.safe_load(f.read())"
   ]
  },
  {
   "cell_type": "code",
   "execution_count": 3,
   "id": "a65aedf7-7dae-4cb3-a7c8-553c38d0ab26",
   "metadata": {},
   "outputs": [
    {
     "name": "stderr",
     "output_type": "stream",
     "text": [
      "/Library/Frameworks/Python.framework/Versions/3.11/lib/python3.11/site-packages/tqdm/auto.py:21: TqdmWarning: IProgress not found. Please update jupyter and ipywidgets. See https://ipywidgets.readthedocs.io/en/stable/user_install.html\n",
      "  from .autonotebook import tqdm as notebook_tqdm\n"
     ]
    },
    {
     "data": {
      "text/plain": [
       "dict_keys(['negative', 'positive', 'positive_negative', 'random'])"
      ]
     },
     "execution_count": 3,
     "metadata": {},
     "output_type": "execute_result"
    }
   ],
   "source": [
    "nlp = spacy.load('ja_core_news_sm')\n",
    "imp.keys()"
   ]
  },
  {
   "cell_type": "code",
   "execution_count": 13,
   "id": "8717e17a-0c54-4049-b100-0d6da32babb3",
   "metadata": {},
   "outputs": [
    {
     "name": "stdout",
     "output_type": "stream",
     "text": [
      "[['ショールームの清潔さには好感が持てましたが', '一部の展示品が傷んでいるのが気になりました。'], ['スタッフの丁寧な対応がありましたが', '商品の説明が少なく、理解しにくかったです。'], ['展示品の品質は高く、特にデザインに魅了されましたが', '価格が高すぎると感じました。'], ['ショールームの広さとレイアウトは素晴らしかったが', '一部のエリアが混雑していました。'], [], ['インテリアデザインがモダンで印象的でしたが', '一部のエリアが古く感じられました。'], ['スタッフの対応は親切で好感が持てましたが', '混雑しておりゆっくり見学できませんでした。'], ['展示品のディスプレイは美しく、高い品質が感じられましたが', '価格が高すぎると感じました。'], ['ショールーム内の照明が良好で、商品が見やすかったが', '一部のエリアが薄暗かったです。'], ['商品の価格設定が適切で良心的でしたが', 'スタッフの知識が不足しているように感じました。'], ['展示品の配置が工夫され、テーマ性がありましたが', '一部の商品が見つけにくかったです。'], ['ショールーム内の案内が分かりやすく、スタッフの対応も良かったが', '混雑が気になりました。'], ['商品の新しさとデザインに魅了されましたが', 'スタッフの態度が冷淡で残念でした。'], ['ショールームの雰囲気が明るく、居心地が良かったが', '一部の商品が陳腐に感じられました。'], ['展示品の保守状態が良好で、商品の信頼性に安心感を覚えましたが', '価格が心配です。'], ['ショールームの配置が効果的で見やすかったが', 'スタッフの忙しさが対応に影響していました。'], ['スタッフの知識が豊富で的確でしたが', '商品の新しさに欠け、刷新が必要かもしれません。'], ['商品の魅力が引き立つディスプレイでしたが', 'スタッフの説明が簡略化されていた印象です。'], ['ショールーム内の音楽が心地よく、雰囲気が良かったが', '一部エリアが騒がしかったです。'], ['展示品のデザインが洗練されており、一部の商品には本当に惹かれましたが', '価格が心配です。'], ['ショールームの温度が快適で、滞在が楽しかったが', '一部のエリアが寒かったです。'], ['商品の新しさが感じられ、デザインが魅力的でしたが', 'スタッフの態度が気になりました。'], ['ショールーム内のサインが分かりやすく、効果的でしたが', '一部エリアの表示が不足していました。'], ['スタッフの態度が温暖で、親しみやすかったが', '商品の一部が古びて見えました。'], ['展示品の配置が程よく、見学がスムーズでしたが', '一部の商品が埋もれているようでした。'], ['ショールーム内の照明が美しく、商品が引き立っていましたが', '一部の商品が高価でした。'], ['展示されている商品が洗練されており、一部の商品には本当に魅了されましたが', '価格が気になります。'], ['ショールーム全体の雰囲気が素晴らしく、多様な商品が揃っていたが', '価格が手の届かないものもありました。']]\n"
     ]
    }
   ],
   "source": [
    "imp_ = []\n",
    "for doc in nlp.pipe(imp['positive_negative']):\n",
    "    parts = []\n",
    "    prev = 0\n",
    "    imp__ = []\n",
    "    for idx, token in enumerate(doc):\n",
    "        #print(f'{token.text}[{idx}]({token.pos_}) ', end='')\n",
    "        if token.pos_ == 'SCONJ' and token.text in ('が'):\n",
    "            parts.append([prev, idx+1])\n",
    "            prev = idx+1\n",
    "    for p0, p1 in parts:\n",
    "        #print(doc[p0:p1].text.strip('、'), end=': ')\n",
    "        imp__.append(doc[p0:p1].text.strip('、'))\n",
    "    if len(parts) > 0:\n",
    "        last_p = parts[-1][1]\n",
    "        if last_p < len(doc):\n",
    "            #print(doc[last_p: len(doc)].text.strip('、'))\n",
    "            imp__.append(doc[last_p: len(doc)].text.strip('、'))\n",
    "        else:\n",
    "            print()\n",
    "    imp_.append(imp__)\n",
    "print(imp_)"
   ]
  },
  {
   "cell_type": "code",
   "execution_count": 40,
   "id": "d047dc0a-3ddd-49f5-b458-6c959d160500",
   "metadata": {},
   "outputs": [],
   "source": [
    "# 色々とモデルを試した方が良い。\n",
    "\n",
    "from transformers import pipeline\n",
    "#sentiment = pipeline(model='christian-phu/bert-finetuned-japanese-sentiment')\n",
    "sentiment = pipeline(model='llm-book/bert-base-japanese-v3-marc_ja')"
   ]
  },
  {
   "cell_type": "code",
   "execution_count": 41,
   "id": "94a7a4f1-9265-493f-b4d6-21aaa049a5ef",
   "metadata": {},
   "outputs": [
    {
     "name": "stdout",
     "output_type": "stream",
     "text": [
      "ショールームの清潔さには好感が持てましたが,一部の展示品が傷んでいるのが気になりました。\n",
      "[{'label': 'negative', 'score': 0.9413160085678101}]\n",
      "['ショールームの清潔さには好感が持てましたが', '一部の展示品が傷んでいるのが気になりました。']\n",
      "[{'label': 'negative', 'score': 0.9102018475532532}, {'label': 'negative', 'score': 0.9673207998275757}]\n",
      "\n",
      "スタッフの丁寧な対応がありましたが,商品の説明が少なく、理解しにくかったです。\n",
      "[{'label': 'negative', 'score': 0.9560932517051697}]\n",
      "['スタッフの丁寧な対応がありましたが', '商品の説明が少なく、理解しにくかったです。']\n",
      "[{'label': 'negative', 'score': 0.8465325236320496}, {'label': 'negative', 'score': 0.9913062453269958}]\n",
      "\n",
      "展示品の品質は高く、特にデザインに魅了されましたが,価格が高すぎると感じました。\n",
      "[{'label': 'negative', 'score': 0.7011358737945557}]\n",
      "['展示品の品質は高く、特にデザインに魅了されましたが', '価格が高すぎると感じました。']\n",
      "[{'label': 'positive', 'score': 0.9985824823379517}, {'label': 'negative', 'score': 0.9912781119346619}]\n",
      "\n",
      "ショールームの広さとレイアウトは素晴らしかったが,一部のエリアが混雑していました。\n",
      "[{'label': 'positive', 'score': 0.9428516626358032}]\n",
      "['ショールームの広さとレイアウトは素晴らしかったが', '一部のエリアが混雑していました。']\n",
      "[{'label': 'positive', 'score': 0.8677330613136292}, {'label': 'negative', 'score': 0.8609099984169006}]\n",
      "\n",
      "\n",
      "[{'label': 'positive', 'score': 0.9673095345497131}]\n",
      "[]\n",
      "[]\n",
      "\n",
      "インテリアデザインがモダンで印象的でしたが,一部のエリアが古く感じられました。\n",
      "[{'label': 'positive', 'score': 0.9381372928619385}]\n",
      "['インテリアデザインがモダンで印象的でしたが', '一部のエリアが古く感じられました。']\n",
      "[{'label': 'positive', 'score': 0.9828619956970215}, {'label': 'negative', 'score': 0.9488198161125183}]\n",
      "\n",
      "スタッフの対応は親切で好感が持てましたが,混雑しておりゆっくり見学できませんでした。\n",
      "[{'label': 'negative', 'score': 0.9893608689308167}]\n",
      "['スタッフの対応は親切で好感が持てましたが', '混雑しておりゆっくり見学できませんでした。']\n",
      "[{'label': 'negative', 'score': 0.9648548364639282}, {'label': 'negative', 'score': 0.9935680031776428}]\n",
      "\n",
      "展示品のディスプレイは美しく、高い品質が感じられましたが,価格が高すぎると感じました。\n",
      "[{'label': 'negative', 'score': 0.9234740138053894}]\n",
      "['展示品のディスプレイは美しく、高い品質が感じられましたが', '価格が高すぎると感じました。']\n",
      "[{'label': 'positive', 'score': 0.9924295544624329}, {'label': 'negative', 'score': 0.9912781119346619}]\n",
      "\n",
      "ショールーム内の照明が良好で、商品が見やすかったが,一部のエリアが薄暗かったです。\n",
      "[{'label': 'positive', 'score': 0.9883601665496826}]\n",
      "['ショールーム内の照明が良好で、商品が見やすかったが', '一部のエリアが薄暗かったです。']\n",
      "[{'label': 'positive', 'score': 0.9979293346405029}, {'label': 'negative', 'score': 0.9714633226394653}]\n",
      "\n",
      "商品の価格設定が適切で良心的でしたが,スタッフの知識が不足しているように感じました。\n",
      "[{'label': 'negative', 'score': 0.9103154540061951}]\n",
      "['商品の価格設定が適切で良心的でしたが', 'スタッフの知識が不足しているように感じました。']\n",
      "[{'label': 'positive', 'score': 0.9802421927452087}, {'label': 'negative', 'score': 0.9913260340690613}]\n",
      "\n",
      "展示品の配置が工夫され、テーマ性がありましたが,一部の商品が見つけにくかったです。\n",
      "[{'label': 'positive', 'score': 0.902100682258606}]\n",
      "['展示品の配置が工夫され、テーマ性がありましたが', '一部の商品が見つけにくかったです。']\n",
      "[{'label': 'positive', 'score': 0.9991803765296936}, {'label': 'negative', 'score': 0.936017632484436}]\n",
      "\n",
      "ショールーム内の案内が分かりやすく、スタッフの対応も良かったが,混雑が気になりました。\n",
      "[{'label': 'positive', 'score': 0.9910949468612671}]\n",
      "['ショールーム内の案内が分かりやすく、スタッフの対応も良かったが', '混雑が気になりました。']\n",
      "[{'label': 'positive', 'score': 0.999007523059845}, {'label': 'positive', 'score': 0.5767740607261658}]\n",
      "\n",
      "商品の新しさとデザインに魅了されましたが,スタッフの態度が冷淡で残念でした。\n",
      "[{'label': 'negative', 'score': 0.8144662976264954}]\n",
      "['商品の新しさとデザインに魅了されましたが', 'スタッフの態度が冷淡で残念でした。']\n",
      "[{'label': 'positive', 'score': 0.9990788698196411}, {'label': 'negative', 'score': 0.9906030893325806}]\n",
      "\n",
      "ショールームの雰囲気が明るく、居心地が良かったが,一部の商品が陳腐に感じられました。\n",
      "[{'label': 'negative', 'score': 0.8434195518493652}]\n",
      "['ショールームの雰囲気が明るく、居心地が良かったが', '一部の商品が陳腐に感じられました。']\n",
      "[{'label': 'positive', 'score': 0.9987249970436096}, {'label': 'negative', 'score': 0.9910797476768494}]\n",
      "\n",
      "展示品の保守状態が良好で、商品の信頼性に安心感を覚えましたが,価格が心配です。\n",
      "[{'label': 'positive', 'score': 0.9451701045036316}]\n",
      "['展示品の保守状態が良好で、商品の信頼性に安心感を覚えましたが', '価格が心配です。']\n",
      "[{'label': 'positive', 'score': 0.998568058013916}, {'label': 'positive', 'score': 0.9498578906059265}]\n",
      "\n",
      "ショールームの配置が効果的で見やすかったが,スタッフの忙しさが対応に影響していました。\n",
      "[{'label': 'positive', 'score': 0.9431623816490173}]\n",
      "['ショールームの配置が効果的で見やすかったが', 'スタッフの忙しさが対応に影響していました。']\n",
      "[{'label': 'positive', 'score': 0.9835993051528931}, {'label': 'negative', 'score': 0.941447913646698}]\n",
      "\n",
      "スタッフの知識が豊富で的確でしたが,商品の新しさに欠け、刷新が必要かもしれません。\n",
      "[{'label': 'positive', 'score': 0.9085527062416077}]\n",
      "['スタッフの知識が豊富で的確でしたが', '商品の新しさに欠け、刷新が必要かもしれません。']\n",
      "[{'label': 'positive', 'score': 0.9733554720878601}, {'label': 'negative', 'score': 0.9814522862434387}]\n",
      "\n",
      "商品の魅力が引き立つディスプレイでしたが,スタッフの説明が簡略化されていた印象です。\n",
      "[{'label': 'positive', 'score': 0.958167314529419}]\n",
      "['商品の魅力が引き立つディスプレイでしたが', 'スタッフの説明が簡略化されていた印象です。']\n",
      "[{'label': 'positive', 'score': 0.9981027245521545}, {'label': 'negative', 'score': 0.9825037121772766}]\n",
      "\n",
      "ショールーム内の音楽が心地よく、雰囲気が良かったが,一部エリアが騒がしかったです。\n",
      "[{'label': 'positive', 'score': 0.9985552430152893}]\n",
      "['ショールーム内の音楽が心地よく、雰囲気が良かったが', '一部エリアが騒がしかったです。']\n",
      "[{'label': 'positive', 'score': 0.9986472725868225}, {'label': 'negative', 'score': 0.7566360831260681}]\n",
      "\n",
      "展示品のデザインが洗練されており、一部の商品には本当に惹かれましたが,価格が心配です。\n",
      "[{'label': 'positive', 'score': 0.915827214717865}]\n",
      "['展示品のデザインが洗練されており、一部の商品には本当に惹かれましたが', '価格が心配です。']\n",
      "[{'label': 'positive', 'score': 0.985081136226654}, {'label': 'positive', 'score': 0.9498578906059265}]\n",
      "\n",
      "ショールームの温度が快適で、滞在が楽しかったが,一部のエリアが寒かったです。\n",
      "[{'label': 'positive', 'score': 0.980566143989563}]\n",
      "['ショールームの温度が快適で、滞在が楽しかったが', '一部のエリアが寒かったです。']\n",
      "[{'label': 'positive', 'score': 0.9981624484062195}, {'label': 'negative', 'score': 0.9613737463951111}]\n",
      "\n",
      "商品の新しさが感じられ、デザインが魅力的でしたが,スタッフの態度が気になりました。\n",
      "[{'label': 'positive', 'score': 0.9691893458366394}]\n",
      "['商品の新しさが感じられ、デザインが魅力的でしたが', 'スタッフの態度が気になりました。']\n",
      "[{'label': 'positive', 'score': 0.999103844165802}, {'label': 'negative', 'score': 0.906027615070343}]\n",
      "\n",
      "ショールーム内のサインが分かりやすく、効果的でしたが,一部エリアの表示が不足していました。\n",
      "[{'label': 'positive', 'score': 0.916653037071228}]\n",
      "['ショールーム内のサインが分かりやすく、効果的でしたが', '一部エリアの表示が不足していました。']\n",
      "[{'label': 'positive', 'score': 0.9983548521995544}, {'label': 'negative', 'score': 0.97993004322052}]\n",
      "\n",
      "スタッフの態度が温暖で、親しみやすかったが,商品の一部が古びて見えました。\n",
      "[{'label': 'positive', 'score': 0.9626832604408264}]\n",
      "['スタッフの態度が温暖で、親しみやすかったが', '商品の一部が古びて見えました。']\n",
      "[{'label': 'positive', 'score': 0.9924567937850952}, {'label': 'negative', 'score': 0.9876325130462646}]\n",
      "\n",
      "展示品の配置が程よく、見学がスムーズでしたが,一部の商品が埋もれているようでした。\n",
      "[{'label': 'positive', 'score': 0.9817682504653931}]\n",
      "['展示品の配置が程よく、見学がスムーズでしたが', '一部の商品が埋もれているようでした。']\n",
      "[{'label': 'positive', 'score': 0.9987702965736389}, {'label': 'negative', 'score': 0.9901284575462341}]\n",
      "\n",
      "ショールーム内の照明が美しく、商品が引き立っていましたが,一部の商品が高価でした。\n",
      "[{'label': 'positive', 'score': 0.9974049925804138}]\n",
      "['ショールーム内の照明が美しく、商品が引き立っていましたが', '一部の商品が高価でした。']\n",
      "[{'label': 'positive', 'score': 0.9990367889404297}, {'label': 'negative', 'score': 0.8396629095077515}]\n",
      "\n",
      "展示されている商品が洗練されており、一部の商品には本当に魅了されましたが,価格が気になります。\n",
      "[{'label': 'positive', 'score': 0.9860913157463074}]\n",
      "['展示されている商品が洗練されており、一部の商品には本当に魅了されましたが', '価格が気になります。']\n",
      "[{'label': 'positive', 'score': 0.9933063387870789}, {'label': 'positive', 'score': 0.99439936876297}]\n",
      "\n",
      "ショールーム全体の雰囲気が素晴らしく、多様な商品が揃っていたが,価格が手の届かないものもありました。\n",
      "[{'label': 'positive', 'score': 0.9992509484291077}]\n",
      "['ショールーム全体の雰囲気が素晴らしく、多様な商品が揃っていたが', '価格が手の届かないものもありました。']\n",
      "[{'label': 'positive', 'score': 0.9993157386779785}, {'label': 'negative', 'score': 0.8238476514816284}]\n",
      "\n"
     ]
    }
   ],
   "source": [
    "for i in imp_:\n",
    "    print(','.join(i))\n",
    "    print(sentiment(','.join(i)))\n",
    "    print(i)\n",
    "    print(sentiment(i))\n",
    "    print()"
   ]
  },
  {
   "cell_type": "code",
   "execution_count": null,
   "id": "f52fff10-cd2f-4314-9a68-96fe773fe14a",
   "metadata": {},
   "outputs": [],
   "source": []
  }
 ],
 "metadata": {
  "kernelspec": {
   "display_name": "Python 3 (ipykernel)",
   "language": "python",
   "name": "python3"
  },
  "language_info": {
   "codemirror_mode": {
    "name": "ipython",
    "version": 3
   },
   "file_extension": ".py",
   "mimetype": "text/x-python",
   "name": "python",
   "nbconvert_exporter": "python",
   "pygments_lexer": "ipython3",
   "version": "3.11.4"
  }
 },
 "nbformat": 4,
 "nbformat_minor": 5
}
