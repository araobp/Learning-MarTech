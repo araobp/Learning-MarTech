{
 "cells": [
  {
   "cell_type": "markdown",
   "id": "616286c0-62a5-477f-9afd-bf0413140b0f",
   "metadata": {},
   "source": [
    "# Sentiment analysis\n",
    "\n",
    "Date: 2023/11/23\n"
   ]
  },
  {
   "cell_type": "code",
   "execution_count": 3,
   "id": "d2b777ec-12bd-495b-99cc-a7bce73e2935",
   "metadata": {},
   "outputs": [
    {
     "name": "stdout",
     "output_type": "stream",
     "text": [
      "{'positive': 0.6109051704406738, 'negative': 0.1456359475851059, 'neutral': 0.2434588372707367}\n"
     ]
    }
   ],
   "source": [
    "# Reference: https://spacy.io/universe/project/eng_spacysentiment\n",
    "\n",
    "#!pip3 install eng_spacysentiment\n",
    "import eng_spacysentiment\n",
    "nlp = eng_spacysentiment.load()\n",
    "text = \"Welcome to Arsenals official YouTube channel Watch as we take you closer and show you the personality of the club\"\n",
    "doc = nlp(text)\n",
    "print(doc.cats)"
   ]
  },
  {
   "cell_type": "code",
   "execution_count": null,
   "id": "8b7b0b29-f615-41a5-a945-ecc15a819f3b",
   "metadata": {},
   "outputs": [],
   "source": []
  }
 ],
 "metadata": {
  "kernelspec": {
   "display_name": "Python 3 (ipykernel)",
   "language": "python",
   "name": "python3"
  },
  "language_info": {
   "codemirror_mode": {
    "name": "ipython",
    "version": 3
   },
   "file_extension": ".py",
   "mimetype": "text/x-python",
   "name": "python",
   "nbconvert_exporter": "python",
   "pygments_lexer": "ipython3",
   "version": "3.11.4"
  }
 },
 "nbformat": 4,
 "nbformat_minor": 5
}
