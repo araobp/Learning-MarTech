{
 "cells": [
  {
   "cell_type": "markdown",
   "id": "1ffa5701-4f2e-4f65-b4dd-47b3ad95b974",
   "metadata": {},
   "source": [
    "# spaCy and networkx\n",
    "\n",
    "Date: 2023/11/24-2023/12/09\n",
    "\n",
    "Reference: https://youtu.be/fAHkJ_Dhr50\n",
    "\n",
    "ドイツに住んでいた頃、バッハの音楽を聴きながら生活したので、バッハの本を選んだ。\n",
    "\n",
    "Free book \"Johann Sebastian Bach: His Life, Art, and Work\" from Project Gutenberg: https://www.gutenberg.org/ebooks/35041"
   ]
  },
  {
   "cell_type": "code",
   "execution_count": 1,
   "id": "799436bf-46cb-4d23-a39c-745759db3144",
   "metadata": {},
   "outputs": [],
   "source": [
    "import re"
   ]
  },
  {
   "cell_type": "code",
   "execution_count": 2,
   "id": "10e249f1-5891-4ddc-8be2-fdd9814737dd",
   "metadata": {},
   "outputs": [
    {
     "name": "stdout",
     "output_type": "stream",
     "text": [
      "CHAPTER I. THE FAMILY OF BACH\n",
      "\n",
      "\n",
      "If there is such a thing as inherited aptitude for art it certainly showed\n",
      "itself in the family of Bach. For six successive generations scarcely two\n",
      "or three of its members are found whom nature had not endowed with\n",
      "remarkable musical talent, and who did not make music their\n",
      "profession.\n",
      "\n",
      "Veit Bach, ancestor of this famous family, gained a livelihood as a\n",
      "baker at Pressburg in Hungary.  When the religious troubles of the\n",
      "sixteenth century broke out he was driven to seek another place of abode,\n",
      "and having got together as much of his small property as he could, retired\n",
      "with it to Thuringia, hoping to find peace and security there.  He settled\n",
      "at Wechmar, a village near Gotha, where he continued to ply his trade\n",
      "as a baker and miller. In his leisure hours he was wont to amuse\n",
      "himself with the lute, playing it amid the noise and clatter of the\n",
      "mill.  His taste for music descended to his two sons and their\n",
      "children, and in time the Bachs grew to be a very numerous family of\n",
      "professional musicians, Cantors, Organists, and Town Musicians,\n",
      "throughout  Thuringia.\n",
      "\n",
      "Not all the Bachs, however, were great musicians. But every generation\n",
      "boasted some of them who were more than usually distinguished.  In the\n",
      "first quarter of the seventeenth century three of Veit Bach's\n",
      "grandchildren showed such exceptional talent that the Count of\n",
      "Schwarzburg-Arnstadt thought it worth while to send them at his expense to\n",
      "Italy, then the chief school of music, to perfect themselves in the\n",
      "art.\n",
      "\n",
      "We do not know whether they rewarded the expectations of their patron, for\n",
      "none of their works has survived. The fourth generation of the family\n",
      "produced musicians of exceptional distinction, and several of their\n",
      "compositions, thanks to Johann Sebastian Bach's regard for them, have come\n",
      "down to us. The most notable of these Bachs are:\n",
      "\n",
      "   1. Johann Christoph Bach, Court and Town Organist at Eisenach. He\n",
      "      was particularly happy in his beautiful melodies and in setting\n",
      "      words to music. In the _Archives of the Bachs, which was in\n",
      "      Carl Philipp Emmanuel's possession at Hamburg, there is a Motet by\n",
      "      Johann Christoph in which he boldly uses the augmented sixth, a\n",
      "      proceeding considered extremely daring in his day. He was also\n",
      "      an uncommon master of harmony, as may be inferred from a Cantata\n",
      "      composed by him for Michaelmas, to the words \"Es erhub sich ein\n",
      "      Streit,\" etc., which has twenty-two obbligato parts in correct\n",
      "      harmony. Yet another proof of his rare skill is in the alleged\n",
      "      fact that he never played the Organ or Clavier in less than five\n",
      "      parts. Carl Philipp Emmanuel had a particularly warm regard for\n",
      "      him. I remember the old man playing some of his compositions to\n",
      "      me on the Clavier at Hamburg, and how quizzically he looked at me\n",
      "      when one of these daring passages occurred.\n",
      "   2. Johann Michael Bach, Organist and Town Clerk at Gehren. He was\n",
      "      the younger brother of Johann Christoph\n"
     ]
    }
   ],
   "source": [
    "with open('../data/pg35041_.txt') as f:\n",
    "    text_ = f.read()\n",
    "\n",
    "text = re.sub(r'_*\\(\\d+\\)', '', text_)\n",
    "print(text[:3000])"
   ]
  },
  {
   "cell_type": "code",
   "execution_count": 3,
   "id": "0297c5d7-4792-4086-9556-88c72df109ef",
   "metadata": {},
   "outputs": [
    {
     "name": "stdout",
     "output_type": "stream",
     "text": [
      "Collecting en-core-web-md==3.5.0\n",
      "  Downloading https://github.com/explosion/spacy-models/releases/download/en_core_web_md-3.5.0/en_core_web_md-3.5.0-py3-none-any.whl (42.8 MB)\n",
      "\u001b[2K     \u001b[90m━━━━━━━━━━━━━━━━━━━━━━━━━━━━━━━━━━━━━━━━\u001b[0m \u001b[32m42.8/42.8 MB\u001b[0m \u001b[31m2.8 MB/s\u001b[0m eta \u001b[36m0:00:00\u001b[0m00:01\u001b[0m00:01\u001b[0m\n",
      "\u001b[?25hRequirement already satisfied: spacy<3.6.0,>=3.5.0 in /Library/Frameworks/Python.framework/Versions/3.11/lib/python3.11/site-packages (from en-core-web-md==3.5.0) (3.5.4)\n",
      "Requirement already satisfied: spacy-legacy<3.1.0,>=3.0.11 in /Library/Frameworks/Python.framework/Versions/3.11/lib/python3.11/site-packages (from spacy<3.6.0,>=3.5.0->en-core-web-md==3.5.0) (3.0.12)\n",
      "Requirement already satisfied: spacy-loggers<2.0.0,>=1.0.0 in /Library/Frameworks/Python.framework/Versions/3.11/lib/python3.11/site-packages (from spacy<3.6.0,>=3.5.0->en-core-web-md==3.5.0) (1.0.5)\n",
      "Requirement already satisfied: murmurhash<1.1.0,>=0.28.0 in /Library/Frameworks/Python.framework/Versions/3.11/lib/python3.11/site-packages (from spacy<3.6.0,>=3.5.0->en-core-web-md==3.5.0) (1.0.10)\n",
      "Requirement already satisfied: cymem<2.1.0,>=2.0.2 in /Library/Frameworks/Python.framework/Versions/3.11/lib/python3.11/site-packages (from spacy<3.6.0,>=3.5.0->en-core-web-md==3.5.0) (2.0.8)\n",
      "Requirement already satisfied: preshed<3.1.0,>=3.0.2 in /Library/Frameworks/Python.framework/Versions/3.11/lib/python3.11/site-packages (from spacy<3.6.0,>=3.5.0->en-core-web-md==3.5.0) (3.0.9)\n",
      "Requirement already satisfied: thinc<8.2.0,>=8.1.8 in /Library/Frameworks/Python.framework/Versions/3.11/lib/python3.11/site-packages (from spacy<3.6.0,>=3.5.0->en-core-web-md==3.5.0) (8.1.12)\n",
      "Requirement already satisfied: wasabi<1.2.0,>=0.9.1 in /Library/Frameworks/Python.framework/Versions/3.11/lib/python3.11/site-packages (from spacy<3.6.0,>=3.5.0->en-core-web-md==3.5.0) (0.10.1)\n",
      "Requirement already satisfied: srsly<3.0.0,>=2.4.3 in /Library/Frameworks/Python.framework/Versions/3.11/lib/python3.11/site-packages (from spacy<3.6.0,>=3.5.0->en-core-web-md==3.5.0) (2.4.8)\n",
      "Requirement already satisfied: catalogue<2.1.0,>=2.0.6 in /Library/Frameworks/Python.framework/Versions/3.11/lib/python3.11/site-packages (from spacy<3.6.0,>=3.5.0->en-core-web-md==3.5.0) (2.0.10)\n",
      "Requirement already satisfied: typer<0.10.0,>=0.3.0 in /Library/Frameworks/Python.framework/Versions/3.11/lib/python3.11/site-packages (from spacy<3.6.0,>=3.5.0->en-core-web-md==3.5.0) (0.9.0)\n",
      "Requirement already satisfied: pathy>=0.10.0 in /Library/Frameworks/Python.framework/Versions/3.11/lib/python3.11/site-packages (from spacy<3.6.0,>=3.5.0->en-core-web-md==3.5.0) (0.10.3)\n",
      "Requirement already satisfied: smart-open<7.0.0,>=5.2.1 in /Library/Frameworks/Python.framework/Versions/3.11/lib/python3.11/site-packages (from spacy<3.6.0,>=3.5.0->en-core-web-md==3.5.0) (6.4.0)\n",
      "Requirement already satisfied: tqdm<5.0.0,>=4.38.0 in /Library/Frameworks/Python.framework/Versions/3.11/lib/python3.11/site-packages (from spacy<3.6.0,>=3.5.0->en-core-web-md==3.5.0) (4.66.1)\n",
      "Requirement already satisfied: numpy>=1.15.0 in /Library/Frameworks/Python.framework/Versions/3.11/lib/python3.11/site-packages (from spacy<3.6.0,>=3.5.0->en-core-web-md==3.5.0) (1.24.3)\n",
      "Requirement already satisfied: requests<3.0.0,>=2.13.0 in /Library/Frameworks/Python.framework/Versions/3.11/lib/python3.11/site-packages (from spacy<3.6.0,>=3.5.0->en-core-web-md==3.5.0) (2.31.0)\n",
      "Requirement already satisfied: pydantic!=1.8,!=1.8.1,<1.11.0,>=1.7.4 in /Library/Frameworks/Python.framework/Versions/3.11/lib/python3.11/site-packages (from spacy<3.6.0,>=3.5.0->en-core-web-md==3.5.0) (1.10.12)\n",
      "Requirement already satisfied: jinja2 in /Library/Frameworks/Python.framework/Versions/3.11/lib/python3.11/site-packages (from spacy<3.6.0,>=3.5.0->en-core-web-md==3.5.0) (3.1.2)\n",
      "Requirement already satisfied: setuptools in /Library/Frameworks/Python.framework/Versions/3.11/lib/python3.11/site-packages (from spacy<3.6.0,>=3.5.0->en-core-web-md==3.5.0) (65.5.0)\n",
      "Requirement already satisfied: packaging>=20.0 in /Library/Frameworks/Python.framework/Versions/3.11/lib/python3.11/site-packages (from spacy<3.6.0,>=3.5.0->en-core-web-md==3.5.0) (23.1)\n",
      "Requirement already satisfied: langcodes<4.0.0,>=3.2.0 in /Library/Frameworks/Python.framework/Versions/3.11/lib/python3.11/site-packages (from spacy<3.6.0,>=3.5.0->en-core-web-md==3.5.0) (3.3.0)\n",
      "Requirement already satisfied: typing-extensions>=4.2.0 in /Library/Frameworks/Python.framework/Versions/3.11/lib/python3.11/site-packages (from pydantic!=1.8,!=1.8.1,<1.11.0,>=1.7.4->spacy<3.6.0,>=3.5.0->en-core-web-md==3.5.0) (4.8.0)\n",
      "Requirement already satisfied: charset-normalizer<4,>=2 in /Library/Frameworks/Python.framework/Versions/3.11/lib/python3.11/site-packages (from requests<3.0.0,>=2.13.0->spacy<3.6.0,>=3.5.0->en-core-web-md==3.5.0) (3.2.0)\n",
      "Requirement already satisfied: idna<4,>=2.5 in /Library/Frameworks/Python.framework/Versions/3.11/lib/python3.11/site-packages (from requests<3.0.0,>=2.13.0->spacy<3.6.0,>=3.5.0->en-core-web-md==3.5.0) (3.4)\n",
      "Requirement already satisfied: urllib3<3,>=1.21.1 in /Library/Frameworks/Python.framework/Versions/3.11/lib/python3.11/site-packages (from requests<3.0.0,>=2.13.0->spacy<3.6.0,>=3.5.0->en-core-web-md==3.5.0) (1.26.16)\n",
      "Requirement already satisfied: certifi>=2017.4.17 in /Library/Frameworks/Python.framework/Versions/3.11/lib/python3.11/site-packages (from requests<3.0.0,>=2.13.0->spacy<3.6.0,>=3.5.0->en-core-web-md==3.5.0) (2023.7.22)\n",
      "Requirement already satisfied: blis<0.8.0,>=0.7.8 in /Library/Frameworks/Python.framework/Versions/3.11/lib/python3.11/site-packages (from thinc<8.2.0,>=8.1.8->spacy<3.6.0,>=3.5.0->en-core-web-md==3.5.0) (0.7.11)\n",
      "Requirement already satisfied: confection<1.0.0,>=0.0.1 in /Library/Frameworks/Python.framework/Versions/3.11/lib/python3.11/site-packages (from thinc<8.2.0,>=8.1.8->spacy<3.6.0,>=3.5.0->en-core-web-md==3.5.0) (0.1.3)\n",
      "Requirement already satisfied: click<9.0.0,>=7.1.1 in /Library/Frameworks/Python.framework/Versions/3.11/lib/python3.11/site-packages (from typer<0.10.0,>=0.3.0->spacy<3.6.0,>=3.5.0->en-core-web-md==3.5.0) (8.1.7)\n",
      "Requirement already satisfied: MarkupSafe>=2.0 in /Library/Frameworks/Python.framework/Versions/3.11/lib/python3.11/site-packages (from jinja2->spacy<3.6.0,>=3.5.0->en-core-web-md==3.5.0) (2.1.3)\n",
      "\n",
      "\u001b[1m[\u001b[0m\u001b[34;49mnotice\u001b[0m\u001b[1;39;49m]\u001b[0m\u001b[39;49m A new release of pip is available: \u001b[0m\u001b[31;49m23.1.2\u001b[0m\u001b[39;49m -> \u001b[0m\u001b[32;49m23.3.1\u001b[0m\n",
      "\u001b[1m[\u001b[0m\u001b[34;49mnotice\u001b[0m\u001b[1;39;49m]\u001b[0m\u001b[39;49m To update, run: \u001b[0m\u001b[32;49mpip3 install --upgrade pip\u001b[0m\n",
      "\u001b[38;5;2m✔ Download and installation successful\u001b[0m\n",
      "You can now load the package via spacy.load('en_core_web_md')\n"
     ]
    }
   ],
   "source": [
    "!python3 -m spacy download en_core_web_md"
   ]
  },
  {
   "cell_type": "code",
   "execution_count": 4,
   "id": "994501e7-0b99-498b-961c-f22c535d3e8a",
   "metadata": {},
   "outputs": [],
   "source": [
    "import spacy\n",
    "from spacy import displacy"
   ]
  },
  {
   "cell_type": "code",
   "execution_count": null,
   "id": "b7dcaf25-74af-4185-b5cc-033e9e7e6297",
   "metadata": {},
   "outputs": [],
   "source": [
    "nlp = spacy.load('en_core_web_md')\n",
    "doc = nlp(text)"
   ]
  },
  {
   "cell_type": "code",
   "execution_count": null,
   "id": "cba54217-bc0c-4322-9958-d6785d10349f",
   "metadata": {},
   "outputs": [],
   "source": [
    "displacy.render(doc[3000:6000], style=\"ent\", jupyter=True)"
   ]
  },
  {
   "cell_type": "code",
   "execution_count": null,
   "id": "48185eff-dd46-4ba1-b7d4-83d895f0beec",
   "metadata": {},
   "outputs": [],
   "source": [
    "characters = set()\n",
    "for ent in doc.ents:\n",
    "    if ent.label_ == 'PERSON':\n",
    "        characters.add(ent.text)\n",
    "characters"
   ]
  },
  {
   "cell_type": "code",
   "execution_count": null,
   "id": "f481d580-901c-47f0-bea6-96d1558d061a",
   "metadata": {},
   "outputs": [],
   "source": [
    "cleaned_names ={'Anna Magdalena',\n",
    " 'Bach',\n",
    " 'Beethoven',\n",
    " 'Böhm',\n",
    " 'Carl Philipp',\n",
    " 'Carl Philipp Emmanuel',\n",
    " 'Caspar Kerl',\n",
    " 'Charles III',\n",
    " 'Charles of Sicily',\n",
    " 'Christopher Weigel',\n",
    " 'Count Kaiserling',\n",
    " 'Couperin',\n",
    " 'Duke Christian of Weissenfels',\n",
    " 'Duke Ernst',\n",
    " 'Elias Gottlieb Haussmann',\n",
    " 'Emmanuel Bach',\n",
    " 'Fischer',\n",
    " 'Frederick II',\n",
    " 'Frescobaldi',\n",
    " 'Friedemann',\n",
    " 'Friedrich Müller',\n",
    " 'Fritz',\n",
    " 'Fritz Volbach',\n",
    " 'Froberger',\n",
    " 'Görner',\n",
    " 'Handel',\n",
    " 'Hasse',\n",
    " 'Haussmann',\n",
    " 'Hence Bach',\n",
    " 'Herein Bach',\n",
    " 'J. C. Gottsched',\n",
    " 'Johann Ambrosius',\n",
    " 'Johann Abraham Birnbaum',\n",
    " 'Johann Adam Reinken',\n",
    " 'Johann Ambrosius Bach',\n",
    " 'Johann Bernhard Bach',\n",
    " 'Johann Christian Hoffmann',\n",
    " 'Johann Christoph',\n",
    " 'Johann Christoph Bach',\n",
    " \"Johann Christoph Friedrich's\",\n",
    " 'Johann G. Schübler',\n",
    " 'Johann Gottlieb Görner',\n",
    " 'Johann Heinrich Ernesti',\n",
    " 'Johann Matthias Gesner',\n",
    " 'Johann Michael Bach',\n",
    " 'Johann Sebastian',\n",
    " 'Johann Sebastian Bach',\n",
    " 'Kerl',\n",
    " 'Maria Amalia',\n",
    " 'Marianne von Ziegler',\n",
    " 'Müller',\n",
    " 'Nicolas',\n",
    " 'Pachelbel',\n",
    " 'Paul Wagner',\n",
    " 'Peters',\n",
    " 'Philipp Telemann',\n",
    " 'Regine Susanna',\n",
    " 'Reinhard Keiser',\n",
    " 'Sebastian Bach',\n",
    " 'Veit Bach',\n",
    " 'Vereinigte Zwietracht',\n",
    " 'Vierstimmige Choralgesänge',\n",
    " 'Vivaldi',\n",
    " 'Vom Himmel',\n",
    " 'Wahre Grundsätze',\n",
    " 'Wasserflüssen Babylon',\n",
    " 'Wilhelm Friedemann'}"
   ]
  },
  {
   "cell_type": "code",
   "execution_count": null,
   "id": "a7370ff4-72f5-49d8-be55-d74d39d3ca9d",
   "metadata": {},
   "outputs": [],
   "source": [
    "sent_entity_df = []\n",
    "\n",
    "for sent in doc.sents:\n",
    "    entity_list = [ent.text for ent in sent.ents]\n",
    "    sent_entity_df.append({'sentence': sent, 'entities': entity_list})\n",
    "\n",
    "import pandas as pd\n",
    "\n",
    "sent_entity_df = pd.DataFrame(sent_entity_df)"
   ]
  },
  {
   "cell_type": "code",
   "execution_count": null,
   "id": "468a85dc-0515-4ee7-b9a1-718c44c31575",
   "metadata": {
    "scrolled": true
   },
   "outputs": [],
   "source": [
    "sent_entity_df[500:550]"
   ]
  },
  {
   "cell_type": "code",
   "execution_count": null,
   "id": "8ca1f88f-af47-42fd-91a4-bf41d0d40bce",
   "metadata": {},
   "outputs": [],
   "source": [
    "def filter_entity(ent_list):\n",
    "    return [ent for ent in ent_list if ent in cleaned_names]"
   ]
  },
  {
   "cell_type": "code",
   "execution_count": null,
   "id": "58a29a30-bf1d-4cf7-8a3c-62b7866a738e",
   "metadata": {},
   "outputs": [],
   "source": [
    "sent_entity_df['character_entities'] = sent_entity_df['entities'].apply(filter_entity)"
   ]
  },
  {
   "cell_type": "code",
   "execution_count": null,
   "id": "7b7aa0dc-81ea-45e2-8921-9edda66673dc",
   "metadata": {},
   "outputs": [],
   "source": [
    "sent_entity_df[500:550]"
   ]
  },
  {
   "cell_type": "code",
   "execution_count": null,
   "id": "b25f66b2-d7a0-4e89-a418-090f57ed25e2",
   "metadata": {},
   "outputs": [],
   "source": [
    "sent_entity_df_filtered = sent_entity_df[sent_entity_df['character_entities'].apply(len) > 0]\n",
    "sent_entity_df_filtered"
   ]
  },
  {
   "cell_type": "code",
   "execution_count": null,
   "id": "838ed543-b575-424c-adbb-0423dc86167c",
   "metadata": {},
   "outputs": [],
   "source": [
    "REPLACE = {'Bach': 'Johann Sebastian Bach',\n",
    "           'Johann Sebastian': 'Johann Sebastian Bach',\n",
    "           'Carl Philipp': 'Carl Philipp Emanuel Bach',\n",
    "           'Carl Philipp Emanuel': 'Carl Philipp Emanuel Bach',\n",
    "           'Carl Philipp Emmanuel': 'Carl Philipp Emanuel Bach',           \n",
    "           'Wilhelm Friedemann': 'Wilhelm Friedemann Bach',\n",
    "           'Johann Christoph': 'Johann Christoph Bach',\n",
    "           'Anna Magdalena': 'Anna Magdalena Bach'\n",
    "          }\n",
    "\n",
    "def align_names(names):\n",
    "    replaced = []\n",
    "    for name in names:\n",
    "        name = name.replace(\"'s\", \"\")\n",
    "        if name in REPLACE:\n",
    "            replaced.append(REPLACE[name])\n",
    "        else:\n",
    "            replaced.append(name)\n",
    "    return replaced\n",
    "\n",
    "# To avoid SettingWithCopyWarning, use loc[]\n",
    "sent_entity_df_filtered.loc[:,'character_entities_'] = sent_entity_df_filtered['character_entities'].apply(align_names)\n",
    "sent_entity_df_filtered['character_entities_']"
   ]
  },
  {
   "cell_type": "markdown",
   "id": "9d5b8b5e-5cda-48b1-b534-8691cbfae9cc",
   "metadata": {},
   "source": [
    "## Create relationships"
   ]
  },
  {
   "cell_type": "code",
   "execution_count": null,
   "id": "e8062d01-a5ab-4a2c-a166-f519e33791d8",
   "metadata": {},
   "outputs": [],
   "source": [
    "window_size = 5\n",
    "relationships = []\n",
    "\n",
    "end_idx = sent_entity_df_filtered.index[-1]\n",
    "for i in range(end_idx):\n",
    "    end_i = min(i+window_size, end_idx)\n",
    "    char_list = sum((sent_entity_df_filtered.loc[i:end_i].character_entities_), [])\n",
    "    #print(characters)\n",
    "    char_unique = [char_list[i] for i in range(len(char_list)) if i == 0 or char_list[i] != char_list[i-1]]\n",
    "    #char_unique = set()\n",
    "    #for i in range(len(char_list)):\n",
    "    #    char_unique.add(char_list[i])\n",
    "    #print(char_unique)\n",
    "\n",
    "    for idx, a in enumerate(char_unique[:-1]):\n",
    "        b = char_unique[idx+1]\n",
    "        relationships.append({'source': a, 'target': b})"
   ]
  },
  {
   "cell_type": "code",
   "execution_count": null,
   "id": "8aeac19e-820b-4c08-8b5f-bd404bd3007c",
   "metadata": {},
   "outputs": [],
   "source": [
    "relationships_df = pd.DataFrame(relationships)\n",
    "pd.set_option('display.max_rows', None)\n",
    "relationships_df.sort_values(by='source')"
   ]
  },
  {
   "cell_type": "code",
   "execution_count": null,
   "id": "2f036b2b-d088-4b9d-9917-167603974f00",
   "metadata": {},
   "outputs": [],
   "source": [
    "all_characters = pd.concat([relationships_df['source'], relationships_df['target']]).unique()\n",
    "all_characters"
   ]
  },
  {
   "cell_type": "code",
   "execution_count": null,
   "id": "d3a398a6-5e49-4d38-9fa7-2247f2572d90",
   "metadata": {},
   "outputs": [],
   "source": [
    "relationships_df['weight'] = 1\n",
    "relationships_df_ = relationships_df.groupby(['source', 'target'], sort=False, as_index=False).sum()\n",
    "relationships_df_.head()"
   ]
  },
  {
   "cell_type": "code",
   "execution_count": null,
   "id": "989ae2da-7427-4ad5-a2aa-c1f88a041706",
   "metadata": {},
   "outputs": [],
   "source": [
    "import networkx as nx\n",
    "G = nx.from_pandas_edgelist(relationships_df_,\n",
    "                            source = 'source',\n",
    "                            target = 'target',\n",
    "                            edge_attr = 'weight',\n",
    "                            create_using=nx.Graph())\n",
    "\n",
    "# [i['weight'] for i in dict(G.edges).values()]"
   ]
  },
  {
   "cell_type": "code",
   "execution_count": null,
   "id": "b94a64f6-3515-4a66-aee3-0200fa2d9528",
   "metadata": {},
   "outputs": [],
   "source": [
    "import matplotlib.pyplot as plt\n",
    "fig, ax = plt.subplots(figsize=(10,10))\n",
    "pos = nx.kamada_kawai_layout(G)\n",
    "nx.draw(G, ax=ax, with_labels=True, node_color='skyblue', edge_cmap=plt.cm.Blues, pos=pos)\n",
    "plt.show()"
   ]
  },
  {
   "cell_type": "code",
   "execution_count": null,
   "id": "6cc13691-469f-4a23-98e7-5c07fcb917d3",
   "metadata": {},
   "outputs": [],
   "source": [
    "#!pip3 install pyvis\n",
    "from pyvis.network import Network\n",
    "net = Network(notebook=True, width='1000px', height='700px', bgcolor='#222222', font_color='white', cdn_resources='in_line')\n",
    "\n",
    "node_degree = dict(G.degree)\n",
    "nx.set_node_attributes(G, node_degree, 'size')\n",
    "\n",
    "net.from_nx(G, edge_scaling=True, show_edge_weights=True)\n",
    "net.show('bach.html')"
   ]
  },
  {
   "cell_type": "markdown",
   "id": "ebea761c-792b-44ee-a28a-f8871a155443",
   "metadata": {},
   "source": [
    "## The most important character"
   ]
  },
  {
   "cell_type": "code",
   "execution_count": null,
   "id": "ad76f0be-d12d-469a-a26c-cbe3534ca9ca",
   "metadata": {},
   "outputs": [],
   "source": [
    "degree_dict = nx.degree_centrality(G)\n",
    "degree_dict"
   ]
  },
  {
   "cell_type": "code",
   "execution_count": null,
   "id": "7b4095ac-a7ef-42ab-8b96-984a617220fa",
   "metadata": {},
   "outputs": [],
   "source": [
    "degree_df = pd.DataFrame.from_dict(degree_dict, orient='index', columns=['centrality'])\n",
    "degree_df.sort_values('centrality', ascending=False)[:10].plot(kind='bar')"
   ]
  },
  {
   "cell_type": "markdown",
   "id": "34702cc1-e3b6-4d76-9576-4e15e615ddfa",
   "metadata": {},
   "source": [
    "### Centralityで上位の人たちは誰？\n",
    "\n",
    "Johann Christoph は Johann Sebastien の一番年上の兄。\n",
    "\n",
    "```\n",
    "In 1695, when Johann Sebastian was not quite ten years old, his father\n",
    "died. He lost his mother at an earlier period.(47) So, being left an\n",
    "orphan, he became dependent on his eldest brother, Johann Christoph,\n",
    "Organist at Ohrdruf,(48) from whom he received his earliest lessons on the\n",
    "Clavier.(49)\n",
    "```\n",
    "\n",
    "Wilhelm Friedemann は Johann Sebastien の１番年上の子供。\n",
    "```\n",
    "Bach and his eldest son, Wilhelm Friedemann.\n",
    "```\n",
    "\n",
    "Carl Philipp Emmanuel は Johann Sebastien の２番目に年上の子供。\n",
    "```\n",
    "His two eldest sons, Wilhelm Friedemann and Carl Philipp Emmanuel, were his most\n",
    "distinguished pupils, not because he gave them better instruction than the\n",
    "rest, but because from their earliest youth they were brought up amid good\n",
    "music at home. \n",
    "```\n",
    "\n",
    "Handelはバッハと同じ時代の有名なドイツ人音楽家でイギリスで成功。"
   ]
  },
  {
   "cell_type": "code",
   "execution_count": null,
   "id": "29ab76d1-4138-4442-a02c-288c4416e667",
   "metadata": {},
   "outputs": [],
   "source": [
    "betweenness_dict = nx.betweenness_centrality(G)\n",
    "betweenness_df = pd.DataFrame.from_dict(betweenness_dict, orient='index', columns=['centrality'])\n",
    "betweenness_df.sort_values('centrality', ascending=False)[:10].plot(kind='bar')"
   ]
  },
  {
   "cell_type": "code",
   "execution_count": null,
   "id": "57f167e3-fc35-4d93-809f-f8d6a3f81227",
   "metadata": {},
   "outputs": [],
   "source": [
    "closeness_dict = nx.closeness_centrality(G)\n",
    "closeness_df = pd.DataFrame.from_dict(closeness_dict, orient='index', columns=['centrality'])\n",
    "closeness_df.sort_values('centrality', ascending=False)[:10].plot(kind='bar')"
   ]
  },
  {
   "cell_type": "markdown",
   "id": "935d5df2-c570-4407-bf6c-8b373f61338c",
   "metadata": {},
   "source": [
    "## Community Detection"
   ]
  },
  {
   "cell_type": "code",
   "execution_count": null,
   "id": "b61fd066-dce1-4934-904a-e752aa4c2cb7",
   "metadata": {},
   "outputs": [],
   "source": [
    "#!pip3 install community\n",
    "from community import community_louvain\n",
    "\n",
    "communities = community_louvain.best_partition(G)"
   ]
  },
  {
   "cell_type": "code",
   "execution_count": null,
   "id": "b776b75a-382d-4b45-9204-7c59b438532a",
   "metadata": {},
   "outputs": [],
   "source": [
    "nx.set_node_attributes(G, communities, 'group')"
   ]
  },
  {
   "cell_type": "code",
   "execution_count": null,
   "id": "2095fd42-85ef-4e6f-be3d-bdf98104018b",
   "metadata": {},
   "outputs": [],
   "source": [
    "com_net = Network(notebook = True, width=\"1000px\", height=\"700px\", bgcolor='#222222', font_color='white')\n",
    "com_net.from_nx(G)\n",
    "com_net.show_buttons(filter_=['physics'])\n",
    "com_net.show(\"bach_communities.html\")"
   ]
  },
  {
   "cell_type": "markdown",
   "id": "6f6f58ff-81d5-4d3e-bb2f-22de5803c324",
   "metadata": {},
   "source": [
    "## Exporting graph data to vis.js"
   ]
  },
  {
   "cell_type": "code",
   "execution_count": null,
   "id": "f8e325cc-c2da-45cf-bbf2-9265d63640cb",
   "metadata": {},
   "outputs": [],
   "source": [
    "G.edges.data(\"value\", 1)"
   ]
  },
  {
   "cell_type": "code",
   "execution_count": null,
   "id": "de1c090b-b2a8-4b35-aec2-61d66f70d282",
   "metadata": {},
   "outputs": [],
   "source": [
    "G.nodes(data=True)"
   ]
  },
  {
   "cell_type": "code",
   "execution_count": null,
   "id": "db580f33-4ee3-4cfa-8b2e-3e696d23492a",
   "metadata": {},
   "outputs": [],
   "source": [
    "visjs_nodes = []\n",
    "all_char = {}\n",
    "for idx, node in enumerate(G.nodes(data=True)):\n",
    "    idx_ = idx + 1\n",
    "    visjs_nodes.append({'id': idx_, 'value': node[1]['size'], 'label': node[0]})\n",
    "    all_char[node[0]] = idx_\n",
    "visjs_nodes"
   ]
  },
  {
   "cell_type": "code",
   "execution_count": null,
   "id": "644419e6-f712-4305-9a80-2cbd68898fae",
   "metadata": {},
   "outputs": [],
   "source": [
    "visjs_edges = []\n",
    "for edge in G.edges.data('value', 1):\n",
    "    visjs_edges.append({'from': all_char[edge[0]], 'to': all_char[edge[1]], 'value': edge[2]})\n",
    "visjs_edges"
   ]
  },
  {
   "cell_type": "code",
   "execution_count": null,
   "id": "9ed6b02c-72b5-480d-b2eb-e4a326a5afc7",
   "metadata": {},
   "outputs": [],
   "source": [
    "nodes_js = re.sub(r\"\\'id\\'\", 'id', str(visjs_nodes))\n",
    "nodes_js = re.sub(r\"\\'value\\'\", 'value', nodes_js)\n",
    "nodes_js = re.sub(r\"\\'label\\'\", 'label', nodes_js)\n",
    "#nodes_js = re.sub(r\"\\'\", '\"', nodes_js)\n",
    "f'nodes = {nodes_js}'"
   ]
  },
  {
   "cell_type": "code",
   "execution_count": null,
   "id": "0805b564-583c-4926-b1b1-5dac098b6fb0",
   "metadata": {},
   "outputs": [],
   "source": [
    "edges_js = re.sub(\"\\'from\\'\", 'from', str(visjs_edges))\n",
    "edges_js = re.sub(\"\\'to\\'\", 'to', edges_js)\n",
    "edges_js = re.sub(\"\\'value\\'\", 'value', edges_js)\n",
    "#edges_js = re.sub(\"\\'\", '”', edges_js)\n",
    "f'edges = {edges_js}'"
   ]
  },
  {
   "cell_type": "code",
   "execution_count": null,
   "id": "0cef241f-1cf6-403f-ad05-7e4596049620",
   "metadata": {},
   "outputs": [],
   "source": [
    "all_char_js = dict((str(v), k) for k, v in all_char.items())\n",
    "str(all_char_js)"
   ]
  },
  {
   "cell_type": "code",
   "execution_count": null,
   "id": "82ed643d-762f-4540-808e-6b3d3cb2d411",
   "metadata": {},
   "outputs": [],
   "source": [
    "with open('../visjs/network.js', 'w', encoding='utf-8') as f:\n",
    "    f.write(f'var nodes = new vis.DataSet({nodes_js});\\n\\nvar edges = new vis.DataSet({edges_js});\\n\\nvar allChar = {all_char_js};')"
   ]
  },
  {
   "cell_type": "code",
   "execution_count": null,
   "id": "13133d41-5c44-431b-b9db-9d6e2b2935d5",
   "metadata": {},
   "outputs": [],
   "source": []
  }
 ],
 "metadata": {
  "kernelspec": {
   "display_name": "Python 3 (ipykernel)",
   "language": "python",
   "name": "python3"
  },
  "language_info": {
   "codemirror_mode": {
    "name": "ipython",
    "version": 3
   },
   "file_extension": ".py",
   "mimetype": "text/x-python",
   "name": "python",
   "nbconvert_exporter": "python",
   "pygments_lexer": "ipython3",
   "version": "3.11.4"
  }
 },
 "nbformat": 4,
 "nbformat_minor": 5
}
