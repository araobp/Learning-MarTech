{
 "cells": [
  {
   "cell_type": "markdown",
   "id": "e26a625c-449f-4d94-a33d-3c3ad5a541d7",
   "metadata": {},
   "source": [
    "# Pandas to SQLite\n",
    "\n",
    "Date: 2024/04/15"
   ]
  },
  {
   "cell_type": "code",
   "execution_count": 1,
   "id": "0a3ffb11-7149-4ff4-afa8-529483bb03ee",
   "metadata": {},
   "outputs": [],
   "source": [
    "import pandas as pd\n",
    "import sqlite3"
   ]
  },
  {
   "cell_type": "code",
   "execution_count": 2,
   "id": "4bc464e8-7439-4d2c-8c0a-b177818156f3",
   "metadata": {},
   "outputs": [
    {
     "data": {
      "text/html": [
       "<div>\n",
       "<style scoped>\n",
       "    .dataframe tbody tr th:only-of-type {\n",
       "        vertical-align: middle;\n",
       "    }\n",
       "\n",
       "    .dataframe tbody tr th {\n",
       "        vertical-align: top;\n",
       "    }\n",
       "\n",
       "    .dataframe thead th {\n",
       "        text-align: right;\n",
       "    }\n",
       "</style>\n",
       "<table border=\"1\" class=\"dataframe\">\n",
       "  <thead>\n",
       "    <tr style=\"text-align: right;\">\n",
       "      <th></th>\n",
       "      <th>c1</th>\n",
       "      <th>c2</th>\n",
       "      <th>c3</th>\n",
       "    </tr>\n",
       "  </thead>\n",
       "  <tbody>\n",
       "    <tr>\n",
       "      <th>0</th>\n",
       "      <td>1</td>\n",
       "      <td>2</td>\n",
       "      <td>3</td>\n",
       "    </tr>\n",
       "    <tr>\n",
       "      <th>1</th>\n",
       "      <td>1</td>\n",
       "      <td>2</td>\n",
       "      <td>3</td>\n",
       "    </tr>\n",
       "  </tbody>\n",
       "</table>\n",
       "</div>"
      ],
      "text/plain": [
       "  c1 c2  c3\n",
       "0  1  2   3\n",
       "1  1  2   3"
      ]
     },
     "execution_count": 2,
     "metadata": {},
     "output_type": "execute_result"
    }
   ],
   "source": [
    "df = pd.DataFrame({'c1': [1, '1'], 'c2': [2, '2'], 'c3': [3, '3']})\n",
    "df.c3 = df.c3.astype(int)\n",
    "df"
   ]
  },
  {
   "cell_type": "code",
   "execution_count": 3,
   "id": "e78714e4-31f0-429e-b161-c70ec65135d0",
   "metadata": {},
   "outputs": [
    {
     "name": "stdout",
     "output_type": "stream",
     "text": [
      "0 <class 'int'>\n",
      "0 <class 'int'>\n",
      "0 <class 'int'>\n",
      "1 <class 'str'>\n",
      "1 <class 'str'>\n",
      "1 <class 'int'>\n"
     ]
    }
   ],
   "source": [
    "for idx, row in df.iterrows():\n",
    "    for r in row:\n",
    "        print(idx, type(r))"
   ]
  },
  {
   "cell_type": "code",
   "execution_count": 4,
   "id": "e7a824fc-2b9a-44a1-ab3f-52129643f562",
   "metadata": {},
   "outputs": [],
   "source": [
    "df.to_csv('tmp/ps.csv')"
   ]
  },
  {
   "cell_type": "code",
   "execution_count": 5,
   "id": "d1e5d8ee-7a1b-4b31-8e1f-1e7b7f78ab56",
   "metadata": {},
   "outputs": [
    {
     "data": {
      "text/plain": [
       "2"
      ]
     },
     "execution_count": 5,
     "metadata": {},
     "output_type": "execute_result"
    }
   ],
   "source": [
    "conn = sqlite3.connect('tmp/ps.db')\n",
    "df.to_sql('ps', conn, if_exists='replace',index=None, dtype={'c1': 'INTEGER'})"
   ]
  },
  {
   "cell_type": "code",
   "execution_count": 6,
   "id": "66d82c9e-6409-4503-8658-583a2462f04a",
   "metadata": {},
   "outputs": [],
   "source": [
    "cur = conn.cursor()"
   ]
  },
  {
   "cell_type": "code",
   "execution_count": 7,
   "id": "4d6c9d5e-f574-4f6c-905c-cf70ff198647",
   "metadata": {},
   "outputs": [
    {
     "data": {
      "text/plain": [
       "[(1, '2', 3), (1, '2', 3)]"
      ]
     },
     "execution_count": 7,
     "metadata": {},
     "output_type": "execute_result"
    }
   ],
   "source": [
    "cur.execute('SELECT * from ps').fetchall()"
   ]
  },
  {
   "cell_type": "code",
   "execution_count": 8,
   "id": "0f16eaf6-9c65-4199-a288-f1b66200d5d6",
   "metadata": {},
   "outputs": [],
   "source": [
    "conn.close()"
   ]
  }
 ],
 "metadata": {
  "kernelspec": {
   "display_name": "Python 3 (ipykernel)",
   "language": "python",
   "name": "python3"
  },
  "language_info": {
   "codemirror_mode": {
    "name": "ipython",
    "version": 3
   },
   "file_extension": ".py",
   "mimetype": "text/x-python",
   "name": "python",
   "nbconvert_exporter": "python",
   "pygments_lexer": "ipython3",
   "version": "3.11.4"
  }
 },
 "nbformat": 4,
 "nbformat_minor": 5
}
