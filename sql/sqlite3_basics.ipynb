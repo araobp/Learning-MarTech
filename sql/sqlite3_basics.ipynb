{
 "cells": [
  {
   "cell_type": "markdown",
   "id": "4276652c-1184-474c-a5c6-b65544f09b90",
   "metadata": {},
   "source": [
    "# SQLite3 Basics\n",
    "\n",
    "Date: 2024/04/06"
   ]
  },
  {
   "cell_type": "markdown",
   "id": "258ec766-baf1-4f43-ace6-7d4e04368623",
   "metadata": {},
   "source": [
    "## SQLite操作練習"
   ]
  },
  {
   "cell_type": "code",
   "execution_count": 86,
   "id": "fe7c500a-7738-4e28-b2e0-5662d26b0955",
   "metadata": {},
   "outputs": [
    {
     "data": {
      "text/html": [
       "<div>\n",
       "<style scoped>\n",
       "    .dataframe tbody tr th:only-of-type {\n",
       "        vertical-align: middle;\n",
       "    }\n",
       "\n",
       "    .dataframe tbody tr th {\n",
       "        vertical-align: top;\n",
       "    }\n",
       "\n",
       "    .dataframe thead th {\n",
       "        text-align: right;\n",
       "    }\n",
       "</style>\n",
       "<table border=\"1\" class=\"dataframe\">\n",
       "  <thead>\n",
       "    <tr style=\"text-align: right;\">\n",
       "      <th></th>\n",
       "      <th>name</th>\n",
       "      <th>height</th>\n",
       "    </tr>\n",
       "  </thead>\n",
       "  <tbody>\n",
       "    <tr>\n",
       "      <th>0</th>\n",
       "      <td>John Lennon</td>\n",
       "      <td>179</td>\n",
       "    </tr>\n",
       "    <tr>\n",
       "      <th>1</th>\n",
       "      <td>Paul McCartney</td>\n",
       "      <td>180</td>\n",
       "    </tr>\n",
       "    <tr>\n",
       "      <th>2</th>\n",
       "      <td>Geroge Harrison</td>\n",
       "      <td>178</td>\n",
       "    </tr>\n",
       "    <tr>\n",
       "      <th>3</th>\n",
       "      <td>Ringo Starr</td>\n",
       "      <td>170</td>\n",
       "    </tr>\n",
       "  </tbody>\n",
       "</table>\n",
       "</div>"
      ],
      "text/plain": [
       "              name  height\n",
       "0      John Lennon     179\n",
       "1   Paul McCartney     180\n",
       "2  Geroge Harrison     178\n",
       "3      Ringo Starr     170"
      ]
     },
     "execution_count": 86,
     "metadata": {},
     "output_type": "execute_result"
    }
   ],
   "source": [
    "import pandas as pd\n",
    "\n",
    "MEMBERS = {'name': ['John Lennon', 'Paul McCartney', 'Geroge Harrison', 'Ringo Starr'],\n",
    "            'height': [179, 180, 178, 170]}\n",
    "df = pd.DataFrame(MEMBERS)\n",
    "\n",
    "df"
   ]
  },
  {
   "cell_type": "code",
   "execution_count": 87,
   "id": "0cec212f-61b1-47c7-9bd4-d1cff13c5c9a",
   "metadata": {},
   "outputs": [],
   "source": [
    "import sqlite3\n",
    "\n",
    "conn = sqlite3.connect('beatles.db')"
   ]
  },
  {
   "cell_type": "code",
   "execution_count": 88,
   "id": "1bea6cce-3b9b-4db0-a4b9-4b6744fce88c",
   "metadata": {},
   "outputs": [
    {
     "data": {
      "text/plain": [
       "<sqlite3.Cursor at 0x1377e1ec0>"
      ]
     },
     "execution_count": 88,
     "metadata": {},
     "output_type": "execute_result"
    }
   ],
   "source": [
    "cur = conn.cursor()\n",
    "\n",
    "cur.execute('DROP TABLE \"members\"')\n",
    "cur.execute('CREATE TABLE members(id INTEGER PRIMARY KEY AUTOINCREMENT, name STRING type UNIQUE, height NUMBER)')"
   ]
  },
  {
   "cell_type": "code",
   "execution_count": 89,
   "id": "5e1cc93a-7e3a-40a8-a9ae-cfd6317b84e1",
   "metadata": {},
   "outputs": [],
   "source": [
    "# def insert_beatles(nameonly=True):\n",
    "\n",
    "def insert_beatles(cursor, name_only=True):\n",
    "    for idx in range(len(df)):\n",
    "        row = df.iloc[idx]\n",
    "        name = row['name']\n",
    "        if name_only:\n",
    "            cursor.execute(f'INSERT INTO members(name) values(\"{name}\")')             \n",
    "        else:\n",
    "            height = row['height']\n",
    "            cursor.execute(f'INSERT INTO members(name, height) values(\"{name}\", {height})') \n",
    "\n",
    "insert_beatles(cur, name_only=True)"
   ]
  },
  {
   "cell_type": "code",
   "execution_count": 91,
   "id": "f35348ea-c847-49a1-a3ce-6294ab5de704",
   "metadata": {},
   "outputs": [
    {
     "name": "stdout",
     "output_type": "stream",
     "text": [
      "(1, 'John Lennon', None)\n",
      "(2, 'Paul McCartney', None)\n",
      "(3, 'Geroge Harrison', None)\n",
      "(4, 'Ringo Starr', None)\n"
     ]
    }
   ],
   "source": [
    "def dump(cursor):\n",
    "    for record in cur.execute('SELECT * FROM members'):\n",
    "        print(record)\n",
    "\n",
    "dump(cur)"
   ]
  },
  {
   "cell_type": "code",
   "execution_count": 93,
   "id": "50e26e5d-6cfb-4d74-94f5-72ec110d5f0a",
   "metadata": {},
   "outputs": [],
   "source": [
    "def insert_height(cursor):\n",
    "    for idx in range(len(df)):\n",
    "        row = df.iloc[idx]\n",
    "        name = row['name']\n",
    "        height = row['height']\n",
    "        cursor.execute(f'UPDATE members SET height={height} WHERE name=\"{name}\"')             \n",
    "\n",
    "insert_height(cur)"
   ]
  },
  {
   "cell_type": "code",
   "execution_count": 94,
   "id": "35334465-6b04-48ad-b742-571a49fca8cd",
   "metadata": {},
   "outputs": [
    {
     "name": "stdout",
     "output_type": "stream",
     "text": [
      "(1, 'John Lennon', 179)\n",
      "(2, 'Paul McCartney', 180)\n",
      "(3, 'Geroge Harrison', 178)\n",
      "(4, 'Ringo Starr', 170)\n"
     ]
    }
   ],
   "source": [
    "dump(cur)"
   ]
  },
  {
   "cell_type": "code",
   "execution_count": 95,
   "id": "3e12fcf9-2d74-4278-8057-1e70e7b91705",
   "metadata": {},
   "outputs": [],
   "source": [
    "conn.commit()\n",
    "conn.close()"
   ]
  }
 ],
 "metadata": {
  "kernelspec": {
   "display_name": "Python 3 (ipykernel)",
   "language": "python",
   "name": "python3"
  },
  "language_info": {
   "codemirror_mode": {
    "name": "ipython",
    "version": 3
   },
   "file_extension": ".py",
   "mimetype": "text/x-python",
   "name": "python",
   "nbconvert_exporter": "python",
   "pygments_lexer": "ipython3",
   "version": "3.11.4"
  }
 },
 "nbformat": 4,
 "nbformat_minor": 5
}
