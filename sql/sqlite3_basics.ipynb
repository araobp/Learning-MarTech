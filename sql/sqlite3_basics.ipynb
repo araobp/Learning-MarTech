{
 "cells": [
  {
   "cell_type": "markdown",
   "id": "4276652c-1184-474c-a5c6-b65544f09b90",
   "metadata": {},
   "source": [
    "# SQLite Basics\n",
    "\n",
    "Date: 2024/04/06, 2024/04/09, 2024/04/21\n",
    "\n",
    "Salesforce SEの経験あり、ER図やデータモデリングを思い出しながら、SQLite自習。\n",
    "Salesforceと異なり、生のSQL文法で全て記述していかなければならない。これが今回の自習ポイント。"
   ]
  },
  {
   "cell_type": "markdown",
   "id": "412160fc-1b30-41d1-aefc-c434a8fc24d8",
   "metadata": {},
   "source": [
    "```\n",
    "ER diagram\n",
    "\n",
    "  members                 properties\n",
    "+-----------+           +---------------+             instruments\n",
    "| member_id |           | property_id   |           +---------------+\n",
    "|-----------|    FK     +---------------+           | instrument_id |\n",
    "| name      | ---------O| member_id     |    FK     +---------------+\n",
    "| height    |           | instrument_id |O--------- | maker         |\n",
    "+-----------+           +---------------+           | model         |\n",
    "                                                    +---------------+\n",
    "```\n"
   ]
  },
  {
   "cell_type": "code",
   "execution_count": 1,
   "id": "9255a761-3066-420d-805d-d240089f5ba5",
   "metadata": {},
   "outputs": [],
   "source": [
    "import pandas as pd\n",
    "import hashlib"
   ]
  },
  {
   "cell_type": "markdown",
   "id": "793a014e-7021-4d88-82a2-89ce5f2cbaa0",
   "metadata": {},
   "source": [
    "## SQLite操作練習: テーブル登録"
   ]
  },
  {
   "cell_type": "code",
   "execution_count": 2,
   "id": "0cec212f-61b1-47c7-9bd4-d1cff13c5c9a",
   "metadata": {},
   "outputs": [
    {
     "data": {
      "text/plain": [
       "<sqlite3.Cursor at 0x1307779c0>"
      ]
     },
     "execution_count": 2,
     "metadata": {},
     "output_type": "execute_result"
    }
   ],
   "source": [
    "import sqlite3\n",
    "\n",
    "conn = sqlite3.connect('beatles.db')\n",
    "conn.execute('PRAGMA foreign_keys=ON')\n",
    "conn.execute('PRAGMA foreign_key_check')\n",
    "\n",
    "cur = conn.cursor()\n",
    "\n",
    "cur.execute('DROP TABLE IF EXISTS properties')\n",
    "cur.execute('DROP TABLE IF EXISTS members')\n",
    "cur.execute('DROP TABLE IF EXISTS instruments')\n",
    "\n",
    "cur.execute('CREATE TABLE members(member_id TEXT PRIMARY KEY, name TEXT, height NUMBER)')\n",
    "cur.execute('CREATE TABLE instruments(instrument_id TEXT PRIMARY KEY, maker TEXT, model TEXT)')\n",
    "cur.execute('CREATE TABLE properties(property_id INTEGER PRIMARY KEY AUTOINCREMENT, member_id TEXT,\\\n",
    "instrument_id TEXT, FOREIGN KEY (member_id) REFERENCES members(member_id),\\\n",
    "FOREIGN KEY (instrument_id) REFERENCES instruments(instrument_id),\\\n",
    "UNIQUE(member_id, instrument_id))')"
   ]
  },
  {
   "cell_type": "markdown",
   "id": "5268e8cc-ed3f-4ea9-8dd5-3ac0e5b9655f",
   "metadata": {},
   "source": [
    "## SQLite操作練習: メンバー登録"
   ]
  },
  {
   "cell_type": "code",
   "execution_count": 3,
   "id": "9c0b6858-3ca8-4790-b21b-51041deee970",
   "metadata": {},
   "outputs": [
    {
     "data": {
      "text/html": [
       "<div>\n",
       "<style scoped>\n",
       "    .dataframe tbody tr th:only-of-type {\n",
       "        vertical-align: middle;\n",
       "    }\n",
       "\n",
       "    .dataframe tbody tr th {\n",
       "        vertical-align: top;\n",
       "    }\n",
       "\n",
       "    .dataframe thead th {\n",
       "        text-align: right;\n",
       "    }\n",
       "</style>\n",
       "<table border=\"1\" class=\"dataframe\">\n",
       "  <thead>\n",
       "    <tr style=\"text-align: right;\">\n",
       "      <th></th>\n",
       "      <th>name</th>\n",
       "      <th>height</th>\n",
       "      <th>member_id</th>\n",
       "    </tr>\n",
       "  </thead>\n",
       "  <tbody>\n",
       "    <tr>\n",
       "      <th>0</th>\n",
       "      <td>John Lennon</td>\n",
       "      <td>179</td>\n",
       "      <td>fcb9684bfddfe32e9aa62794256fc78d</td>\n",
       "    </tr>\n",
       "    <tr>\n",
       "      <th>1</th>\n",
       "      <td>Paul McCartney</td>\n",
       "      <td>180</td>\n",
       "      <td>d8a5441817b1822522ccbd12236dce81</td>\n",
       "    </tr>\n",
       "    <tr>\n",
       "      <th>2</th>\n",
       "      <td>George Harrison</td>\n",
       "      <td>178</td>\n",
       "      <td>7811ee1bd89bba41d4cc35a71f8cc65c</td>\n",
       "    </tr>\n",
       "    <tr>\n",
       "      <th>3</th>\n",
       "      <td>Ringo Starr</td>\n",
       "      <td>170</td>\n",
       "      <td>602877856e00afc1dcfd1b9fe1701225</td>\n",
       "    </tr>\n",
       "  </tbody>\n",
       "</table>\n",
       "</div>"
      ],
      "text/plain": [
       "              name  height                         member_id\n",
       "0      John Lennon     179  fcb9684bfddfe32e9aa62794256fc78d\n",
       "1   Paul McCartney     180  d8a5441817b1822522ccbd12236dce81\n",
       "2  George Harrison     178  7811ee1bd89bba41d4cc35a71f8cc65c\n",
       "3      Ringo Starr     170  602877856e00afc1dcfd1b9fe1701225"
      ]
     },
     "execution_count": 3,
     "metadata": {},
     "output_type": "execute_result"
    }
   ],
   "source": [
    "members = [['John Lennon', 179], ['Paul McCartney', 180], ['George Harrison', 178], ['Ringo Starr', 170]]\n",
    " \n",
    "MEMBERS = {'name': [row[0] for row in members],\n",
    "            'height': [row[1] for row in members]}\n",
    "\n",
    "df_members = pd.DataFrame(MEMBERS)\n",
    "df_members['member_id'] = df_members['name'].apply(lambda x: hashlib.md5(x.encode('ascii')).hexdigest())\n",
    "\n",
    "df_members"
   ]
  },
  {
   "cell_type": "code",
   "execution_count": 4,
   "id": "5e1cc93a-7e3a-40a8-a9ae-cfd6317b84e1",
   "metadata": {},
   "outputs": [],
   "source": [
    "def create_members(cursor, name_only=False):\n",
    "    for idx in range(len(df_members)):\n",
    "        row = df_members.iloc[idx]\n",
    "        member_id = row['member_id']\n",
    "        name = row['name']\n",
    "        if name_only:\n",
    "            cursor.execute(f'INSERT INTO members(member_id, name) values(\"{member_id}\", \"{name}\")')             \n",
    "        else:\n",
    "            height = row['height']\n",
    "            cursor.execute(f'INSERT INTO members(member_id, name, height) values(\"{member_id}\", \"{name}\", {height})') \n",
    "\n",
    "create_members(cur, name_only=True)"
   ]
  },
  {
   "cell_type": "code",
   "execution_count": 5,
   "id": "f35348ea-c847-49a1-a3ce-6294ab5de704",
   "metadata": {},
   "outputs": [
    {
     "name": "stdout",
     "output_type": "stream",
     "text": [
      "('fcb9684bfddfe32e9aa62794256fc78d', 'John Lennon', None)\n",
      "('d8a5441817b1822522ccbd12236dce81', 'Paul McCartney', None)\n",
      "('7811ee1bd89bba41d4cc35a71f8cc65c', 'George Harrison', None)\n",
      "('602877856e00afc1dcfd1b9fe1701225', 'Ringo Starr', None)\n"
     ]
    }
   ],
   "source": [
    "def read_members(cursor):\n",
    "    for record in cur.execute('SELECT * FROM members'):\n",
    "        print(record)\n",
    "\n",
    "read_members(cur)"
   ]
  },
  {
   "cell_type": "code",
   "execution_count": 6,
   "id": "50e26e5d-6cfb-4d74-94f5-72ec110d5f0a",
   "metadata": {},
   "outputs": [],
   "source": [
    "def update_members(cursor):\n",
    "    for idx in range(len(df_members)):\n",
    "        row = df_members.iloc[idx]\n",
    "        member_id = row['member_id']\n",
    "        height = row['height']\n",
    "        cursor.execute(f'UPDATE members SET height={height} WHERE member_id=\"{member_id}\"')             \n",
    "\n",
    "update_members(cur)"
   ]
  },
  {
   "cell_type": "code",
   "execution_count": 7,
   "id": "35334465-6b04-48ad-b742-571a49fca8cd",
   "metadata": {},
   "outputs": [
    {
     "name": "stdout",
     "output_type": "stream",
     "text": [
      "('fcb9684bfddfe32e9aa62794256fc78d', 'John Lennon', 179)\n",
      "('d8a5441817b1822522ccbd12236dce81', 'Paul McCartney', 180)\n",
      "('7811ee1bd89bba41d4cc35a71f8cc65c', 'George Harrison', 178)\n",
      "('602877856e00afc1dcfd1b9fe1701225', 'Ringo Starr', 170)\n"
     ]
    }
   ],
   "source": [
    "read_members(cur)"
   ]
  },
  {
   "cell_type": "code",
   "execution_count": 8,
   "id": "168cf127-ef34-4067-be25-ffb3cf452f69",
   "metadata": {},
   "outputs": [],
   "source": [
    "conn.commit()"
   ]
  },
  {
   "cell_type": "code",
   "execution_count": 9,
   "id": "e4e9d0b6-f760-42c8-ac9e-5f805421bbc2",
   "metadata": {},
   "outputs": [
    {
     "name": "stdout",
     "output_type": "stream",
     "text": [
      "('d8a5441817b1822522ccbd12236dce81', 'Paul McCartney', 180)\n",
      "('7811ee1bd89bba41d4cc35a71f8cc65c', 'George Harrison', 178)\n",
      "('602877856e00afc1dcfd1b9fe1701225', 'Ringo Starr', 170)\n",
      "---\n",
      "('7811ee1bd89bba41d4cc35a71f8cc65c', 'George Harrison', 178)\n",
      "('602877856e00afc1dcfd1b9fe1701225', 'Ringo Starr', 170)\n",
      "---\n",
      "('602877856e00afc1dcfd1b9fe1701225', 'Ringo Starr', 170)\n",
      "---\n",
      "---\n"
     ]
    }
   ],
   "source": [
    "def delete_members(cursor):\n",
    "    for idx in range(len(df_members)):\n",
    "        row = df_members.iloc[idx]\n",
    "        name = row['name']\n",
    "        cursor.execute(f'DELETE from members WHERE name=\"{name}\"')\n",
    "        read_members(cur)\n",
    "        print('---')\n",
    "\n",
    "delete_members(cur)"
   ]
  },
  {
   "cell_type": "code",
   "execution_count": 10,
   "id": "3e12fcf9-2d74-4278-8057-1e70e7b91705",
   "metadata": {},
   "outputs": [],
   "source": [
    "conn.commit()"
   ]
  },
  {
   "cell_type": "code",
   "execution_count": 11,
   "id": "0f0f6236-2045-4612-8a95-18e1e7fa45cf",
   "metadata": {},
   "outputs": [],
   "source": [
    "read_members(cur)"
   ]
  },
  {
   "cell_type": "markdown",
   "id": "0ba4e7ec-fd8a-4f4f-a981-2bb788b694e8",
   "metadata": {},
   "source": [
    "## SQLite操作練習: 楽器登録\n",
    "\n",
    "全部登録するときりがないので適当に。"
   ]
  },
  {
   "cell_type": "code",
   "execution_count": 12,
   "id": "301d67cf-37c1-465c-9ee9-929047d64e00",
   "metadata": {},
   "outputs": [
    {
     "data": {
      "text/html": [
       "<div>\n",
       "<style scoped>\n",
       "    .dataframe tbody tr th:only-of-type {\n",
       "        vertical-align: middle;\n",
       "    }\n",
       "\n",
       "    .dataframe tbody tr th {\n",
       "        vertical-align: top;\n",
       "    }\n",
       "\n",
       "    .dataframe thead th {\n",
       "        text-align: right;\n",
       "    }\n",
       "</style>\n",
       "<table border=\"1\" class=\"dataframe\">\n",
       "  <thead>\n",
       "    <tr style=\"text-align: right;\">\n",
       "      <th></th>\n",
       "      <th>maker</th>\n",
       "      <th>model</th>\n",
       "      <th>instrument_id</th>\n",
       "    </tr>\n",
       "  </thead>\n",
       "  <tbody>\n",
       "    <tr>\n",
       "      <th>0</th>\n",
       "      <td>Gibson</td>\n",
       "      <td>J-160E</td>\n",
       "      <td>f327bb219e7a9863ff0be90fb29a7891</td>\n",
       "    </tr>\n",
       "    <tr>\n",
       "      <th>1</th>\n",
       "      <td>Martin</td>\n",
       "      <td>D-28</td>\n",
       "      <td>f8ccb4ce4605cec8cc383d286bd8b7ef</td>\n",
       "    </tr>\n",
       "    <tr>\n",
       "      <th>2</th>\n",
       "      <td>Gibson</td>\n",
       "      <td>J-200</td>\n",
       "      <td>a351dfcc8c58c660d0652cd5ca81df8d</td>\n",
       "    </tr>\n",
       "    <tr>\n",
       "      <th>3</th>\n",
       "      <td>Rickenbacker</td>\n",
       "      <td>325</td>\n",
       "      <td>9dfe456824511fec363696e174ce42be</td>\n",
       "    </tr>\n",
       "    <tr>\n",
       "      <th>4</th>\n",
       "      <td>Höfner</td>\n",
       "      <td>Club 40</td>\n",
       "      <td>485d3791969e4d2fe5dc7bcd70287a9a</td>\n",
       "    </tr>\n",
       "    <tr>\n",
       "      <th>5</th>\n",
       "      <td>Fender</td>\n",
       "      <td>Stratocaster</td>\n",
       "      <td>9e56e6a849989f39562ce718a4472bb8</td>\n",
       "    </tr>\n",
       "    <tr>\n",
       "      <th>6</th>\n",
       "      <td>Höfner</td>\n",
       "      <td>model 500/1</td>\n",
       "      <td>63e6ec26f4811e5f8fc25bffb238ad03</td>\n",
       "    </tr>\n",
       "    <tr>\n",
       "      <th>7</th>\n",
       "      <td>Epiphone</td>\n",
       "      <td>Casino</td>\n",
       "      <td>8567844e7c65db4f3bf83063f8fb473a</td>\n",
       "    </tr>\n",
       "    <tr>\n",
       "      <th>8</th>\n",
       "      <td>Ludwig</td>\n",
       "      <td></td>\n",
       "      <td>d3b8642bd00168efb8526ebcb130f00b</td>\n",
       "    </tr>\n",
       "  </tbody>\n",
       "</table>\n",
       "</div>"
      ],
      "text/plain": [
       "          maker         model                     instrument_id\n",
       "0        Gibson        J-160E  f327bb219e7a9863ff0be90fb29a7891\n",
       "1        Martin          D-28  f8ccb4ce4605cec8cc383d286bd8b7ef\n",
       "2        Gibson         J-200  a351dfcc8c58c660d0652cd5ca81df8d\n",
       "3  Rickenbacker           325  9dfe456824511fec363696e174ce42be\n",
       "4        Höfner       Club 40  485d3791969e4d2fe5dc7bcd70287a9a\n",
       "5        Fender  Stratocaster  9e56e6a849989f39562ce718a4472bb8\n",
       "6        Höfner   model 500/1  63e6ec26f4811e5f8fc25bffb238ad03\n",
       "7      Epiphone        Casino  8567844e7c65db4f3bf83063f8fb473a\n",
       "8        Ludwig                d3b8642bd00168efb8526ebcb130f00b"
      ]
     },
     "execution_count": 12,
     "metadata": {},
     "output_type": "execute_result"
    }
   ],
   "source": [
    "instruments = [['Gibson', 'J-160E'], ['Martin', 'D-28'], ['Gibson', 'J-200'], ['Rickenbacker', '325'], ['Höfner', 'Club 40'],\n",
    "              ['Fender', 'Stratocaster'], ['Höfner', 'model 500/1'], ['Epiphone' ,'Casino'], ['Ludwig', '']]\n",
    "\n",
    "INSTRUMENTS = {'maker': [row[0] for row in instruments], \n",
    "            'model': [row[1] for row in instruments]}\n",
    "df_instruments = pd.DataFrame(INSTRUMENTS)\n",
    "df_instruments['instrument_id'] = (df_instruments['maker'] + df_instruments['model']).apply(lambda x: hashlib.md5(x.encode('utf-8')).hexdigest())\n",
    "\n",
    "df_instruments"
   ]
  },
  {
   "cell_type": "code",
   "execution_count": 13,
   "id": "99e55df1-2452-4061-8bf4-c67e7436ac2f",
   "metadata": {},
   "outputs": [],
   "source": [
    "def create_instruments(cursor):\n",
    "    for idx in range(len(df_instruments)):\n",
    "        row = df_instruments.iloc[idx]\n",
    "        instrument_id = row['instrument_id']\n",
    "        maker = row['maker']\n",
    "        model = row['model']\n",
    "        cursor.execute(f'INSERT INTO instruments(instrument_id, maker, model) values(\"{instrument_id}\", \"{maker}\", \"{model}\")') \n",
    "\n",
    "create_instruments(cur)"
   ]
  },
  {
   "cell_type": "code",
   "execution_count": 14,
   "id": "fd77f3b6-0945-4494-85e1-c2a45c4df093",
   "metadata": {},
   "outputs": [],
   "source": [
    "conn.commit()"
   ]
  },
  {
   "cell_type": "code",
   "execution_count": 15,
   "id": "df8d65f1-5869-45af-94ed-cd565ad7fbd6",
   "metadata": {},
   "outputs": [
    {
     "name": "stdout",
     "output_type": "stream",
     "text": [
      "('f327bb219e7a9863ff0be90fb29a7891', 'Gibson', 'J-160E')\n",
      "('f8ccb4ce4605cec8cc383d286bd8b7ef', 'Martin', 'D-28')\n",
      "('a351dfcc8c58c660d0652cd5ca81df8d', 'Gibson', 'J-200')\n",
      "('9dfe456824511fec363696e174ce42be', 'Rickenbacker', '325')\n",
      "('485d3791969e4d2fe5dc7bcd70287a9a', 'Höfner', 'Club 40')\n",
      "('9e56e6a849989f39562ce718a4472bb8', 'Fender', 'Stratocaster')\n",
      "('63e6ec26f4811e5f8fc25bffb238ad03', 'Höfner', 'model 500/1')\n",
      "('8567844e7c65db4f3bf83063f8fb473a', 'Epiphone', 'Casino')\n",
      "('d3b8642bd00168efb8526ebcb130f00b', 'Ludwig', '')\n"
     ]
    }
   ],
   "source": [
    "def read_instruments(cursor):\n",
    "    for record in cur.execute('SELECT * FROM instruments'):\n",
    "        print(record)\n",
    "\n",
    "read_instruments(cur)"
   ]
  },
  {
   "cell_type": "markdown",
   "id": "93d7e299-a592-42fb-bcbb-d4e78a7d5963",
   "metadata": {},
   "source": [
    "## SQLite操作練習: メンバーと楽器の間のリレーションを生成"
   ]
  },
  {
   "cell_type": "code",
   "execution_count": 16,
   "id": "fffa06df-7893-4c06-8ea5-11e7445d1c62",
   "metadata": {},
   "outputs": [],
   "source": [
    "read_members(cur)"
   ]
  },
  {
   "cell_type": "code",
   "execution_count": 17,
   "id": "58b9738c-7f39-4d0c-b692-997af3a9d471",
   "metadata": {},
   "outputs": [],
   "source": [
    "create_members(cur)"
   ]
  },
  {
   "cell_type": "code",
   "execution_count": 18,
   "id": "51cbe7a0-91e2-4449-bf07-6e4b3555ad1e",
   "metadata": {},
   "outputs": [
    {
     "name": "stdout",
     "output_type": "stream",
     "text": [
      "('fcb9684bfddfe32e9aa62794256fc78d', 'John Lennon', 179)\n",
      "('d8a5441817b1822522ccbd12236dce81', 'Paul McCartney', 180)\n",
      "('7811ee1bd89bba41d4cc35a71f8cc65c', 'George Harrison', 178)\n",
      "('602877856e00afc1dcfd1b9fe1701225', 'Ringo Starr', 170)\n"
     ]
    }
   ],
   "source": [
    "read_members(cur)"
   ]
  },
  {
   "cell_type": "code",
   "execution_count": 19,
   "id": "2fa11170-4895-428e-be18-d4c811cadf2c",
   "metadata": {},
   "outputs": [
    {
     "name": "stdout",
     "output_type": "stream",
     "text": [
      "('f327bb219e7a9863ff0be90fb29a7891', 'Gibson', 'J-160E')\n",
      "('f8ccb4ce4605cec8cc383d286bd8b7ef', 'Martin', 'D-28')\n",
      "('a351dfcc8c58c660d0652cd5ca81df8d', 'Gibson', 'J-200')\n",
      "('9dfe456824511fec363696e174ce42be', 'Rickenbacker', '325')\n",
      "('485d3791969e4d2fe5dc7bcd70287a9a', 'Höfner', 'Club 40')\n",
      "('9e56e6a849989f39562ce718a4472bb8', 'Fender', 'Stratocaster')\n",
      "('63e6ec26f4811e5f8fc25bffb238ad03', 'Höfner', 'model 500/1')\n",
      "('8567844e7c65db4f3bf83063f8fb473a', 'Epiphone', 'Casino')\n",
      "('d3b8642bd00168efb8526ebcb130f00b', 'Ludwig', '')\n"
     ]
    }
   ],
   "source": [
    "read_instruments(cur)"
   ]
  },
  {
   "cell_type": "code",
   "execution_count": 20,
   "id": "460367c3-d614-4d56-973b-040c13926dd3",
   "metadata": {},
   "outputs": [
    {
     "name": "stdout",
     "output_type": "stream",
     "text": [
      "--- John Lennon ---\n",
      "John Lennon Gibson J-160E fcb9684bfddfe32e9aa62794256fc78d f327bb219e7a9863ff0be90fb29a7891\n",
      "John Lennon Martin D-28 fcb9684bfddfe32e9aa62794256fc78d f8ccb4ce4605cec8cc383d286bd8b7ef\n",
      "John Lennon Rickenbacker 325 fcb9684bfddfe32e9aa62794256fc78d 9dfe456824511fec363696e174ce42be\n",
      "John Lennon Höfner Club 40 fcb9684bfddfe32e9aa62794256fc78d 485d3791969e4d2fe5dc7bcd70287a9a\n",
      "John Lennon Fender Stratocaster fcb9684bfddfe32e9aa62794256fc78d 9e56e6a849989f39562ce718a4472bb8\n",
      "--- George Harrison ---\n",
      "George Harrison Gibson J-160E 7811ee1bd89bba41d4cc35a71f8cc65c f327bb219e7a9863ff0be90fb29a7891\n",
      "George Harrison Gibson J-200 7811ee1bd89bba41d4cc35a71f8cc65c a351dfcc8c58c660d0652cd5ca81df8d\n",
      "George Harrison Fender Stratocaster 7811ee1bd89bba41d4cc35a71f8cc65c 9e56e6a849989f39562ce718a4472bb8\n",
      "--- Paul McCartney ---\n",
      "Paul McCartney Epiphone Casino d8a5441817b1822522ccbd12236dce81 8567844e7c65db4f3bf83063f8fb473a\n",
      "Paul McCartney Höfner model 500/1 d8a5441817b1822522ccbd12236dce81 63e6ec26f4811e5f8fc25bffb238ad03\n",
      "--- Ringo Starr ---\n",
      "Ringo Starr Ludwig  602877856e00afc1dcfd1b9fe1701225 d3b8642bd00168efb8526ebcb130f00b\n"
     ]
    }
   ],
   "source": [
    "# Reference: https://en.wikipedia.org/wiki/List_of_the_Beatles%27_instruments\n",
    "instruments = {'John Lennon': [['Gibson', 'J-160E'], ['Martin', 'D-28'], ['Rickenbacker', '325'], ['Höfner', 'Club 40'], ['Fender', 'Stratocaster']],\n",
    "               'George Harrison': [['Gibson', 'J-160E'], ['Gibson', 'J-200'], ['Fender', 'Stratocaster']],\n",
    "               'Paul McCartney': [['Epiphone' ,'Casino'], ['Höfner', 'model 500/1']],\n",
    "               'Ringo Starr': [['Ludwig', '']]}\n",
    "\n",
    "def create_properties(cursor):\n",
    "    for name, items in instruments.items():\n",
    "        print(f'--- {name} ---')\n",
    "        member_id = cursor.execute(f'SELECT member_id FROM members WHERE name=\"{name}\"').fetchone()[0]\n",
    "        for item in items:\n",
    "            maker = item[0]\n",
    "            model = item[1]\n",
    "            instrument_id = cursor.execute(f'SELECT instrument_id FROM instruments WHERE maker=\"{maker}\" AND model=\"{model}\"').fetchone()[0]\n",
    "            print(f'{name} {maker} {model} {member_id} {instrument_id}')\n",
    "            cursor.execute(f'INSERT OR IGNORE INTO properties(member_id, instrument_id) values(\"{member_id}\", \"{instrument_id}\")')\n",
    "\n",
    "create_properties(cur)"
   ]
  },
  {
   "cell_type": "code",
   "execution_count": 21,
   "id": "f9888879-979f-4e26-bd72-e7893571829c",
   "metadata": {},
   "outputs": [
    {
     "name": "stdout",
     "output_type": "stream",
     "text": [
      "FOREIGN KEY constraint failed\n"
     ]
    }
   ],
   "source": [
    "def test_fk_constraints(cursor):\n",
    "    member_id = \"000011112222\"\n",
    "    instrument_id = \"333344445555\"\n",
    "    try:\n",
    "        cursor.execute(f'INSERT INTO properties(member_id, instrument_id) values(\"{member_id}\", \"{instrument_id}\")')\n",
    "    except Exception as err:\n",
    "        print(err)\n",
    "\n",
    "test_fk_constraints(cur)"
   ]
  },
  {
   "cell_type": "code",
   "execution_count": 22,
   "id": "8fbdc5ca-c209-48bd-be0d-10c06ef48a62",
   "metadata": {},
   "outputs": [],
   "source": [
    "conn.commit()\n",
    "conn.close()"
   ]
  },
  {
   "cell_type": "markdown",
   "id": "7cc7d96c-c645-47f2-a441-f5284063ce9a",
   "metadata": {},
   "source": [
    "## SQLite操作練習: リレーション確認"
   ]
  },
  {
   "cell_type": "code",
   "execution_count": 23,
   "id": "56406310-f7a8-4a28-b592-033de3695372",
   "metadata": {},
   "outputs": [],
   "source": [
    "conn = sqlite3.connect('beatles.db')\n",
    "cur = conn.cursor()"
   ]
  },
  {
   "cell_type": "code",
   "execution_count": 24,
   "id": "985e68e5-c843-459f-97e2-23b77905551b",
   "metadata": {},
   "outputs": [],
   "source": [
    "def dump_properties(member_name):\n",
    "    member_id = cur.execute(f'SELECT member_id FROM members WHERE name=\"{member_name}\"').fetchone()[0]\n",
    "    properties = cur.execute(f'SELECT instrument_id FROM properties WHERE member_id=\"{member_id}\"').fetchall()\n",
    "    \n",
    "    for record in properties:\n",
    "        instrument_id = record[0]\n",
    "        instrument = cur.execute(f'SELECT maker, model from instruments where instrument_id=\"{instrument_id}\"')\n",
    "        for field in instrument:\n",
    "            print(field)"
   ]
  },
  {
   "cell_type": "code",
   "execution_count": 25,
   "id": "c262e398-fb6d-46ec-8ef9-07c92f0ab5bb",
   "metadata": {},
   "outputs": [
    {
     "name": "stdout",
     "output_type": "stream",
     "text": [
      "('Höfner', 'Club 40')\n",
      "('Rickenbacker', '325')\n",
      "('Fender', 'Stratocaster')\n",
      "('Gibson', 'J-160E')\n",
      "('Martin', 'D-28')\n"
     ]
    }
   ],
   "source": [
    "dump_properties('John Lennon')"
   ]
  },
  {
   "cell_type": "code",
   "execution_count": 26,
   "id": "fc645f98-adab-491e-91eb-1671276fbb52",
   "metadata": {},
   "outputs": [
    {
     "name": "stdout",
     "output_type": "stream",
     "text": [
      "('Höfner', 'model 500/1')\n",
      "('Epiphone', 'Casino')\n"
     ]
    }
   ],
   "source": [
    "dump_properties('Paul McCartney')"
   ]
  },
  {
   "cell_type": "code",
   "execution_count": 27,
   "id": "5e35eaaf-31dd-49ef-a988-a60d0ce57fca",
   "metadata": {},
   "outputs": [
    {
     "name": "stdout",
     "output_type": "stream",
     "text": [
      "('Fender', 'Stratocaster')\n",
      "('Gibson', 'J-200')\n",
      "('Gibson', 'J-160E')\n"
     ]
    }
   ],
   "source": [
    "dump_properties('George Harrison')"
   ]
  },
  {
   "cell_type": "code",
   "execution_count": 28,
   "id": "6d904fea-b1c8-44af-8a0a-f1ce2ca30ade",
   "metadata": {},
   "outputs": [
    {
     "name": "stdout",
     "output_type": "stream",
     "text": [
      "('Ludwig', '')\n"
     ]
    }
   ],
   "source": [
    "dump_properties('Ringo Starr')"
   ]
  },
  {
   "cell_type": "code",
   "execution_count": 29,
   "id": "2db78aa9-aa72-4b20-affd-e67fb2084140",
   "metadata": {},
   "outputs": [],
   "source": [
    "conn.close()"
   ]
  }
 ],
 "metadata": {
  "kernelspec": {
   "display_name": "Python 3 (ipykernel)",
   "language": "python",
   "name": "python3"
  },
  "language_info": {
   "codemirror_mode": {
    "name": "ipython",
    "version": 3
   },
   "file_extension": ".py",
   "mimetype": "text/x-python",
   "name": "python",
   "nbconvert_exporter": "python",
   "pygments_lexer": "ipython3",
   "version": "3.11.4"
  }
 },
 "nbformat": 4,
 "nbformat_minor": 5
}
