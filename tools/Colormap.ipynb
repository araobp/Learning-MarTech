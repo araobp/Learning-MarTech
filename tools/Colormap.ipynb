{
 "cells": [
  {
   "cell_type": "markdown",
   "id": "3927fb42-46d1-4b79-a578-2b1791fb2e63",
   "metadata": {},
   "source": [
    "# Colormap\n",
    "\n",
    "Date: 2023/12/27"
   ]
  },
  {
   "cell_type": "code",
   "execution_count": 3,
   "id": "73a5cfba-25cb-406c-9b7b-0b04452cbf51",
   "metadata": {},
   "outputs": [],
   "source": [
    "import matplotlib.pyplot as plt\n",
    "%matplotlib inline"
   ]
  },
  {
   "cell_type": "code",
   "execution_count": 4,
   "id": "6a79700c-9211-4eb3-8f66-1f894995e637",
   "metadata": {},
   "outputs": [
    {
     "data": {
      "image/png": "[encoded data removed]",
      "text/html": [
       "<div style=\"vertical-align: middle;\"><strong>rainbow</strong> </div><div class=\"cmap\"><img alt=\"rainbow colormap\" title=\"rainbow\" style=\"border: 1px solid #555;\" src=\"data:image/png;base64,iVBORw0KGgoAAAANSUhEUgAAAgAAAABACAYAAABsv8+/AAAAFnRFWHRUaXRsZQByYWluYm93IGNvbG9ybWFw7W9oCwAAABx0RVh0RGVzY3JpcHRpb24AcmFpbmJvdyBjb2xvcm1hcEpB2XIAAAAwdEVYdEF1dGhvcgBNYXRwbG90bGliIHYzLjcuMiwgaHR0cHM6Ly9tYXRwbG90bGliLm9yZx9CTh4AAAAydEVYdFNvZnR3YXJlAE1hdHBsb3RsaWIgdjMuNy4yLCBodHRwczovL21hdHBsb3RsaWIub3JnMeTROQAAAeVJREFUeJzt1rtuwzAQRUFKyX/nxyMqhRUXKxCUZbi6Mw2xfMipgrP8tH1vrbX+tbfH2l5bv1+8/1zL702/M/v7bp6vs/ejd3W/zKPvjt497w/uDef6vsyjd8f5fszr8W499tf//fVD+0vdP9Zl8G6ZvB/N9XvL7H55d9q/uLYXz+/Os/3T2i/em7zfB+d1f++T88F36zo732+e9zf3e/l+H9yf7pe5D+6d5qv3yrw95uWY23N97LetzP/n24fm+nvbxftXz0/z3XcXvzu793vz3ek77/3dx79TACCJAACAQAIAAAIJAAAIJAAAIJAAAIBAAgAAAgkAAAgkAAAgkAAAgEACAAACCQAACCQAACCQAACAQAIAAAIJAAAIJAAAIJAAAIBAAgAAAgkAAAgkAAAgkAAAgEACAAACCQAACCQAACCQAACAQAIAAAIJAAAIJAAAIJAAAIBAAgAAAgkAAAgkAAAgkAAAgEACAAACCQAACCQAACCQAACAQAIAAAIJAAAIJAAAIJAAAIBAAgAAAgkAAAgkAAAgkAAAgEACAAACCQAACCQAACCQAACAQAIAAAIJAAAIJAAAIJAAAIBAAgAAAgkAAAgkAAAgkAAAgEACAAACCQAACCQAACCQAACAQAIAAAL9AfhLfo1FOYOvAAAAAElFTkSuQmCC\"></div><div style=\"vertical-align: middle; max-width: 514px; display: flex; justify-content: space-between;\"><div style=\"float: left;\"><div title=\"#8000ffff\" style=\"display: inline-block; width: 1em; height: 1em; margin: 0; vertical-align: middle; border: 1px solid #555; background-color: #8000ffff;\"></div> under</div><div style=\"margin: 0 auto; display: inline-block;\">bad <div title=\"#00000000\" style=\"display: inline-block; width: 1em; height: 1em; margin: 0; vertical-align: middle; border: 1px solid #555; background-color: #00000000;\"></div></div><div style=\"float: right;\">over <div title=\"#ff0000ff\" style=\"display: inline-block; width: 1em; height: 1em; margin: 0; vertical-align: middle; border: 1px solid #555; background-color: #ff0000ff;\"></div></div>"
      ],
      "text/plain": [
       "<matplotlib.colors.LinearSegmentedColormap at 0x1137d7cd0>"
      ]
     },
     "execution_count": 4,
     "metadata": {},
     "output_type": "execute_result"
    }
   ],
   "source": [
    "plt.get_cmap('rainbow')"
   ]
  },
  {
   "cell_type": "code",
   "execution_count": 26,
   "id": "aa034fa9-8b9a-4f11-8e6b-a8466b9b08e6",
   "metadata": {},
   "outputs": [
    {
     "data": {
      "text/plain": [
       "['#376df8', '#5af8c7', '#ecc76e', '#a4f89e', '#ff0000', '#ff6d38', '#12c7e5']"
      ]
     },
     "execution_count": 26,
     "metadata": {},
     "output_type": "execute_result"
    }
   ],
   "source": [
    "import random\n",
    "\n",
    "def html_colors(max_group_index, cmap='rainbow'):\n",
    "\n",
    "    def rgb2hex(cmap_color):\n",
    "        r = int(cmap_color[0]*255)\n",
    "        g = int(cmap_color[1]*255)\n",
    "        b = int(cmap_color[2]*255)\n",
    "        return \"#{:02x}{:02x}{:02x}\".format(r,g,b)\n",
    "    \n",
    "    cmap_idx = [i / max_group_index for i in range(1, max_group_index + 1 )]\n",
    "    random.shuffle(cmap_idx)\n",
    "    return [rgb2hex(plt.get_cmap(cmap)(i)) for i in cmap_idx]\n",
    "\n",
    "html_colors(7)"
   ]
  }
 ],
 "metadata": {
  "kernelspec": {
   "display_name": "Python 3 (ipykernel)",
   "language": "python",
   "name": "python3"
  },
  "language_info": {
   "codemirror_mode": {
    "name": "ipython",
    "version": 3
   },
   "file_extension": ".py",
   "mimetype": "text/x-python",
   "name": "python",
   "nbconvert_exporter": "python",
   "pygments_lexer": "ipython3",
   "version": "3.11.4"
  }
 },
 "nbformat": 4,
 "nbformat_minor": 5
}
