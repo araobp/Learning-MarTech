{
 "cells": [
  {
   "cell_type": "markdown",
   "id": "86ac077c-e177-45a4-9e07-24c3a7c8198b",
   "metadata": {},
   "source": [
    "# Language Identification"
   ]
  },
  {
   "cell_type": "code",
   "execution_count": 1,
   "id": "ad0f8181-3796-4923-9cb2-0e843b89de85",
   "metadata": {},
   "outputs": [
    {
     "name": "stdout",
     "output_type": "stream",
     "text": [
      "Requirement already satisfied: langdetect in /Library/Frameworks/Python.framework/Versions/3.11/lib/python3.11/site-packages (1.0.9)\n",
      "Requirement already satisfied: six in /Library/Frameworks/Python.framework/Versions/3.11/lib/python3.11/site-packages (from langdetect) (1.16.0)\n",
      "\n",
      "\u001b[1m[\u001b[0m\u001b[34;49mnotice\u001b[0m\u001b[1;39;49m]\u001b[0m\u001b[39;49m A new release of pip is available: \u001b[0m\u001b[31;49m23.1.2\u001b[0m\u001b[39;49m -> \u001b[0m\u001b[32;49m23.3.2\u001b[0m\n",
      "\u001b[1m[\u001b[0m\u001b[34;49mnotice\u001b[0m\u001b[1;39;49m]\u001b[0m\u001b[39;49m To update, run: \u001b[0m\u001b[32;49mpip3 install --upgrade pip\u001b[0m\n"
     ]
    }
   ],
   "source": [
    "from langdetect import detect, detect_langs"
   ]
  },
  {
   "cell_type": "code",
   "execution_count": 2,
   "id": "534c56bf-9de9-4b55-80d2-cb129f84b108",
   "metadata": {},
   "outputs": [
    {
     "data": {
      "text/plain": [
       "'ja'"
      ]
     },
     "execution_count": 2,
     "metadata": {},
     "output_type": "execute_result"
    }
   ],
   "source": [
    "detect('自然言語処理ではテキストを言語別で処理します。')"
   ]
  },
  {
   "cell_type": "code",
   "execution_count": 9,
   "id": "8bcea996-687b-44a6-83e8-c41b1cbd324a",
   "metadata": {},
   "outputs": [
    {
     "data": {
      "text/plain": [
       "'en'"
      ]
     },
     "execution_count": 9,
     "metadata": {},
     "output_type": "execute_result"
    }
   ],
   "source": [
    "detect('In natural language processing, text is processed based on the language it belongs to.')"
   ]
  },
  {
   "cell_type": "code",
   "execution_count": 11,
   "id": "e7063582-a095-4ce2-97d4-2f1ad07f517c",
   "metadata": {},
   "outputs": [
    {
     "data": {
      "text/plain": [
       "'de'"
      ]
     },
     "execution_count": 11,
     "metadata": {},
     "output_type": "execute_result"
    }
   ],
   "source": [
    "detect('In der natürlichen Sprachverarbeitung wird Text sprachspezifisch verarbeitet.')"
   ]
  },
  {
   "cell_type": "code",
   "execution_count": 12,
   "id": "cd79c682-5fb0-4ea8-a8c1-0eb57db9bdc4",
   "metadata": {},
   "outputs": [
    {
     "data": {
      "text/plain": [
       "[zh-cn:0.9999994194651686]"
      ]
     },
     "execution_count": 12,
     "metadata": {},
     "output_type": "execute_result"
    }
   ],
   "source": [
    "detect_langs('在自然语言处理中，我们会根据语言对文本进行处理')"
   ]
  },
  {
   "cell_type": "code",
   "execution_count": 13,
   "id": "3f8298f0-8cda-40c8-9b1d-aa47831d379c",
   "metadata": {},
   "outputs": [
    {
     "data": {
      "text/plain": [
       "[ko:0.999997768589926]"
      ]
     },
     "execution_count": 13,
     "metadata": {},
     "output_type": "execute_result"
    }
   ],
   "source": [
    "detect_langs('텍스트를 언어별로 처리합니다')"
   ]
  }
 ],
 "metadata": {
  "kernelspec": {
   "display_name": "Python 3 (ipykernel)",
   "language": "python",
   "name": "python3"
  },
  "language_info": {
   "codemirror_mode": {
    "name": "ipython",
    "version": 3
   },
   "file_extension": ".py",
   "mimetype": "text/x-python",
   "name": "python",
   "nbconvert_exporter": "python",
   "pygments_lexer": "ipython3",
   "version": "3.11.4"
  }
 },
 "nbformat": 4,
 "nbformat_minor": 5
}
