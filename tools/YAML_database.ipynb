{
 "cells": [
  {
   "cell_type": "markdown",
   "id": "e95b684c-abf7-45db-a3c6-820736e4b887",
   "metadata": {},
   "source": [
    "# YAML Database\n",
    "\n",
    "Date: 2024/03/27\n",
    "\n",
    "複数のファイルへファイル単位でNLPなど行い、その結果を、YAMLへ集約したい。\n",
    "NLPの処理は結構時間かかるので、私の仕事では、大量のファイルを処理すると10分以上かかる。\n",
    "新規作成や更新されたファイルのみ処理したい。"
   ]
  },
  {
   "cell_type": "markdown",
   "id": "6a716aa4-126f-445f-9615-e2f45bc2efcf",
   "metadata": {},
   "source": [
    "## Dummy file 生成"
   ]
  },
  {
   "cell_type": "code",
   "execution_count": 1,
   "id": "8c63cc59-cc99-4349-b6d3-e1b9350569bf",
   "metadata": {},
   "outputs": [],
   "source": [
    "import random\n",
    "\n",
    "with open('tmp/test1.txt', 'w') as f:\n",
    "    f.write(str(random.random()))\n",
    "with open('tmp/test1.txt', 'w') as f:\n",
    "    f.write(str(random.random()))\n",
    "with open('tmp/test1.txt', 'w') as f:\n",
    "    f.write(str(random.random()))\n",
    "with open('tmp/test1.txt', 'w') as f:\n",
    "    f.write(str(random.random()))"
   ]
  },
  {
   "cell_type": "code",
   "execution_count": 2,
   "id": "39f0cafc-81d4-43e3-8dc2-87041b5e1a32",
   "metadata": {},
   "outputs": [
    {
     "data": {
      "text/plain": [
       "[1711536435.0841026,\n",
       " 1711536448.0236292,\n",
       " 1711502152.1057749,\n",
       " 1711502149.0519512]"
      ]
     },
     "execution_count": 2,
     "metadata": {},
     "output_type": "execute_result"
    }
   ],
   "source": [
    "import glob\n",
    "import os\n",
    "\n",
    "paths = glob.glob('tmp/test*.txt')\n",
    "# 作成時間\n",
    "[os.path.getctime(path) for path in paths]"
   ]
  },
  {
   "cell_type": "markdown",
   "id": "87a1a7d0-3236-426d-ae2e-f184d6f8fccc",
   "metadata": {},
   "source": [
    "## yaml_db クラス"
   ]
  },
  {
   "cell_type": "code",
   "execution_count": 3,
   "id": "16835d2e-1dde-440b-97cd-af031f5b167e",
   "metadata": {},
   "outputs": [],
   "source": [
    "import os\n",
    "import yaml\n",
    "\n",
    "class yaml_db:\n",
    "\n",
    "    # (C)RUD\n",
    "    def __init__(self, db_path):\n",
    "        self.db_path = db_path\n",
    "        if os.path.exists(db_path):\n",
    "            with open(db_path, 'r', encoding='utf-8') as f:\n",
    "                self.db = yaml.safe_load(f)\n",
    "        else:\n",
    "            self.db = {}\n",
    "            with open(db_path, 'w', encoding='utf-8') as f:\n",
    "                f.write(yaml.dump(db))\n",
    "\n",
    "    def check(self, path):\n",
    "        return path not in self.db.keys() or self.db[path]['timestamp'] != os.path.getmtime(path)\n",
    "        \n",
    "    # CR(U)D\n",
    "    def update(self, path, content):\n",
    "        if os.path.exists(path) and ((path not in self.db.keys()) or (self.db[path]['timestamp'] != os.path.getmtime(path))):\n",
    "            self.db[path] = {'timestamp': os.path.getmtime(path) ,'content': content}\n",
    "            return True\n",
    "        else:\n",
    "            return False\n",
    "\n",
    "    # C(R)UD\n",
    "    def read(self, path):\n",
    "        if path in self.db.keys():\n",
    "            return self.db[path]\n",
    "        else:\n",
    "            False\n",
    "\n",
    "    def read_all(self):\n",
    "        db_ = {}\n",
    "        for path in self.db.keys():\n",
    "            db_[path] = self.db[path]['content']\n",
    "        return db_\n",
    "\n",
    "    def delete(self, path):\n",
    "        if path in self.db.keys():\n",
    "            del self.db[path]\n",
    "            return True\n",
    "        else:\n",
    "            return False\n",
    "\n",
    "    def delete_all(self):\n",
    "        self.db = {}\n",
    "        return True\n",
    "        \n",
    "    def commit(self):\n",
    "        try:\n",
    "            with open(self.db_path, 'w', encoding='utf-8') as f:\n",
    "                f.write(yaml.dump(self.db))\n",
    "                return True\n",
    "        except:\n",
    "            return False"
   ]
  },
  {
   "cell_type": "markdown",
   "id": "bccc0430-dd41-4a1b-ac01-48c36af9140d",
   "metadata": {},
   "source": [
    "## テスト"
   ]
  },
  {
   "cell_type": "code",
   "execution_count": 4,
   "id": "3e91daa8-312e-41b5-90bd-cc7459064fd2",
   "metadata": {},
   "outputs": [
    {
     "data": {
      "text/plain": [
       "True"
      ]
     },
     "execution_count": 4,
     "metadata": {},
     "output_type": "execute_result"
    }
   ],
   "source": [
    "db = yaml_db('tmp/db.yaml')\n",
    "db.delete_all()"
   ]
  },
  {
   "cell_type": "code",
   "execution_count": 5,
   "id": "06d437af-894a-4007-8fbe-8e2e9a3aa33a",
   "metadata": {},
   "outputs": [
    {
     "data": {
      "text/plain": [
       "True"
      ]
     },
     "execution_count": 5,
     "metadata": {},
     "output_type": "execute_result"
    }
   ],
   "source": [
    "db.check('tmp/test1.txt')"
   ]
  },
  {
   "cell_type": "code",
   "execution_count": 6,
   "id": "8a7be5d2-7df7-4352-a6c5-98ef0ba61af3",
   "metadata": {},
   "outputs": [
    {
     "data": {
      "text/plain": [
       "[True, True, True, True]"
      ]
     },
     "execution_count": 6,
     "metadata": {},
     "output_type": "execute_result"
    }
   ],
   "source": [
    "r1 = db.update('tmp/test1.txt', str(random.random()))\n",
    "r2 = db.update('tmp/test2.txt', str(random.random()))\n",
    "r3 = db.update('tmp/test3.txt', str(random.random()))\n",
    "r4 = db.update('tmp/test4.txt', str(random.random()))\n",
    "[r1, r2, r3, r4]"
   ]
  },
  {
   "cell_type": "code",
   "execution_count": 7,
   "id": "8082f5c5-81ed-4fd6-84e7-126cb6658dca",
   "metadata": {},
   "outputs": [],
   "source": [
    "import time\n",
    "time.sleep(3)\n",
    "\n",
    "with open('tmp/test1.txt', 'w') as f:\n",
    "    f.write(str(random.random()))\n",
    "\n",
    "with open('tmp/test4.txt', 'w') as f:\n",
    "    f.write(str(random.random()))"
   ]
  },
  {
   "cell_type": "code",
   "execution_count": 8,
   "id": "1d4b65a5-c8ed-4042-b1d4-80b929835833",
   "metadata": {},
   "outputs": [
    {
     "data": {
      "text/plain": [
       "[True, False, False, True]"
      ]
     },
     "execution_count": 8,
     "metadata": {},
     "output_type": "execute_result"
    }
   ],
   "source": [
    "r1 = db.update('tmp/test1.txt', str(random.random()))\n",
    "r2 = db.update('tmp/test2.txt', str(random.random()))\n",
    "r3 = db.update('tmp/test3.txt', str(random.random()))\n",
    "r4 = db.update('tmp/test4.txt', str(random.random()))\n",
    "[r1, r2, r3, r4]"
   ]
  },
  {
   "cell_type": "code",
   "execution_count": 9,
   "id": "bdfc3eb0-d240-4706-918f-4f9b070d877a",
   "metadata": {},
   "outputs": [
    {
     "data": {
      "text/plain": [
       "False"
      ]
     },
     "execution_count": 9,
     "metadata": {},
     "output_type": "execute_result"
    }
   ],
   "source": [
    "db.check('tmp/test1.txt')"
   ]
  },
  {
   "cell_type": "code",
   "execution_count": 10,
   "id": "6f2f4ad4-15fe-461e-bebe-fddf2b780025",
   "metadata": {},
   "outputs": [
    {
     "data": {
      "text/plain": [
       "False"
      ]
     },
     "execution_count": 10,
     "metadata": {},
     "output_type": "execute_result"
    }
   ],
   "source": [
    "db.update('tmp/test5.txt', str(random.random()))"
   ]
  },
  {
   "cell_type": "code",
   "execution_count": 11,
   "id": "aff69e22-a899-4620-a209-f6b9a1bc9ea9",
   "metadata": {},
   "outputs": [
    {
     "data": {
      "text/plain": [
       "{'timestamp': 1711536451.086429, 'content': '0.07870997096548338'}"
      ]
     },
     "execution_count": 11,
     "metadata": {},
     "output_type": "execute_result"
    }
   ],
   "source": [
    "db.read('tmp/test1.txt')"
   ]
  },
  {
   "cell_type": "code",
   "execution_count": 12,
   "id": "d03345d5-4470-4adc-8701-01d1d00e8ab8",
   "metadata": {},
   "outputs": [
    {
     "data": {
      "text/plain": [
       "{'tmp/test1.txt': '0.07870997096548338',\n",
       " 'tmp/test2.txt': '0.0930992549601517',\n",
       " 'tmp/test3.txt': '0.34313957275316975',\n",
       " 'tmp/test4.txt': '0.7783836999858296'}"
      ]
     },
     "execution_count": 12,
     "metadata": {},
     "output_type": "execute_result"
    }
   ],
   "source": [
    "db.read_all()"
   ]
  },
  {
   "cell_type": "code",
   "execution_count": 13,
   "id": "841d6960-8d73-41c7-84c7-83e933599d8c",
   "metadata": {},
   "outputs": [
    {
     "data": {
      "text/plain": [
       "True"
      ]
     },
     "execution_count": 13,
     "metadata": {},
     "output_type": "execute_result"
    }
   ],
   "source": [
    "db.commit()"
   ]
  }
 ],
 "metadata": {
  "kernelspec": {
   "display_name": "Python 3 (ipykernel)",
   "language": "python",
   "name": "python3"
  },
  "language_info": {
   "codemirror_mode": {
    "name": "ipython",
    "version": 3
   },
   "file_extension": ".py",
   "mimetype": "text/x-python",
   "name": "python",
   "nbconvert_exporter": "python",
   "pygments_lexer": "ipython3",
   "version": "3.11.4"
  }
 },
 "nbformat": 4,
 "nbformat_minor": 5
}
